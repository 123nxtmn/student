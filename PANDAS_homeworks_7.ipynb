{
 "cells": [
  {
   "cell_type": "markdown",
   "metadata": {},
   "source": [
    "#   Считайте данные из Google Sheets, которые находятся по этой ссылке при помощи библиотеки requests. \n",
    "                      Посчитайте процент мужчин среди всех посетителей сайта, округлите ответ до целых.\n",
    "\n",
    "                          Воспользуйтесь этим кодом, чтобы перевести данные из реквеста в пандас\n",
    "                        ____________________________________________________________________________"
   ]
  },
  {
   "cell_type": "code",
   "execution_count": 44,
   "metadata": {},
   "outputs": [],
   "source": [
    "import pandas as pd\n",
    "import gspread\n",
    "from df2gspread import df2gspread as d2g\n",
    "from oauth2client.service_account import ServiceAccountCredentials\n",
    "from io import BytesIO\n",
    "import requests\n",
    "import numpy as np\n",
    "\n",
    "# считаем библиотеки"
   ]
  },
  {
   "cell_type": "code",
   "execution_count": 45,
   "metadata": {},
   "outputs": [],
   "source": [
    "link = 'https://docs.google.com/spreadsheets/d/1e3PRXmMNXo9AZZnaol1aHgYxtH6KYaCDymEQlK6jaO8/export?format=csv'\n",
    "req = requests.get(link)\n",
    "data = req.content\n",
    "\n",
    "df = pd.read_csv(BytesIO(data))\n",
    "\n",
    "# здесь мы СКОПИРОВАЛИ ССЫЛКУ ИЗ ЗАДАНИЯ ПРАВОЙ КЛАВИШЕЙ МЫШИ\n",
    "# далее зададим переменную, в которой обратимся к методу requests.get(link)\n",
    "# в котором скажем - скачай файл при помощи requests и при помощи get получи\n",
    "# ответ от сайта, на котором храняться данные из переменной (link)\n",
    "# далее создадим ещё одну переменную, где в функции req. и атрибуте content\n",
    "# будет лежать наш конечный файл\n",
    "\n",
    "# далее создадим переменную, df \n",
    "# где скажем при помощи метода pd.read_csv прочитаем наш файл data\n",
    "# указав расширение BytesIO так как наши данные хранятся в формате b - bytes\n",
    "# и нам необходимо их конвертировать и правильно прочитать \n",
    "# b'date,gender,users\\r\\n2020-06-14,Not specified,150\\r\\"
   ]
  },
  {
   "cell_type": "code",
   "execution_count": 46,
   "metadata": {},
   "outputs": [
    {
     "data": {
      "text/plain": [
       "b'date,gender,users\\r\\n2020-06-14,Not specified,150\\r\\n2020-06-14,male,117\\r\\n2020-06-14,female,21'"
      ]
     },
     "execution_count": 46,
     "metadata": {},
     "output_type": "execute_result"
    }
   ],
   "source": [
    "data\n",
    "# помсмотрим то, о чём говорили ранее, то, в чём хранятся данные"
   ]
  },
  {
   "cell_type": "code",
   "execution_count": 47,
   "metadata": {},
   "outputs": [
    {
     "data": {
      "text/html": [
       "<div>\n",
       "<style scoped>\n",
       "    .dataframe tbody tr th:only-of-type {\n",
       "        vertical-align: middle;\n",
       "    }\n",
       "\n",
       "    .dataframe tbody tr th {\n",
       "        vertical-align: top;\n",
       "    }\n",
       "\n",
       "    .dataframe thead th {\n",
       "        text-align: right;\n",
       "    }\n",
       "</style>\n",
       "<table border=\"1\" class=\"dataframe\">\n",
       "  <thead>\n",
       "    <tr style=\"text-align: right;\">\n",
       "      <th></th>\n",
       "      <th>date</th>\n",
       "      <th>gender</th>\n",
       "      <th>users</th>\n",
       "    </tr>\n",
       "  </thead>\n",
       "  <tbody>\n",
       "    <tr>\n",
       "      <th>0</th>\n",
       "      <td>2020-06-14</td>\n",
       "      <td>Not specified</td>\n",
       "      <td>150</td>\n",
       "    </tr>\n",
       "    <tr>\n",
       "      <th>1</th>\n",
       "      <td>2020-06-14</td>\n",
       "      <td>male</td>\n",
       "      <td>117</td>\n",
       "    </tr>\n",
       "    <tr>\n",
       "      <th>2</th>\n",
       "      <td>2020-06-14</td>\n",
       "      <td>female</td>\n",
       "      <td>21</td>\n",
       "    </tr>\n",
       "  </tbody>\n",
       "</table>\n",
       "</div>"
      ],
      "text/plain": [
       "         date         gender  users\n",
       "0  2020-06-14  Not specified    150\n",
       "1  2020-06-14           male    117\n",
       "2  2020-06-14         female     21"
      ]
     },
     "execution_count": 47,
     "metadata": {},
     "output_type": "execute_result"
    }
   ],
   "source": [
    "df"
   ]
  },
  {
   "cell_type": "code",
   "execution_count": 48,
   "metadata": {},
   "outputs": [],
   "source": [
    "df['precent'] = (df.users / df.users.sum() * 100).round()\n",
    "\n",
    "# далее создадим новую колонку precent\n",
    "# посчитаем процент мужчин male среди всех польователей сайта\n",
    "# округлим ответ до целых \n",
    "\n",
    "# в скобки передадим df.users тоесть датафрейм и колонку\n",
    "# и разделим на эту же колонку, после чего укажем .sum()\n",
    "# что бы найти общую сумму двух колонок после деления\n",
    "# после чего умножим на 100 что бы перевести  впроцент полученное значение\n",
    "# а дале - укажем .round что бы округлить полученный результат до целых"
   ]
  },
  {
   "cell_type": "code",
   "execution_count": 49,
   "metadata": {},
   "outputs": [
    {
     "data": {
      "text/html": [
       "<div>\n",
       "<style scoped>\n",
       "    .dataframe tbody tr th:only-of-type {\n",
       "        vertical-align: middle;\n",
       "    }\n",
       "\n",
       "    .dataframe tbody tr th {\n",
       "        vertical-align: top;\n",
       "    }\n",
       "\n",
       "    .dataframe thead th {\n",
       "        text-align: right;\n",
       "    }\n",
       "</style>\n",
       "<table border=\"1\" class=\"dataframe\">\n",
       "  <thead>\n",
       "    <tr style=\"text-align: right;\">\n",
       "      <th></th>\n",
       "      <th>date</th>\n",
       "      <th>gender</th>\n",
       "      <th>users</th>\n",
       "      <th>precent</th>\n",
       "    </tr>\n",
       "  </thead>\n",
       "  <tbody>\n",
       "    <tr>\n",
       "      <th>0</th>\n",
       "      <td>2020-06-14</td>\n",
       "      <td>Not specified</td>\n",
       "      <td>150</td>\n",
       "      <td>52.0</td>\n",
       "    </tr>\n",
       "    <tr>\n",
       "      <th>1</th>\n",
       "      <td>2020-06-14</td>\n",
       "      <td>male</td>\n",
       "      <td>117</td>\n",
       "      <td>41.0</td>\n",
       "    </tr>\n",
       "    <tr>\n",
       "      <th>2</th>\n",
       "      <td>2020-06-14</td>\n",
       "      <td>female</td>\n",
       "      <td>21</td>\n",
       "      <td>7.0</td>\n",
       "    </tr>\n",
       "  </tbody>\n",
       "</table>\n",
       "</div>"
      ],
      "text/plain": [
       "         date         gender  users  precent\n",
       "0  2020-06-14  Not specified    150     52.0\n",
       "1  2020-06-14           male    117     41.0\n",
       "2  2020-06-14         female     21      7.0"
      ]
     },
     "execution_count": 49,
     "metadata": {},
     "output_type": "execute_result"
    }
   ],
   "source": [
    "df"
   ]
  },
  {
   "cell_type": "code",
   "execution_count": null,
   "metadata": {},
   "outputs": [],
   "source": []
  },
  {
   "cell_type": "markdown",
   "metadata": {},
   "source": [
    "                          _________________________________________________________________                                                     \n",
    "                                                    YANDEX METRYCS\n",
    "\n",
    "                        Скачайте файл с данными посещаемости сайта Яндекс.Метрика отсюда\n",
    "                                            (сохранен в переменную df). \n",
    "                        При помощи функции np.where создайте серию, в которую будет записываться 1,\n",
    "                        если посещения были сделаны роботами с браузера, содержащего Chrome в названии,\n",
    "                        и 0 в других случаях. Поместите получившуюся серию в переменную chrome_robots.\n",
    "\n",
    "Может понадобиться:\n",
    "\n",
    "str.contains()\n",
    "                                           ___________________________________"
   ]
  },
  {
   "cell_type": "code",
   "execution_count": 50,
   "metadata": {},
   "outputs": [],
   "source": [
    "df = pd.read_csv('7_browser.csv')\n",
    "\n",
    "# для начала прочитаем файл при помощи pd.read_csv"
   ]
  },
  {
   "cell_type": "code",
   "execution_count": 51,
   "metadata": {},
   "outputs": [
    {
     "data": {
      "text/html": [
       "<div>\n",
       "<style scoped>\n",
       "    .dataframe tbody tr th:only-of-type {\n",
       "        vertical-align: middle;\n",
       "    }\n",
       "\n",
       "    .dataframe tbody tr th {\n",
       "        vertical-align: top;\n",
       "    }\n",
       "\n",
       "    .dataframe thead th {\n",
       "        text-align: right;\n",
       "    }\n",
       "</style>\n",
       "<table border=\"1\" class=\"dataframe\">\n",
       "  <thead>\n",
       "    <tr style=\"text-align: right;\">\n",
       "      <th></th>\n",
       "      <th>date</th>\n",
       "      <th>browser</th>\n",
       "      <th>user_type</th>\n",
       "      <th>users</th>\n",
       "    </tr>\n",
       "  </thead>\n",
       "  <tbody>\n",
       "    <tr>\n",
       "      <th>0</th>\n",
       "      <td>2020-06-14</td>\n",
       "      <td>Google Chrome</td>\n",
       "      <td>People</td>\n",
       "      <td>139</td>\n",
       "    </tr>\n",
       "    <tr>\n",
       "      <th>1</th>\n",
       "      <td>2020-06-14</td>\n",
       "      <td>Chrome Mobile</td>\n",
       "      <td>People</td>\n",
       "      <td>35</td>\n",
       "    </tr>\n",
       "    <tr>\n",
       "      <th>2</th>\n",
       "      <td>2020-06-14</td>\n",
       "      <td>Google Chrome</td>\n",
       "      <td>Robots</td>\n",
       "      <td>28</td>\n",
       "    </tr>\n",
       "    <tr>\n",
       "      <th>3</th>\n",
       "      <td>2020-06-14</td>\n",
       "      <td>Yandex Browser</td>\n",
       "      <td>People</td>\n",
       "      <td>22</td>\n",
       "    </tr>\n",
       "    <tr>\n",
       "      <th>4</th>\n",
       "      <td>2020-06-14</td>\n",
       "      <td>Firefox</td>\n",
       "      <td>People</td>\n",
       "      <td>15</td>\n",
       "    </tr>\n",
       "  </tbody>\n",
       "</table>\n",
       "</div>"
      ],
      "text/plain": [
       "         date         browser user_type  users\n",
       "0  2020-06-14   Google Chrome    People    139\n",
       "1  2020-06-14   Chrome Mobile    People     35\n",
       "2  2020-06-14   Google Chrome    Robots     28\n",
       "3  2020-06-14  Yandex Browser    People     22\n",
       "4  2020-06-14         Firefox    People     15"
      ]
     },
     "execution_count": 51,
     "metadata": {},
     "output_type": "execute_result"
    }
   ],
   "source": [
    "df.head()\n",
    "\n",
    "# посмотрим что содержится в данных"
   ]
  },
  {
   "cell_type": "code",
   "execution_count": 52,
   "metadata": {},
   "outputs": [
    {
     "data": {
      "text/plain": [
       "0     0\n",
       "1     0\n",
       "2     1\n",
       "3     0\n",
       "4     0\n",
       "5     0\n",
       "6     0\n",
       "7     0\n",
       "8     0\n",
       "9     0\n",
       "10    0\n",
       "11    0\n",
       "12    0\n",
       "13    0\n",
       "14    0\n",
       "15    0\n",
       "16    0\n",
       "17    0\n",
       "18    0\n",
       "19    1\n",
       "20    0\n",
       "21    0\n",
       "22    0\n",
       "23    0\n",
       "dtype: int64"
      ]
     },
     "execution_count": 52,
     "metadata": {},
     "output_type": "execute_result"
    }
   ],
   "source": [
    "chrome_robots"
   ]
  },
  {
   "cell_type": "code",
   "execution_count": 53,
   "metadata": {},
   "outputs": [],
   "source": [
    "chrome_robots = pd.Series(np.where((df.browser.str.contains('Chrome')) & (df.user_type == 'Robots'), 1, 0))\n",
    "\n",
    "# нам необходимо при помощи np.where которая является функцией библиотеки numpy\n",
    "# указав нужные условия создать pd.Series где будут либо единицы, либо ноль\n",
    "# в зависимости от того, выполнилось ли наше условие или нет\n",
    "# np.where - принимает на вход верные и неверные условия в зависимости от\n",
    "# чего у нас меняются значения и сами значения \n",
    "# первым делом мы запишем условие, куда передадим датафрейм.колонку. обозначим что это срока str\n",
    "# для того, что бы строковые методы и работа с ними стала доступна\n",
    "# озвращает логические ряды или индексы в зависимости от того, содержится ли данный шаблон\n",
    "# или регулярное выражение в строке ряда или индекса.\n",
    "# куда мы и передадим значение колонки 'Crome'\n",
    "# далее знак & обозначает - а так же\n",
    "# а так же указываем то, что df.user_type должна быть равна 'Robots'\n",
    "# если оба этих начения выполнены и встретились\n",
    "# то питон проставит 1 - единицу - True, если не встретится поставит 0 - ноль - False\n"
   ]
  },
  {
   "cell_type": "code",
   "execution_count": 54,
   "metadata": {},
   "outputs": [
    {
     "data": {
      "text/plain": [
       "0     0\n",
       "1     0\n",
       "2     1\n",
       "3     0\n",
       "4     0\n",
       "5     0\n",
       "6     0\n",
       "7     0\n",
       "8     0\n",
       "9     0\n",
       "10    0\n",
       "11    0\n",
       "12    0\n",
       "13    0\n",
       "14    0\n",
       "15    0\n",
       "16    0\n",
       "17    0\n",
       "18    0\n",
       "19    1\n",
       "20    0\n",
       "21    0\n",
       "22    0\n",
       "23    0\n",
       "dtype: int64"
      ]
     },
     "execution_count": 54,
     "metadata": {},
     "output_type": "execute_result"
    }
   ],
   "source": [
    "chrome_robots\n",
    "\n",
    "# Посмотрим на результат"
   ]
  },
  {
   "cell_type": "raw",
   "metadata": {},
   "source": [
    "chrome_robots = np.where(df.browser.str.contains('Chrome'), 1, 0)\n",
    "# так выглядит массив в сыром виде\n"
   ]
  },
  {
   "cell_type": "markdown",
   "metadata": {},
   "source": [
    "                            У вас есть датасет с данными о кликах и показах по объявлению,\n",
    "                                             в котором есть пропуски. \n",
    "                            Вычислите количество строк без пропусков в колонке click_type.\n",
    "                                      Запишите ответ в переменную not_nan_count\n",
    "\n",
    "                                              ad_id – id объявления\n",
    "                                            user_id – id пользователя\n",
    "                            click_type – тип клика (клик по заголовку объявления, клик по центру)\n",
    "                                         Данные сохранены в переменную df."
   ]
  },
  {
   "cell_type": "code",
   "execution_count": 63,
   "metadata": {},
   "outputs": [],
   "source": [
    "df = pd.read_csv('sample_ads.csv')\n",
    "\n",
    "# считаем загруженные данные"
   ]
  },
  {
   "cell_type": "code",
   "execution_count": 65,
   "metadata": {},
   "outputs": [
    {
     "data": {
      "text/html": [
       "<div>\n",
       "<style scoped>\n",
       "    .dataframe tbody tr th:only-of-type {\n",
       "        vertical-align: middle;\n",
       "    }\n",
       "\n",
       "    .dataframe tbody tr th {\n",
       "        vertical-align: top;\n",
       "    }\n",
       "\n",
       "    .dataframe thead th {\n",
       "        text-align: right;\n",
       "    }\n",
       "</style>\n",
       "<table border=\"1\" class=\"dataframe\">\n",
       "  <thead>\n",
       "    <tr style=\"text-align: right;\">\n",
       "      <th></th>\n",
       "      <th>ad_id</th>\n",
       "      <th>user_id</th>\n",
       "      <th>click_type</th>\n",
       "    </tr>\n",
       "  </thead>\n",
       "  <tbody>\n",
       "    <tr>\n",
       "      <th>0</th>\n",
       "      <td>12345</td>\n",
       "      <td>qwert</td>\n",
       "      <td>top</td>\n",
       "    </tr>\n",
       "    <tr>\n",
       "      <th>1</th>\n",
       "      <td>12345</td>\n",
       "      <td>fsssc</td>\n",
       "      <td>center</td>\n",
       "    </tr>\n",
       "    <tr>\n",
       "      <th>2</th>\n",
       "      <td>12345</td>\n",
       "      <td>vfvgg</td>\n",
       "      <td>NaN</td>\n",
       "    </tr>\n",
       "    <tr>\n",
       "      <th>3</th>\n",
       "      <td>12345</td>\n",
       "      <td>asrvv</td>\n",
       "      <td>NaN</td>\n",
       "    </tr>\n",
       "    <tr>\n",
       "      <th>4</th>\n",
       "      <td>12345</td>\n",
       "      <td>tynuy</td>\n",
       "      <td>top</td>\n",
       "    </tr>\n",
       "    <tr>\n",
       "      <th>5</th>\n",
       "      <td>12345</td>\n",
       "      <td>vreio</td>\n",
       "      <td>NaN</td>\n",
       "    </tr>\n",
       "    <tr>\n",
       "      <th>6</th>\n",
       "      <td>12345</td>\n",
       "      <td>oirbv</td>\n",
       "      <td>top</td>\n",
       "    </tr>\n",
       "    <tr>\n",
       "      <th>7</th>\n",
       "      <td>12345</td>\n",
       "      <td>kjvbe</td>\n",
       "      <td>NaN</td>\n",
       "    </tr>\n",
       "    <tr>\n",
       "      <th>8</th>\n",
       "      <td>12345</td>\n",
       "      <td>vkrej</td>\n",
       "      <td>center</td>\n",
       "    </tr>\n",
       "    <tr>\n",
       "      <th>9</th>\n",
       "      <td>12345</td>\n",
       "      <td>krjvb</td>\n",
       "      <td>top</td>\n",
       "    </tr>\n",
       "    <tr>\n",
       "      <th>10</th>\n",
       "      <td>12345</td>\n",
       "      <td>vrejn</td>\n",
       "      <td>top</td>\n",
       "    </tr>\n",
       "    <tr>\n",
       "      <th>11</th>\n",
       "      <td>12345</td>\n",
       "      <td>vrejk</td>\n",
       "      <td>center</td>\n",
       "    </tr>\n",
       "    <tr>\n",
       "      <th>12</th>\n",
       "      <td>12345</td>\n",
       "      <td>pirbv</td>\n",
       "      <td>NaN</td>\n",
       "    </tr>\n",
       "    <tr>\n",
       "      <th>13</th>\n",
       "      <td>12345</td>\n",
       "      <td>mpev</td>\n",
       "      <td>NaN</td>\n",
       "    </tr>\n",
       "    <tr>\n",
       "      <th>14</th>\n",
       "      <td>12345</td>\n",
       "      <td>pi3bvk</td>\n",
       "      <td>top</td>\n",
       "    </tr>\n",
       "    <tr>\n",
       "      <th>15</th>\n",
       "      <td>12345</td>\n",
       "      <td>osbvor</td>\n",
       "      <td>center</td>\n",
       "    </tr>\n",
       "    <tr>\n",
       "      <th>16</th>\n",
       "      <td>12345</td>\n",
       "      <td>vrbuo</td>\n",
       "      <td>NaN</td>\n",
       "    </tr>\n",
       "    <tr>\n",
       "      <th>17</th>\n",
       "      <td>12345</td>\n",
       "      <td>o3b0v</td>\n",
       "      <td>top</td>\n",
       "    </tr>\n",
       "  </tbody>\n",
       "</table>\n",
       "</div>"
      ],
      "text/plain": [
       "    ad_id user_id click_type\n",
       "0   12345   qwert        top\n",
       "1   12345   fsssc     center\n",
       "2   12345   vfvgg        NaN\n",
       "3   12345   asrvv        NaN\n",
       "4   12345   tynuy        top\n",
       "5   12345   vreio        NaN\n",
       "6   12345   oirbv        top\n",
       "7   12345   kjvbe        NaN\n",
       "8   12345   vkrej     center\n",
       "9   12345   krjvb        top\n",
       "10  12345   vrejn        top\n",
       "11  12345   vrejk     center\n",
       "12  12345   pirbv        NaN\n",
       "13  12345    mpev        NaN\n",
       "14  12345  pi3bvk        top\n",
       "15  12345  osbvor     center\n",
       "16  12345   vrbuo        NaN\n",
       "17  12345   o3b0v        top"
      ]
     },
     "execution_count": 65,
     "metadata": {},
     "output_type": "execute_result"
    }
   ],
   "source": [
    "df\n",
    "# посмотрим на датафрейм и увидим нужную колонку из задания"
   ]
  },
  {
   "cell_type": "code",
   "execution_count": 66,
   "metadata": {},
   "outputs": [],
   "source": [
    "not_nan_count = df.click_type.notna().sum()\n",
    "\n",
    "# создадим новую переменную, в которую запишем результат\n",
    "# обратимся к загруженному датафрейму\n",
    "# далее к колонке click_type\n",
    "# далее применим .notna() которая Обнаруживает существующие (не пропущенные) значения. \n",
    "# Эта функция возвращает логический объект, имеющий тот же размер, \n",
    "# что и объект, указывая, являются ли значения отсутствующими значениями или нет.\n",
    "\n",
    "# и применим .sum() что бы посчитать сумму общего колличества оставшихся\n",
    "# click_type - ов без пропущенных значений"
   ]
  },
  {
   "cell_type": "code",
   "execution_count": 67,
   "metadata": {},
   "outputs": [
    {
     "data": {
      "text/plain": [
       "11"
      ]
     },
     "execution_count": 67,
     "metadata": {},
     "output_type": "execute_result"
    }
   ],
   "source": [
    "not_nan_count\n",
    "# посмотрим результат"
   ]
  },
  {
   "cell_type": "markdown",
   "metadata": {},
   "source": [
    "                    ____________________________________________________________________________\n",
    "                 В списке lst находятся различные элементы. Создайте список new_list и сделайте следующее:\n",
    "\n",
    "               при помощи конструкции try except и цикла попробуйте преобразовать каждое значение в листе в int\n",
    "                      если это получилось – добавьте преобразованное значение  в список new_list\n",
    "                    ____________________________________________________________________________"
   ]
  },
  {
   "cell_type": "code",
   "execution_count": 68,
   "metadata": {},
   "outputs": [],
   "source": [
    "lst = [1, 'lol', '88005553535', '42', 295, -0.5, 0, None]"
   ]
  },
  {
   "cell_type": "code",
   "execution_count": 71,
   "metadata": {},
   "outputs": [],
   "source": [
    "new_list = []\n",
    "for i in lst:\n",
    "    try:\n",
    "        int_i = int(i)\n",
    "        new_list.append(int_i)\n",
    "    except:\n",
    "        pass\n",
    "    \n",
    "# первым делом создадим наш контейнер, в который положим наши значения из верхнего списка\n",
    "# зададим цикл for который пробегается по каждому элементу из списка\n",
    "# сказав ПО каждому(i) ЭЛЕМЕНТУ ИЗ lst(списка) пройтись и конвертировать в int, как?\n",
    "\n",
    "# здесь мы будем использовать консрукцию try и exept она позволит писать в блоке try\n",
    "# некоторый код, который может содержать ошибки, если ошибок в процессе - нет, то он\n",
    "# успешно выполняется \n",
    "# если же ошибки всё же возникают, то блок exept говорит что делать в этом случае\n",
    "# в нашем - игнорировать ошибки\n",
    "\n",
    "# здесь в блоке try мы запишем следущее:\n",
    "#                             создадим переменную int_i\n",
    "#                             где нашу переменную (контейнер) сделаем типом int\n",
    "#                             если она проходит успешно то в new_list добавляем\n",
    "#                             элементы из int_i в new_list где указали .append(int_i)\n",
    "#                             тоесть - В НОВЫЙ СПИСОК.ДОБАВИТЬ из (ЭТОГО СПИСКА)\n",
    "# если же конвертация была неуспешна то:\n",
    "#                             Exept:\n",
    "#                             Игнорировать ошибку"
   ]
  },
  {
   "cell_type": "code",
   "execution_count": 72,
   "metadata": {},
   "outputs": [
    {
     "data": {
      "text/plain": [
       "[1, 88005553535, 42, 295, 0, 0]"
      ]
     },
     "execution_count": 72,
     "metadata": {},
     "output_type": "execute_result"
    }
   ],
   "source": [
    "new_list"
   ]
  },
  {
   "cell_type": "code",
   "execution_count": null,
   "metadata": {},
   "outputs": [],
   "source": []
  },
  {
   "cell_type": "code",
   "execution_count": null,
   "metadata": {},
   "outputs": [],
   "source": []
  },
  {
   "cell_type": "code",
   "execution_count": null,
   "metadata": {},
   "outputs": [],
   "source": []
  },
  {
   "cell_type": "code",
   "execution_count": null,
   "metadata": {},
   "outputs": [],
   "source": []
  },
  {
   "cell_type": "code",
   "execution_count": null,
   "metadata": {},
   "outputs": [],
   "source": []
  },
  {
   "cell_type": "code",
   "execution_count": null,
   "metadata": {},
   "outputs": [],
   "source": []
  },
  {
   "cell_type": "code",
   "execution_count": null,
   "metadata": {},
   "outputs": [],
   "source": []
  },
  {
   "cell_type": "code",
   "execution_count": null,
   "metadata": {},
   "outputs": [],
   "source": []
  }
 ],
 "metadata": {
  "kernelspec": {
   "display_name": "Python 3",
   "language": "python",
   "name": "python3"
  },
  "language_info": {
   "codemirror_mode": {
    "name": "ipython",
    "version": 3
   },
   "file_extension": ".py",
   "mimetype": "text/x-python",
   "name": "python",
   "nbconvert_exporter": "python",
   "pygments_lexer": "ipython3",
   "version": "3.7.3"
  }
 },
 "nbformat": 4,
 "nbformat_minor": 4
}
