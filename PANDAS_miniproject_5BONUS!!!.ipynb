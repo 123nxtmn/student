{
 "cells": [
  {
   "cell_type": "code",
   "execution_count": 178,
   "metadata": {},
   "outputs": [],
   "source": [
    "import pandas as pd"
   ]
  },
  {
   "cell_type": "markdown",
   "metadata": {},
   "source": [
    "_______________________________________________________________________________________________________________\n",
    "_______________________________________________________________________________________________________________\n",
    "                                                    ___________________________________________________________\n",
    "Дополнительный проект\n",
    "В папке subsid (shared/homeworks/python_ds_miniprojects/5_subsid) находятся файлы (tm_sales_1, tm_sales_2, ...)\n",
    "с продажами продуктов через телемаркетинг. Каждый файл содержит, как минимум, 4 колонки (поля): FILIAL_ID,\n",
    "    SUBS_ID, PROD_ID, ACT_DTTM.\n",
    "\n",
    "Суть задачи в том, чтобы проверить подключения продуктов определенным пользователям,\n",
    "соединив файлы о продажах с логами по подключениям в системе.\n",
    "\n",
    "Особенности данных:\n",
    "\n",
    "сотрудники телемаркетинга не всегда указывают полный id, если 'id' нет в начале SUBS_ID, то нужно его добавить\n",
    "поля в файлах могут быть расположены абсолютно случайным образом, но названия полей статичны\n",
    "продажа не засчитывается, если отключение (END_DTTM) произошло меньше чем через 5 минут после подключения (START_DTTM)\n",
    "если в файле с продажами встречается строка без указанного SUBS_ID, она пропускается\n",
    "Сохраните результат в csv файл с разделителем ;, содержащий корректные подключения.\n",
    "\n",
    "Note: обратите внимание на то, как pandas переводит дату из строки, возможно вам понадобится параметр format\n",
    "                                                     ___________________________________________________________\n",
    "_______________________________________________________________________________________________________________\n",
    "_______________________________________________________________________________________________________________"
   ]
  },
  {
   "cell_type": "markdown",
   "metadata": {},
   "source": [
    "                                        ____________________________________\n",
    "                                      Для проверки результатов введите SUBS_ID\n",
    "                                    из полученного датасета в порядке возрастания, \n",
    "                                              через запятую с пробелом.\n",
    "                                        ____________________________________"
   ]
  },
  {
   "cell_type": "code",
   "execution_count": 179,
   "metadata": {},
   "outputs": [],
   "source": [
    "tm_sales_3 = pd.read_csv('/mnt/HC_Volume_18315164/home-jupyter/jupyter-p-dolgih/shared/homeworks/python_ds_miniprojects/5_subsid/subsid/tm_sales_3.csv', sep=';')\n",
    "tm_sales_2 = pd.read_csv('/mnt/HC_Volume_18315164/home-jupyter/jupyter-p-dolgih/shared/homeworks/python_ds_miniprojects/5_subsid/subsid/tm_sales_2.csv', sep=';')\n",
    "tm_sales_1 = pd.read_csv('/mnt/HC_Volume_18315164/home-jupyter/jupyter-p-dolgih/shared/homeworks/python_ds_miniprojects/5_subsid/subsid/tm_sales_1.csv')\n",
    "prod_activations_logs = pd.read_csv('/mnt/HC_Volume_18315164/home-jupyter/jupyter-p-dolgih/shared/homeworks/python_ds_miniprojects/5_subsid/subsid/prod_activations_logs.csv', sep=';')\n",
    "# подгружаем нужные нам данные из папки"
   ]
  },
  {
   "cell_type": "code",
   "execution_count": 180,
   "metadata": {},
   "outputs": [
    {
     "data": {
      "text/html": [
       "<div>\n",
       "<style scoped>\n",
       "    .dataframe tbody tr th:only-of-type {\n",
       "        vertical-align: middle;\n",
       "    }\n",
       "\n",
       "    .dataframe tbody tr th {\n",
       "        vertical-align: top;\n",
       "    }\n",
       "\n",
       "    .dataframe thead th {\n",
       "        text-align: right;\n",
       "    }\n",
       "</style>\n",
       "<table border=\"1\" class=\"dataframe\">\n",
       "  <thead>\n",
       "    <tr style=\"text-align: right;\">\n",
       "      <th></th>\n",
       "      <th>SUBS_ID</th>\n",
       "      <th>PROD_ID</th>\n",
       "      <th>START_DTTM</th>\n",
       "      <th>END_DTTM</th>\n",
       "    </tr>\n",
       "  </thead>\n",
       "  <tbody>\n",
       "    <tr>\n",
       "      <th>1</th>\n",
       "      <td>id4651830</td>\n",
       "      <td>1954</td>\n",
       "      <td>20-03-2020 14:59</td>\n",
       "      <td>01-12-2020 00:00</td>\n",
       "    </tr>\n",
       "    <tr>\n",
       "      <th>5</th>\n",
       "      <td>id7646509</td>\n",
       "      <td>6431</td>\n",
       "      <td>19-03-2020 13:00</td>\n",
       "      <td>19-03-2020 13:03</td>\n",
       "    </tr>\n",
       "    <tr>\n",
       "      <th>2</th>\n",
       "      <td>id7461794</td>\n",
       "      <td>3310</td>\n",
       "      <td>20-03-2020 17:25</td>\n",
       "      <td>01-12-2020 00:00</td>\n",
       "    </tr>\n",
       "    <tr>\n",
       "      <th>3</th>\n",
       "      <td>id5416547</td>\n",
       "      <td>1743</td>\n",
       "      <td>17-03-2020 10:17</td>\n",
       "      <td>25-03-2020 11:00</td>\n",
       "    </tr>\n",
       "    <tr>\n",
       "      <th>4</th>\n",
       "      <td>id8238421</td>\n",
       "      <td>1859</td>\n",
       "      <td>01-03-2020 11:42</td>\n",
       "      <td>01-03-2020 11:43</td>\n",
       "    </tr>\n",
       "  </tbody>\n",
       "</table>\n",
       "</div>"
      ],
      "text/plain": [
       "     SUBS_ID  PROD_ID        START_DTTM          END_DTTM\n",
       "1  id4651830     1954  20-03-2020 14:59  01-12-2020 00:00\n",
       "5  id7646509     6431  19-03-2020 13:00  19-03-2020 13:03\n",
       "2  id7461794     3310  20-03-2020 17:25  01-12-2020 00:00\n",
       "3  id5416547     1743  17-03-2020 10:17  25-03-2020 11:00\n",
       "4  id8238421     1859  01-03-2020 11:42  01-03-2020 11:43"
      ]
     },
     "execution_count": 180,
     "metadata": {},
     "output_type": "execute_result"
    }
   ],
   "source": [
    "prod_activations_logs.head()"
   ]
  },
  {
   "cell_type": "code",
   "execution_count": 181,
   "metadata": {},
   "outputs": [
    {
     "data": {
      "text/html": [
       "<div>\n",
       "<style scoped>\n",
       "    .dataframe tbody tr th:only-of-type {\n",
       "        vertical-align: middle;\n",
       "    }\n",
       "\n",
       "    .dataframe tbody tr th {\n",
       "        vertical-align: top;\n",
       "    }\n",
       "\n",
       "    .dataframe thead th {\n",
       "        text-align: right;\n",
       "    }\n",
       "</style>\n",
       "<table border=\"1\" class=\"dataframe\">\n",
       "  <thead>\n",
       "    <tr style=\"text-align: right;\">\n",
       "      <th></th>\n",
       "      <th>SUBS_ID;FILIAL_ID;PROD_ID;ACT_DTTM</th>\n",
       "    </tr>\n",
       "  </thead>\n",
       "  <tbody>\n",
       "    <tr>\n",
       "      <th>0</th>\n",
       "      <td>id4651830;1;1954;20-03-2020 14:59</td>\n",
       "    </tr>\n",
       "    <tr>\n",
       "      <th>1</th>\n",
       "      <td>7646509;5;6431;19-03-2020 13:00</td>\n",
       "    </tr>\n",
       "    <tr>\n",
       "      <th>2</th>\n",
       "      <td>id7412683;4;3313;22-03-2020 17:25</td>\n",
       "    </tr>\n",
       "  </tbody>\n",
       "</table>\n",
       "</div>"
      ],
      "text/plain": [
       "  SUBS_ID;FILIAL_ID;PROD_ID;ACT_DTTM\n",
       "0  id4651830;1;1954;20-03-2020 14:59\n",
       "1    7646509;5;6431;19-03-2020 13:00\n",
       "2  id7412683;4;3313;22-03-2020 17:25"
      ]
     },
     "execution_count": 181,
     "metadata": {},
     "output_type": "execute_result"
    }
   ],
   "source": [
    "tm_sales_1.head()"
   ]
  },
  {
   "cell_type": "code",
   "execution_count": 182,
   "metadata": {},
   "outputs": [
    {
     "data": {
      "text/html": [
       "<div>\n",
       "<style scoped>\n",
       "    .dataframe tbody tr th:only-of-type {\n",
       "        vertical-align: middle;\n",
       "    }\n",
       "\n",
       "    .dataframe tbody tr th {\n",
       "        vertical-align: top;\n",
       "    }\n",
       "\n",
       "    .dataframe thead th {\n",
       "        text-align: right;\n",
       "    }\n",
       "</style>\n",
       "<table border=\"1\" class=\"dataframe\">\n",
       "  <thead>\n",
       "    <tr style=\"text-align: right;\">\n",
       "      <th></th>\n",
       "      <th>FILIAL_ID</th>\n",
       "      <th>SUBS_ID</th>\n",
       "      <th>PROD_ID</th>\n",
       "      <th>ACT_DTTM</th>\n",
       "    </tr>\n",
       "  </thead>\n",
       "  <tbody>\n",
       "    <tr>\n",
       "      <th>0</th>\n",
       "      <td>3</td>\n",
       "      <td>id5416547</td>\n",
       "      <td>1743</td>\n",
       "      <td>17-03-2020 10:17</td>\n",
       "    </tr>\n",
       "    <tr>\n",
       "      <th>1</th>\n",
       "      <td>4</td>\n",
       "      <td>NaN</td>\n",
       "      <td>7421</td>\n",
       "      <td>12-03-2020 11:25</td>\n",
       "    </tr>\n",
       "    <tr>\n",
       "      <th>2</th>\n",
       "      <td>7</td>\n",
       "      <td>8362218</td>\n",
       "      <td>9879</td>\n",
       "      <td>05-03-2020 11:42</td>\n",
       "    </tr>\n",
       "    <tr>\n",
       "      <th>3</th>\n",
       "      <td>2</td>\n",
       "      <td>2185490</td>\n",
       "      <td>3210</td>\n",
       "      <td>16-03-2020 16:28</td>\n",
       "    </tr>\n",
       "  </tbody>\n",
       "</table>\n",
       "</div>"
      ],
      "text/plain": [
       "   FILIAL_ID    SUBS_ID  PROD_ID          ACT_DTTM\n",
       "0          3  id5416547     1743  17-03-2020 10:17\n",
       "1          4        NaN     7421  12-03-2020 11:25\n",
       "2          7    8362218     9879  05-03-2020 11:42\n",
       "3          2    2185490     3210  16-03-2020 16:28"
      ]
     },
     "execution_count": 182,
     "metadata": {},
     "output_type": "execute_result"
    }
   ],
   "source": [
    "tm_sales_2.head()"
   ]
  },
  {
   "cell_type": "code",
   "execution_count": 183,
   "metadata": {},
   "outputs": [
    {
     "data": {
      "text/html": [
       "<div>\n",
       "<style scoped>\n",
       "    .dataframe tbody tr th:only-of-type {\n",
       "        vertical-align: middle;\n",
       "    }\n",
       "\n",
       "    .dataframe tbody tr th {\n",
       "        vertical-align: top;\n",
       "    }\n",
       "\n",
       "    .dataframe thead th {\n",
       "        text-align: right;\n",
       "    }\n",
       "</style>\n",
       "<table border=\"1\" class=\"dataframe\">\n",
       "  <thead>\n",
       "    <tr style=\"text-align: right;\">\n",
       "      <th></th>\n",
       "      <th>FILIAL_ID</th>\n",
       "      <th>PROD_ID</th>\n",
       "      <th>SUBS_ID</th>\n",
       "      <th>ACT_DTTM</th>\n",
       "    </tr>\n",
       "  </thead>\n",
       "  <tbody>\n",
       "    <tr>\n",
       "      <th>0</th>\n",
       "      <td>3</td>\n",
       "      <td>1499</td>\n",
       "      <td>id5764122</td>\n",
       "      <td>18-03-2020 15:44</td>\n",
       "    </tr>\n",
       "    <tr>\n",
       "      <th>1</th>\n",
       "      <td>6</td>\n",
       "      <td>3020</td>\n",
       "      <td>id7642700</td>\n",
       "      <td>15-03-2020 14:21</td>\n",
       "    </tr>\n",
       "    <tr>\n",
       "      <th>2</th>\n",
       "      <td>2</td>\n",
       "      <td>5677</td>\n",
       "      <td>id1374509</td>\n",
       "      <td>17-03-2020 11:48</td>\n",
       "    </tr>\n",
       "  </tbody>\n",
       "</table>\n",
       "</div>"
      ],
      "text/plain": [
       "   FILIAL_ID  PROD_ID    SUBS_ID          ACT_DTTM\n",
       "0          3     1499  id5764122  18-03-2020 15:44\n",
       "1          6     3020  id7642700  15-03-2020 14:21\n",
       "2          2     5677  id1374509  17-03-2020 11:48"
      ]
     },
     "execution_count": 183,
     "metadata": {},
     "output_type": "execute_result"
    }
   ],
   "source": [
    "tm_sales_3.head()"
   ]
  },
  {
   "cell_type": "code",
   "execution_count": 184,
   "metadata": {},
   "outputs": [],
   "source": [
    "# далее нам нужно склеить три датафрейма о продажах в один, сделаем это с помощью функции pd.concat\n",
    "tm_sales = pd.concat([tm_sales_3, tm_sales_2, tm_sales_3], ignore_index=True)\n",
    "# так же передадим в cocncat значение as_index=True, что бы пандас сам за нас переименовал строки\n",
    "# в датафрейме"
   ]
  },
  {
   "cell_type": "code",
   "execution_count": 185,
   "metadata": {},
   "outputs": [
    {
     "data": {
      "text/plain": [
       "(10, 4)"
      ]
     },
     "execution_count": 185,
     "metadata": {},
     "output_type": "execute_result"
    }
   ],
   "source": [
    "tm_sales.shape\n",
    "# сначала узнаем какая длинна у нашего датафрейма с продажами на данный момент"
   ]
  },
  {
   "cell_type": "code",
   "execution_count": 186,
   "metadata": {},
   "outputs": [],
   "source": [
    "tm_sales = tm_sales.dropna(subset=['SUBS_ID'])\n",
    "# возовем у tm_sales метод dropna, передав ему то, что пропуски необходимо\n",
    "# дропать только по конкретному столбцу SUBS_ID\n",
    "# если же в нём есть проппуски, то строки будут удалены\n",
    "# если ж пропуски будут в каких-то других столбцах\n",
    "# то это в свою очередь будет проигнорировано"
   ]
  },
  {
   "cell_type": "code",
   "execution_count": 187,
   "metadata": {},
   "outputs": [
    {
     "data": {
      "text/plain": [
       "(9, 4)"
      ]
     },
     "execution_count": 187,
     "metadata": {},
     "output_type": "execute_result"
    }
   ],
   "source": [
    "tm_sales.shape\n",
    "# после того, как мы дропнули наш столбец, мы можем увидеть,\n",
    "# что у нас изменилось колличество строк в датафрейме"
   ]
  },
  {
   "cell_type": "code",
   "execution_count": 188,
   "metadata": {},
   "outputs": [
    {
     "data": {
      "text/html": [
       "<div>\n",
       "<style scoped>\n",
       "    .dataframe tbody tr th:only-of-type {\n",
       "        vertical-align: middle;\n",
       "    }\n",
       "\n",
       "    .dataframe tbody tr th {\n",
       "        vertical-align: top;\n",
       "    }\n",
       "\n",
       "    .dataframe thead th {\n",
       "        text-align: right;\n",
       "    }\n",
       "</style>\n",
       "<table border=\"1\" class=\"dataframe\">\n",
       "  <thead>\n",
       "    <tr style=\"text-align: right;\">\n",
       "      <th></th>\n",
       "      <th>FILIAL_ID</th>\n",
       "      <th>PROD_ID</th>\n",
       "      <th>SUBS_ID</th>\n",
       "      <th>ACT_DTTM</th>\n",
       "    </tr>\n",
       "  </thead>\n",
       "  <tbody>\n",
       "    <tr>\n",
       "      <th>0</th>\n",
       "      <td>3</td>\n",
       "      <td>1499</td>\n",
       "      <td>id5764122</td>\n",
       "      <td>18-03-2020 15:44</td>\n",
       "    </tr>\n",
       "    <tr>\n",
       "      <th>1</th>\n",
       "      <td>6</td>\n",
       "      <td>3020</td>\n",
       "      <td>id7642700</td>\n",
       "      <td>15-03-2020 14:21</td>\n",
       "    </tr>\n",
       "    <tr>\n",
       "      <th>2</th>\n",
       "      <td>2</td>\n",
       "      <td>5677</td>\n",
       "      <td>id1374509</td>\n",
       "      <td>17-03-2020 11:48</td>\n",
       "    </tr>\n",
       "    <tr>\n",
       "      <th>3</th>\n",
       "      <td>3</td>\n",
       "      <td>1743</td>\n",
       "      <td>id5416547</td>\n",
       "      <td>17-03-2020 10:17</td>\n",
       "    </tr>\n",
       "    <tr>\n",
       "      <th>5</th>\n",
       "      <td>7</td>\n",
       "      <td>9879</td>\n",
       "      <td>8362218</td>\n",
       "      <td>05-03-2020 11:42</td>\n",
       "    </tr>\n",
       "    <tr>\n",
       "      <th>6</th>\n",
       "      <td>2</td>\n",
       "      <td>3210</td>\n",
       "      <td>2185490</td>\n",
       "      <td>16-03-2020 16:28</td>\n",
       "    </tr>\n",
       "    <tr>\n",
       "      <th>7</th>\n",
       "      <td>3</td>\n",
       "      <td>1499</td>\n",
       "      <td>id5764122</td>\n",
       "      <td>18-03-2020 15:44</td>\n",
       "    </tr>\n",
       "    <tr>\n",
       "      <th>8</th>\n",
       "      <td>6</td>\n",
       "      <td>3020</td>\n",
       "      <td>id7642700</td>\n",
       "      <td>15-03-2020 14:21</td>\n",
       "    </tr>\n",
       "    <tr>\n",
       "      <th>9</th>\n",
       "      <td>2</td>\n",
       "      <td>5677</td>\n",
       "      <td>id1374509</td>\n",
       "      <td>17-03-2020 11:48</td>\n",
       "    </tr>\n",
       "  </tbody>\n",
       "</table>\n",
       "</div>"
      ],
      "text/plain": [
       "   FILIAL_ID  PROD_ID    SUBS_ID          ACT_DTTM\n",
       "0          3     1499  id5764122  18-03-2020 15:44\n",
       "1          6     3020  id7642700  15-03-2020 14:21\n",
       "2          2     5677  id1374509  17-03-2020 11:48\n",
       "3          3     1743  id5416547  17-03-2020 10:17\n",
       "5          7     9879    8362218  05-03-2020 11:42\n",
       "6          2     3210    2185490  16-03-2020 16:28\n",
       "7          3     1499  id5764122  18-03-2020 15:44\n",
       "8          6     3020  id7642700  15-03-2020 14:21\n",
       "9          2     5677  id1374509  17-03-2020 11:48"
      ]
     },
     "execution_count": 188,
     "metadata": {},
     "output_type": "execute_result"
    }
   ],
   "source": [
    "tm_sales\n",
    "# посмотрим, как выглядит наш датафрейм после изменений\n",
    "# тут отсутствуют значения NaN и различные пропуски строк, всё стало выглядеть более \n",
    "# структурировано"
   ]
  },
  {
   "cell_type": "code",
   "execution_count": 189,
   "metadata": {},
   "outputs": [
    {
     "data": {
      "text/plain": [
       "5    8362218\n",
       "6    2185490\n",
       "Name: SUBS_ID, dtype: object"
      ]
     },
     "execution_count": 189,
     "metadata": {},
     "output_type": "execute_result"
    }
   ],
   "source": [
    "tm_sales.loc[~tm_sales.SUBS_ID.str.startswith('id'),\n",
    "            'SUBS_ID']\n",
    "# сотрудники телемаркетинга не всегда указывают полный id, если 'id' нет в начале SUBS_ID, то нужно его добавить\n",
    "# но в данный момент, мы видим что у нас есть несколько строк, в которых отсутсвует ID в начале"
   ]
  },
  {
   "cell_type": "code",
   "execution_count": 190,
   "metadata": {},
   "outputs": [],
   "source": [
    "tm_sales.loc[~tm_sales.SUBS_ID.str.startswith('id'),\n",
    "            'SUBS_ID'] = 'id' + tm_sales.loc[~tm_sales.SUBS_ID.str.startswith('id'), 'SUBS_ID']\n",
    "# теперь пофиксим проблему выше, нам необходимо добавить отсутсвующее ID в строки SUBS_ID\n",
    "# это можно сделать про помощи функции .loc так как он позволяет не только фильтровать данные\n",
    "# но и способен обращаться по индексам строк датафрейма, имён столбцов и тд\n",
    "\n",
    "# Тем самым верхнему срезу данных мы можем присвоить новое значение\n",
    "# а новое значение нам необходимо сформимровать, для того что бы к этим значениям\n",
    "# новое значение - мы просто сконкатернируем строки через +, переднюю часть + заднюю часть\n",
    "# дописав туда каждый из id который в прошлой ячейке\n",
    "# при этом мы меняем конкретный срез (1 формула в этой ячейке) и данные для конкатенации\n",
    "# мы используем по тому же срезу, тоесть когда мы хотим присвоить что-то к какому-то \n",
    "# кусочку данных, оно должно иметь точно такой же размер\n",
    "# мы не ходим присвоить нашей прошлой формуле неверные значения,\n",
    "# по этому после знака + мы пишем что фильтруем данные по точно тому же условию \n",
    "# и снова обращаемся к той же колонке \"SUBS_ID\"\n",
    "# в результате чего выполнив двнную ячейку, мы увидим что наши id\n",
    "# присвоились всем значениям, которые раньше id не имели"
   ]
  },
  {
   "cell_type": "code",
   "execution_count": 191,
   "metadata": {},
   "outputs": [
    {
     "data": {
      "text/html": [
       "<div>\n",
       "<style scoped>\n",
       "    .dataframe tbody tr th:only-of-type {\n",
       "        vertical-align: middle;\n",
       "    }\n",
       "\n",
       "    .dataframe tbody tr th {\n",
       "        vertical-align: top;\n",
       "    }\n",
       "\n",
       "    .dataframe thead th {\n",
       "        text-align: right;\n",
       "    }\n",
       "</style>\n",
       "<table border=\"1\" class=\"dataframe\">\n",
       "  <thead>\n",
       "    <tr style=\"text-align: right;\">\n",
       "      <th></th>\n",
       "      <th>FILIAL_ID</th>\n",
       "      <th>PROD_ID</th>\n",
       "      <th>SUBS_ID</th>\n",
       "      <th>ACT_DTTM</th>\n",
       "    </tr>\n",
       "  </thead>\n",
       "  <tbody>\n",
       "    <tr>\n",
       "      <th>0</th>\n",
       "      <td>3</td>\n",
       "      <td>1499</td>\n",
       "      <td>id5764122</td>\n",
       "      <td>18-03-2020 15:44</td>\n",
       "    </tr>\n",
       "    <tr>\n",
       "      <th>1</th>\n",
       "      <td>6</td>\n",
       "      <td>3020</td>\n",
       "      <td>id7642700</td>\n",
       "      <td>15-03-2020 14:21</td>\n",
       "    </tr>\n",
       "    <tr>\n",
       "      <th>2</th>\n",
       "      <td>2</td>\n",
       "      <td>5677</td>\n",
       "      <td>id1374509</td>\n",
       "      <td>17-03-2020 11:48</td>\n",
       "    </tr>\n",
       "    <tr>\n",
       "      <th>3</th>\n",
       "      <td>3</td>\n",
       "      <td>1743</td>\n",
       "      <td>id5416547</td>\n",
       "      <td>17-03-2020 10:17</td>\n",
       "    </tr>\n",
       "    <tr>\n",
       "      <th>5</th>\n",
       "      <td>7</td>\n",
       "      <td>9879</td>\n",
       "      <td>id8362218</td>\n",
       "      <td>05-03-2020 11:42</td>\n",
       "    </tr>\n",
       "    <tr>\n",
       "      <th>6</th>\n",
       "      <td>2</td>\n",
       "      <td>3210</td>\n",
       "      <td>id2185490</td>\n",
       "      <td>16-03-2020 16:28</td>\n",
       "    </tr>\n",
       "    <tr>\n",
       "      <th>7</th>\n",
       "      <td>3</td>\n",
       "      <td>1499</td>\n",
       "      <td>id5764122</td>\n",
       "      <td>18-03-2020 15:44</td>\n",
       "    </tr>\n",
       "    <tr>\n",
       "      <th>8</th>\n",
       "      <td>6</td>\n",
       "      <td>3020</td>\n",
       "      <td>id7642700</td>\n",
       "      <td>15-03-2020 14:21</td>\n",
       "    </tr>\n",
       "    <tr>\n",
       "      <th>9</th>\n",
       "      <td>2</td>\n",
       "      <td>5677</td>\n",
       "      <td>id1374509</td>\n",
       "      <td>17-03-2020 11:48</td>\n",
       "    </tr>\n",
       "  </tbody>\n",
       "</table>\n",
       "</div>"
      ],
      "text/plain": [
       "   FILIAL_ID  PROD_ID    SUBS_ID          ACT_DTTM\n",
       "0          3     1499  id5764122  18-03-2020 15:44\n",
       "1          6     3020  id7642700  15-03-2020 14:21\n",
       "2          2     5677  id1374509  17-03-2020 11:48\n",
       "3          3     1743  id5416547  17-03-2020 10:17\n",
       "5          7     9879  id8362218  05-03-2020 11:42\n",
       "6          2     3210  id2185490  16-03-2020 16:28\n",
       "7          3     1499  id5764122  18-03-2020 15:44\n",
       "8          6     3020  id7642700  15-03-2020 14:21\n",
       "9          2     5677  id1374509  17-03-2020 11:48"
      ]
     },
     "execution_count": 191,
     "metadata": {},
     "output_type": "execute_result"
    }
   ],
   "source": [
    "tm_sales\n",
    "# в результате чего выполнив двнную ячейку, мы увидим что наши id\n",
    "# присвоились всем значениям, которые раньше id не имели"
   ]
  },
  {
   "cell_type": "code",
   "execution_count": 192,
   "metadata": {},
   "outputs": [],
   "source": [
    "sales_logs = prod_activations_logs.merge(tm_sales, on=['SUBS_ID', 'PROD_ID'])\n",
    "# теперь мы можем сделать объединение наших датафреймов\n",
    "# где мы объединим логи prod_activations_logs с данными о продажах tm_sales\n",
    "# с помощью функции .merhe\n",
    "# при том мы будем это объединять по колонкам что за юзер SUBS_ID\n",
    "# и что за продукт PROD_ID\n",
    "# дулаем мы здесь методом inner join который является по умолчанию у метода merge"
   ]
  },
  {
   "cell_type": "code",
   "execution_count": 193,
   "metadata": {},
   "outputs": [
    {
     "data": {
      "text/html": [
       "<div>\n",
       "<style scoped>\n",
       "    .dataframe tbody tr th:only-of-type {\n",
       "        vertical-align: middle;\n",
       "    }\n",
       "\n",
       "    .dataframe tbody tr th {\n",
       "        vertical-align: top;\n",
       "    }\n",
       "\n",
       "    .dataframe thead th {\n",
       "        text-align: right;\n",
       "    }\n",
       "</style>\n",
       "<table border=\"1\" class=\"dataframe\">\n",
       "  <thead>\n",
       "    <tr style=\"text-align: right;\">\n",
       "      <th></th>\n",
       "      <th>SUBS_ID</th>\n",
       "      <th>PROD_ID</th>\n",
       "      <th>START_DTTM</th>\n",
       "      <th>END_DTTM</th>\n",
       "      <th>FILIAL_ID</th>\n",
       "      <th>ACT_DTTM</th>\n",
       "    </tr>\n",
       "  </thead>\n",
       "  <tbody>\n",
       "    <tr>\n",
       "      <th>0</th>\n",
       "      <td>id5416547</td>\n",
       "      <td>1743</td>\n",
       "      <td>17-03-2020 10:17</td>\n",
       "      <td>25-03-2020 11:00</td>\n",
       "      <td>3</td>\n",
       "      <td>17-03-2020 10:17</td>\n",
       "    </tr>\n",
       "    <tr>\n",
       "      <th>1</th>\n",
       "      <td>id2185490</td>\n",
       "      <td>3210</td>\n",
       "      <td>16-03-2020 16:28</td>\n",
       "      <td>01-12-2020 00:00</td>\n",
       "      <td>2</td>\n",
       "      <td>16-03-2020 16:28</td>\n",
       "    </tr>\n",
       "    <tr>\n",
       "      <th>2</th>\n",
       "      <td>id7642700</td>\n",
       "      <td>3020</td>\n",
       "      <td>15-03-2020 14:21</td>\n",
       "      <td>15-03-2020 23:42</td>\n",
       "      <td>6</td>\n",
       "      <td>15-03-2020 14:21</td>\n",
       "    </tr>\n",
       "    <tr>\n",
       "      <th>3</th>\n",
       "      <td>id7642700</td>\n",
       "      <td>3020</td>\n",
       "      <td>15-03-2020 14:21</td>\n",
       "      <td>15-03-2020 23:42</td>\n",
       "      <td>6</td>\n",
       "      <td>15-03-2020 14:21</td>\n",
       "    </tr>\n",
       "  </tbody>\n",
       "</table>\n",
       "</div>"
      ],
      "text/plain": [
       "     SUBS_ID  PROD_ID        START_DTTM          END_DTTM  FILIAL_ID  \\\n",
       "0  id5416547     1743  17-03-2020 10:17  25-03-2020 11:00          3   \n",
       "1  id2185490     3210  16-03-2020 16:28  01-12-2020 00:00          2   \n",
       "2  id7642700     3020  15-03-2020 14:21  15-03-2020 23:42          6   \n",
       "3  id7642700     3020  15-03-2020 14:21  15-03-2020 23:42          6   \n",
       "\n",
       "           ACT_DTTM  \n",
       "0  17-03-2020 10:17  \n",
       "1  16-03-2020 16:28  \n",
       "2  15-03-2020 14:21  \n",
       "3  15-03-2020 14:21  "
      ]
     },
     "execution_count": 193,
     "metadata": {},
     "output_type": "execute_result"
    }
   ],
   "source": [
    "sales_logs\n"
   ]
  },
  {
   "cell_type": "code",
   "execution_count": 194,
   "metadata": {},
   "outputs": [
    {
     "data": {
      "text/plain": [
       "SUBS_ID       object\n",
       "PROD_ID        int64\n",
       "START_DTTM    object\n",
       "END_DTTM      object\n",
       "FILIAL_ID      int64\n",
       "ACT_DTTM      object\n",
       "dtype: object"
      ]
     },
     "execution_count": 194,
     "metadata": {},
     "output_type": "execute_result"
    }
   ],
   "source": [
    "sales_logs.dtypes\n",
    "# посмотрим на типы данных, где мы увидим\n",
    "# что столбцы, которые должны быть датами - на самом деле датами сейяас не являются"
   ]
  },
  {
   "cell_type": "code",
   "execution_count": 195,
   "metadata": {},
   "outputs": [
    {
     "data": {
      "text/plain": [
       "0   2020-03-17 10:17:00\n",
       "1   2020-03-16 16:28:00\n",
       "2   2020-03-15 14:21:00\n",
       "3   2020-03-15 14:21:00\n",
       "Name: START_DTTM, dtype: datetime64[ns]"
      ]
     },
     "execution_count": 195,
     "metadata": {},
     "output_type": "execute_result"
    }
   ],
   "source": [
    "pd.to_datetime(sales_logs.START_DTTM)\n",
    "# форматируем наши данные в столбце и переведём их в date time"
   ]
  },
  {
   "cell_type": "code",
   "execution_count": 196,
   "metadata": {},
   "outputs": [],
   "source": [
    "sales_logs.START_DTTM = pd.to_datetime(sales_logs.START_DTTM)"
   ]
  },
  {
   "cell_type": "code",
   "execution_count": 197,
   "metadata": {},
   "outputs": [
    {
     "data": {
      "text/plain": [
       "0   2020-03-25 11:00:00\n",
       "1   2020-01-12 00:00:00\n",
       "2   2020-03-15 23:42:00\n",
       "3   2020-03-15 23:42:00\n",
       "Name: END_DTTM, dtype: datetime64[ns]"
      ]
     },
     "execution_count": 197,
     "metadata": {},
     "output_type": "execute_result"
    }
   ],
   "source": [
    "pd.to_datetime(sales_logs.END_DTTM)"
   ]
  },
  {
   "cell_type": "code",
   "execution_count": 198,
   "metadata": {},
   "outputs": [],
   "source": [
    "sales_logs.END_DTTM = pd.to_datetime(sales_logs.END_DTTM, format='%d-%m-%Y %H:%M')\n",
    "# здесь мы отформатируем дату по нашей колонке и датафрейму\n",
    "# где в pd.to_datetime передадим датафрейм.колонку и вызовем формат\n",
    "# куда укажем в каком формате хотим видеть дату, месяц, год, часы, минуты"
   ]
  },
  {
   "cell_type": "code",
   "execution_count": 202,
   "metadata": {},
   "outputs": [
    {
     "data": {
      "text/plain": [
       "SUBS_ID               object\n",
       "PROD_ID                int64\n",
       "START_DTTM    datetime64[ns]\n",
       "END_DTTM      datetime64[ns]\n",
       "FILIAL_ID              int64\n",
       "ACT_DTTM              object\n",
       "dtype: object"
      ]
     },
     "execution_count": 202,
     "metadata": {},
     "output_type": "execute_result"
    }
   ],
   "source": [
    "sales_logs.dtypes\n",
    "# посмотрим на результат изменения формата дат, как выглядят типы данных"
   ]
  },
  {
   "cell_type": "code",
   "execution_count": 204,
   "metadata": {},
   "outputs": [
    {
     "data": {
      "text/html": [
       "<div>\n",
       "<style scoped>\n",
       "    .dataframe tbody tr th:only-of-type {\n",
       "        vertical-align: middle;\n",
       "    }\n",
       "\n",
       "    .dataframe tbody tr th {\n",
       "        vertical-align: top;\n",
       "    }\n",
       "\n",
       "    .dataframe thead th {\n",
       "        text-align: right;\n",
       "    }\n",
       "</style>\n",
       "<table border=\"1\" class=\"dataframe\">\n",
       "  <thead>\n",
       "    <tr style=\"text-align: right;\">\n",
       "      <th></th>\n",
       "      <th>SUBS_ID</th>\n",
       "      <th>PROD_ID</th>\n",
       "      <th>START_DTTM</th>\n",
       "      <th>END_DTTM</th>\n",
       "      <th>FILIAL_ID</th>\n",
       "      <th>ACT_DTTM</th>\n",
       "    </tr>\n",
       "  </thead>\n",
       "  <tbody>\n",
       "    <tr>\n",
       "      <th>0</th>\n",
       "      <td>id5416547</td>\n",
       "      <td>1743</td>\n",
       "      <td>2020-03-17 10:17:00</td>\n",
       "      <td>2020-03-25 11:00:00</td>\n",
       "      <td>3</td>\n",
       "      <td>17-03-2020 10:17</td>\n",
       "    </tr>\n",
       "    <tr>\n",
       "      <th>1</th>\n",
       "      <td>id2185490</td>\n",
       "      <td>3210</td>\n",
       "      <td>2020-03-16 16:28:00</td>\n",
       "      <td>2020-12-01 00:00:00</td>\n",
       "      <td>2</td>\n",
       "      <td>16-03-2020 16:28</td>\n",
       "    </tr>\n",
       "    <tr>\n",
       "      <th>2</th>\n",
       "      <td>id7642700</td>\n",
       "      <td>3020</td>\n",
       "      <td>2020-03-15 14:21:00</td>\n",
       "      <td>2020-03-15 23:42:00</td>\n",
       "      <td>6</td>\n",
       "      <td>15-03-2020 14:21</td>\n",
       "    </tr>\n",
       "    <tr>\n",
       "      <th>3</th>\n",
       "      <td>id7642700</td>\n",
       "      <td>3020</td>\n",
       "      <td>2020-03-15 14:21:00</td>\n",
       "      <td>2020-03-15 23:42:00</td>\n",
       "      <td>6</td>\n",
       "      <td>15-03-2020 14:21</td>\n",
       "    </tr>\n",
       "  </tbody>\n",
       "</table>\n",
       "</div>"
      ],
      "text/plain": [
       "     SUBS_ID  PROD_ID          START_DTTM            END_DTTM  FILIAL_ID  \\\n",
       "0  id5416547     1743 2020-03-17 10:17:00 2020-03-25 11:00:00          3   \n",
       "1  id2185490     3210 2020-03-16 16:28:00 2020-12-01 00:00:00          2   \n",
       "2  id7642700     3020 2020-03-15 14:21:00 2020-03-15 23:42:00          6   \n",
       "3  id7642700     3020 2020-03-15 14:21:00 2020-03-15 23:42:00          6   \n",
       "\n",
       "           ACT_DTTM  \n",
       "0  17-03-2020 10:17  \n",
       "1  16-03-2020 16:28  \n",
       "2  15-03-2020 14:21  \n",
       "3  15-03-2020 14:21  "
      ]
     },
     "execution_count": 204,
     "metadata": {},
     "output_type": "execute_result"
    }
   ],
   "source": [
    "sales_logs\n",
    "# посмотрим как выглядят изменения в датафрейме"
   ]
  },
  {
   "cell_type": "code",
   "execution_count": 211,
   "metadata": {},
   "outputs": [],
   "source": [
    "sales_logs['difference'] = sales_logs.END_DTTM - sales_logs.START_DTTM\n",
    "# здесь мы вычтем из end_dttm - start_dttm \n",
    "# что бы узнать какое время прошло между подключением и отключением услуги\n"
   ]
  },
  {
   "cell_type": "code",
   "execution_count": 212,
   "metadata": {},
   "outputs": [
    {
     "data": {
      "text/html": [
       "<div>\n",
       "<style scoped>\n",
       "    .dataframe tbody tr th:only-of-type {\n",
       "        vertical-align: middle;\n",
       "    }\n",
       "\n",
       "    .dataframe tbody tr th {\n",
       "        vertical-align: top;\n",
       "    }\n",
       "\n",
       "    .dataframe thead th {\n",
       "        text-align: right;\n",
       "    }\n",
       "</style>\n",
       "<table border=\"1\" class=\"dataframe\">\n",
       "  <thead>\n",
       "    <tr style=\"text-align: right;\">\n",
       "      <th></th>\n",
       "      <th>SUBS_ID</th>\n",
       "      <th>PROD_ID</th>\n",
       "      <th>START_DTTM</th>\n",
       "      <th>END_DTTM</th>\n",
       "      <th>FILIAL_ID</th>\n",
       "      <th>ACT_DTTM</th>\n",
       "      <th>difference</th>\n",
       "    </tr>\n",
       "  </thead>\n",
       "  <tbody>\n",
       "    <tr>\n",
       "      <th>0</th>\n",
       "      <td>id5416547</td>\n",
       "      <td>1743</td>\n",
       "      <td>2020-03-17 10:17:00</td>\n",
       "      <td>2020-03-25 11:00:00</td>\n",
       "      <td>3</td>\n",
       "      <td>17-03-2020 10:17</td>\n",
       "      <td>8 days 00:43:00</td>\n",
       "    </tr>\n",
       "    <tr>\n",
       "      <th>1</th>\n",
       "      <td>id2185490</td>\n",
       "      <td>3210</td>\n",
       "      <td>2020-03-16 16:28:00</td>\n",
       "      <td>2020-12-01 00:00:00</td>\n",
       "      <td>2</td>\n",
       "      <td>16-03-2020 16:28</td>\n",
       "      <td>259 days 07:32:00</td>\n",
       "    </tr>\n",
       "    <tr>\n",
       "      <th>2</th>\n",
       "      <td>id7642700</td>\n",
       "      <td>3020</td>\n",
       "      <td>2020-03-15 14:21:00</td>\n",
       "      <td>2020-03-15 23:42:00</td>\n",
       "      <td>6</td>\n",
       "      <td>15-03-2020 14:21</td>\n",
       "      <td>0 days 09:21:00</td>\n",
       "    </tr>\n",
       "    <tr>\n",
       "      <th>3</th>\n",
       "      <td>id7642700</td>\n",
       "      <td>3020</td>\n",
       "      <td>2020-03-15 14:21:00</td>\n",
       "      <td>2020-03-15 23:42:00</td>\n",
       "      <td>6</td>\n",
       "      <td>15-03-2020 14:21</td>\n",
       "      <td>0 days 09:21:00</td>\n",
       "    </tr>\n",
       "  </tbody>\n",
       "</table>\n",
       "</div>"
      ],
      "text/plain": [
       "     SUBS_ID  PROD_ID          START_DTTM            END_DTTM  FILIAL_ID  \\\n",
       "0  id5416547     1743 2020-03-17 10:17:00 2020-03-25 11:00:00          3   \n",
       "1  id2185490     3210 2020-03-16 16:28:00 2020-12-01 00:00:00          2   \n",
       "2  id7642700     3020 2020-03-15 14:21:00 2020-03-15 23:42:00          6   \n",
       "3  id7642700     3020 2020-03-15 14:21:00 2020-03-15 23:42:00          6   \n",
       "\n",
       "           ACT_DTTM        difference  \n",
       "0  17-03-2020 10:17   8 days 00:43:00  \n",
       "1  16-03-2020 16:28 259 days 07:32:00  \n",
       "2  15-03-2020 14:21   0 days 09:21:00  \n",
       "3  15-03-2020 14:21   0 days 09:21:00  "
      ]
     },
     "execution_count": 212,
     "metadata": {},
     "output_type": "execute_result"
    }
   ],
   "source": [
    "sales_logs\n",
    "# посмотрим что получилось - у нас добавился столбец difference "
   ]
  },
  {
   "cell_type": "code",
   "execution_count": 214,
   "metadata": {},
   "outputs": [
    {
     "data": {
      "text/plain": [
       "SUBS_ID                object\n",
       "PROD_ID                 int64\n",
       "START_DTTM     datetime64[ns]\n",
       "END_DTTM       datetime64[ns]\n",
       "FILIAL_ID               int64\n",
       "ACT_DTTM               object\n",
       "difference    timedelta64[ns]\n",
       "dtype: object"
      ]
     },
     "execution_count": 214,
     "metadata": {},
     "output_type": "execute_result"
    }
   ],
   "source": [
    "sales_logs.dtypes\n",
    "# когда мы вычитаем одно время из другого времени, у нас получается новый \n",
    "# тип объекта - это timedelta который является разницей во времени"
   ]
  },
  {
   "cell_type": "code",
   "execution_count": 215,
   "metadata": {},
   "outputs": [],
   "source": [
    "result = sales_logs.loc[sales_logs.difference > pd.Timedelta(5, 'm')]\n",
    "# в этом примере мы будем сравнивать разницу в 5 минутах между difference\n",
    "# и созданной на лету timedelta куда передадим условия равное 5 минутам и измерению в минутах\n",
    "# наш результат мы запишем в переменную result, а откроем фильтрацию по компоненту .loc"
   ]
  },
  {
   "cell_type": "code",
   "execution_count": 208,
   "metadata": {},
   "outputs": [
    {
     "data": {
      "text/html": [
       "<div>\n",
       "<style scoped>\n",
       "    .dataframe tbody tr th:only-of-type {\n",
       "        vertical-align: middle;\n",
       "    }\n",
       "\n",
       "    .dataframe tbody tr th {\n",
       "        vertical-align: top;\n",
       "    }\n",
       "\n",
       "    .dataframe thead th {\n",
       "        text-align: right;\n",
       "    }\n",
       "</style>\n",
       "<table border=\"1\" class=\"dataframe\">\n",
       "  <thead>\n",
       "    <tr style=\"text-align: right;\">\n",
       "      <th></th>\n",
       "      <th>SUBS_ID</th>\n",
       "      <th>PROD_ID</th>\n",
       "      <th>START_DTTM</th>\n",
       "      <th>END_DTTM</th>\n",
       "      <th>FILIAL_ID</th>\n",
       "      <th>ACT_DTTM</th>\n",
       "      <th>difference</th>\n",
       "    </tr>\n",
       "  </thead>\n",
       "  <tbody>\n",
       "    <tr>\n",
       "      <th>0</th>\n",
       "      <td>id5416547</td>\n",
       "      <td>1743</td>\n",
       "      <td>2020-03-17 10:17:00</td>\n",
       "      <td>2020-03-25 11:00:00</td>\n",
       "      <td>3</td>\n",
       "      <td>17-03-2020 10:17</td>\n",
       "      <td>8 days 00:43:00</td>\n",
       "    </tr>\n",
       "    <tr>\n",
       "      <th>1</th>\n",
       "      <td>id2185490</td>\n",
       "      <td>3210</td>\n",
       "      <td>2020-03-16 16:28:00</td>\n",
       "      <td>2020-12-01 00:00:00</td>\n",
       "      <td>2</td>\n",
       "      <td>16-03-2020 16:28</td>\n",
       "      <td>259 days 07:32:00</td>\n",
       "    </tr>\n",
       "    <tr>\n",
       "      <th>2</th>\n",
       "      <td>id7642700</td>\n",
       "      <td>3020</td>\n",
       "      <td>2020-03-15 14:21:00</td>\n",
       "      <td>2020-03-15 23:42:00</td>\n",
       "      <td>6</td>\n",
       "      <td>15-03-2020 14:21</td>\n",
       "      <td>0 days 09:21:00</td>\n",
       "    </tr>\n",
       "    <tr>\n",
       "      <th>3</th>\n",
       "      <td>id7642700</td>\n",
       "      <td>3020</td>\n",
       "      <td>2020-03-15 14:21:00</td>\n",
       "      <td>2020-03-15 23:42:00</td>\n",
       "      <td>6</td>\n",
       "      <td>15-03-2020 14:21</td>\n",
       "      <td>0 days 09:21:00</td>\n",
       "    </tr>\n",
       "  </tbody>\n",
       "</table>\n",
       "</div>"
      ],
      "text/plain": [
       "     SUBS_ID  PROD_ID          START_DTTM            END_DTTM  FILIAL_ID  \\\n",
       "0  id5416547     1743 2020-03-17 10:17:00 2020-03-25 11:00:00          3   \n",
       "1  id2185490     3210 2020-03-16 16:28:00 2020-12-01 00:00:00          2   \n",
       "2  id7642700     3020 2020-03-15 14:21:00 2020-03-15 23:42:00          6   \n",
       "3  id7642700     3020 2020-03-15 14:21:00 2020-03-15 23:42:00          6   \n",
       "\n",
       "           ACT_DTTM        difference  \n",
       "0  17-03-2020 10:17   8 days 00:43:00  \n",
       "1  16-03-2020 16:28 259 days 07:32:00  \n",
       "2  15-03-2020 14:21   0 days 09:21:00  \n",
       "3  15-03-2020 14:21   0 days 09:21:00  "
      ]
     },
     "execution_count": 208,
     "metadata": {},
     "output_type": "execute_result"
    }
   ],
   "source": [
    "result"
   ]
  },
  {
   "cell_type": "code",
   "execution_count": 209,
   "metadata": {},
   "outputs": [
    {
     "data": {
      "text/plain": [
       "array(['id2185490', 'id5416547', 'id7642700', 'id7642700'], dtype=object)"
      ]
     },
     "execution_count": 209,
     "metadata": {},
     "output_type": "execute_result"
    }
   ],
   "source": [
    "result.SUBS_ID.sort_values().values"
   ]
  },
  {
   "cell_type": "code",
   "execution_count": 210,
   "metadata": {},
   "outputs": [],
   "source": [
    "result.to_csv('result.csv')"
   ]
  },
  {
   "cell_type": "code",
   "execution_count": null,
   "metadata": {},
   "outputs": [],
   "source": []
  },
  {
   "cell_type": "code",
   "execution_count": null,
   "metadata": {},
   "outputs": [],
   "source": []
  },
  {
   "cell_type": "code",
   "execution_count": null,
   "metadata": {},
   "outputs": [],
   "source": []
  },
  {
   "cell_type": "code",
   "execution_count": null,
   "metadata": {},
   "outputs": [],
   "source": []
  },
  {
   "cell_type": "code",
   "execution_count": null,
   "metadata": {},
   "outputs": [],
   "source": []
  },
  {
   "cell_type": "code",
   "execution_count": null,
   "metadata": {},
   "outputs": [],
   "source": []
  },
  {
   "cell_type": "code",
   "execution_count": null,
   "metadata": {},
   "outputs": [],
   "source": []
  }
 ],
 "metadata": {
  "kernelspec": {
   "display_name": "Python 3",
   "language": "python",
   "name": "python3"
  },
  "language_info": {
   "codemirror_mode": {
    "name": "ipython",
    "version": 3
   },
   "file_extension": ".py",
   "mimetype": "text/x-python",
   "name": "python",
   "nbconvert_exporter": "python",
   "pygments_lexer": "ipython3",
   "version": "3.7.3"
  }
 },
 "nbformat": 4,
 "nbformat_minor": 4
}
