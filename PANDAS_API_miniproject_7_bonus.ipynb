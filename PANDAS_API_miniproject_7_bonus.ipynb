{
 "cells": [
  {
   "cell_type": "raw",
   "metadata": {},
   "source": [
    "Для начала, импортируйте нужные библиотеки:"
   ]
  },
  {
   "cell_type": "code",
   "execution_count": 1,
   "metadata": {},
   "outputs": [],
   "source": [
    "import requests\n",
    "import pandas as pd\n",
    "import seaborn as sns\n",
    "import matplotlib.pyplot as plt"
   ]
  },
  {
   "cell_type": "raw",
   "metadata": {},
   "source": [
    "Сам запрос к API должен состоять из нескольких параметров. Пример обращения к поиску (Search):\n",
    "\n",
    "r = requests.get('https://collectio******************tion/v1/search?*******RY')\n",
    "res = r.json()\n",
    "\n",
    "\n",
    "где QUERY – ключевое слово.\n",
    "\n",
    "Предположим, ваша задача – найти все произведения, связанные с подсолнухами. \n",
    "Выполните поиск по слову \"sunflowers\". Внимательно посмотрите на формат ответа \n",
    "и сохраните id полученных объектов в список sunflower_ids.\n",
    "\n",
    "В качестве ответа выберите id объектов (3), которые присутствуют в полученном списке:"
   ]
  },
  {
   "cell_type": "raw",
   "metadata": {},
   "source": [
    "Далее составляем запрос к API, задав нужные параметры. В данном случае ключевое слово для поиска\n",
    "–sunflowers, поэтому именно его нужно подставить вместо QUERY в шаблоне:"
   ]
  },
  {
   "cell_type": "code",
   "execution_count": 2,
   "metadata": {},
   "outputs": [],
   "source": [
    "r = requests.get('https://collectio*******************rch?q=sunflowers')\n",
    "sunflowers = r.json()"
   ]
  },
  {
   "cell_type": "raw",
   "metadata": {},
   "source": [
    "Посмотрим на структуру объекта, который записался в переменную sunflowers:"
   ]
  },
  {
   "cell_type": "code",
   "execution_count": 3,
   "metadata": {},
   "outputs": [
    {
     "data": {
      "text/plain": [
       "{'total': 87,\n",
       " 'objectIDs': [436524,\n",
       "  484935,\n",
       "  437112,\n",
       "  210191,\n",
       "  431264,\n",
       "  397949,\n",
       "  656530,\n",
       "  480725,\n",
       "  486590,\n",
       "  485308,\n",
       "  375281,\n",
       "  705155,\n",
       "  11922,\n",
       "  2032,\n",
       "  343052,\n",
       "  20141,\n",
       "  2019,\n",
       "  208554,\n",
       "  347980,\n",
       "  403496,\n",
       "  360837,\n",
       "  437115,\n",
       "  207869,\n",
       "  761604,\n",
       "  400581,\n",
       "  423400,\n",
       "  707887,\n",
       "  223828,\n",
       "  682927,\n",
       "  57922,\n",
       "  649813,\n",
       "  79739,\n",
       "  193938,\n",
       "  339347,\n",
       "  208218,\n",
       "  202228,\n",
       "  437984,\n",
       "  436534,\n",
       "  704667,\n",
       "  696949,\n",
       "  437329,\n",
       "  436252,\n",
       "  436580,\n",
       "  363282,\n",
       "  207753,\n",
       "  822570,\n",
       "  816522,\n",
       "  487043,\n",
       "  437526,\n",
       "  203893,\n",
       "  367434,\n",
       "  190739,\n",
       "  423237,\n",
       "  262423,\n",
       "  839296,\n",
       "  367817,\n",
       "  13644,\n",
       "  18362,\n",
       "  820022,\n",
       "  648617,\n",
       "  761731,\n",
       "  814626,\n",
       "  892559,\n",
       "  207967,\n",
       "  626832,\n",
       "  262430,\n",
       "  262428,\n",
       "  707697,\n",
       "  205386,\n",
       "  262378,\n",
       "  426804,\n",
       "  664519,\n",
       "  633526,\n",
       "  369073,\n",
       "  747779,\n",
       "  436121,\n",
       "  436144,\n",
       "  852414,\n",
       "  427872,\n",
       "  436530,\n",
       "  436535,\n",
       "  436529,\n",
       "  724844,\n",
       "  437980,\n",
       "  834585,\n",
       "  834580,\n",
       "  834765]}"
      ]
     },
     "execution_count": 3,
     "metadata": {},
     "output_type": "execute_result"
    }
   ],
   "source": [
    "sunflowers"
   ]
  },
  {
   "cell_type": "raw",
   "metadata": {},
   "source": [
    "По фигурным скобкам можно понять, что ответ получен в формате словаря,\n",
    "а значит по ключам можно достать нужные значения. В задании просят сохранить id\n",
    "полученных объектов в sunflower_ids, поэтому нас интересует ключ objectIDs:"
   ]
  },
  {
   "cell_type": "code",
   "execution_count": 4,
   "metadata": {},
   "outputs": [],
   "source": [
    "sunflower_ids = sunflowers['objectIDs']  # сохранили всё по ключу"
   ]
  },
  {
   "cell_type": "raw",
   "metadata": {},
   "source": [
    "В качестве ответа необходимо выбрать id трёх объектов, которые присутствуют в полученном списке.\n",
    "Можно проверить вручную,\n",
    "а можно сверить списки следующим образом. Сначала записываем варианты ответа в search_ids:"
   ]
  },
  {
   "cell_type": "code",
   "execution_count": 5,
   "metadata": {},
   "outputs": [],
   "source": [
    "search_ids = [436524, 2032, 20149, 16822570, 437329]  # записываем варианты id"
   ]
  },
  {
   "cell_type": "raw",
   "metadata": {},
   "source": [
    "для каждого id проверяем, есть ли он в sunflower_ids; выводим элемент, если условие выполнено"
   ]
  },
  {
   "cell_type": "code",
   "execution_count": 7,
   "metadata": {},
   "outputs": [
    {
     "data": {
      "text/plain": [
       "[436524, 2032, 437329]"
      ]
     },
     "execution_count": 7,
     "metadata": {},
     "output_type": "execute_result"
    }
   ],
   "source": [
    "[i for i in search_ids if i in sunflower_ids]"
   ]
  },
  {
   "attachments": {},
   "cell_type": "markdown",
   "metadata": {},
   "source": [
    "#                                                        Задание 2\n",
    "       Отлично! На предыдущем шаге мы получили результаты поиска. Следущий этап – собрать информацию об этих объектах.\n",
    "       \n",
    " где OBJECT_ID – id объекта.\n",
    "\n",
    "Выполните запрос для объекта 437980. Для проверки соотнесите полученные параметры с их значениями."
   ]
  },
  {
   "cell_type": "raw",
   "metadata": {},
   "source": [
    "Пример текста запроса для получения информации об одном объекте (Object):\n",
    "\n",
    "r_test = requests.get(f'https://collectio****************v1/objects/O*********8D') \n",
    "obj_test = r_test.json()"
   ]
  },
  {
   "cell_type": "raw",
   "metadata": {},
   "source": [
    "# Выполняем запрос из задания, подставив вместо OBJE************0 :"
   ]
  },
  {
   "cell_type": "code",
   "execution_count": 8,
   "metadata": {},
   "outputs": [],
   "source": [
    "# взяли запрос из задачи, подставили id объекта\n",
    "r_test = requests.get(f'https://collec*************************8980')  \n",
    "obj_test = r_test.json()"
   ]
  },
  {
   "cell_type": "raw",
   "metadata": {},
   "source": [
    "Можно посмотреть на объект вручную:"
   ]
  },
  {
   "cell_type": "raw",
   "metadata": {},
   "source": [
    "# А можно получить нужные значения по ключам c помощью obj_test['']:\n",
    "\n",
    "обращаемся к тем значениям что были указаны в тесте"
   ]
  },
  {
   "cell_type": "code",
   "execution_count": 10,
   "metadata": {},
   "outputs": [
    {
     "data": {
      "text/plain": [
       "'825'"
      ]
     },
     "execution_count": 10,
     "metadata": {},
     "output_type": "execute_result"
    }
   ],
   "source": [
    "obj_test['GalleryNumber']"
   ]
  },
  {
   "cell_type": "code",
   "execution_count": 11,
   "metadata": {},
   "outputs": [
    {
     "data": {
      "text/plain": [
       "'Cypresses'"
      ]
     },
     "execution_count": 11,
     "metadata": {},
     "output_type": "execute_result"
    }
   ],
   "source": [
    "obj_test['title']"
   ]
  },
  {
   "cell_type": "code",
   "execution_count": 13,
   "metadata": {},
   "outputs": [
    {
     "data": {
      "text/plain": [
       "''"
      ]
     },
     "execution_count": 13,
     "metadata": {},
     "output_type": "execute_result"
    }
   ],
   "source": [
    "obj_test['culture']"
   ]
  },
  {
   "cell_type": "code",
   "execution_count": 14,
   "metadata": {},
   "outputs": [
    {
     "data": {
      "text/plain": [
       "'Painting'"
      ]
     },
     "execution_count": 14,
     "metadata": {},
     "output_type": "execute_result"
    }
   ],
   "source": [
    "obj_test['objectName']"
   ]
  },
  {
   "cell_type": "code",
   "execution_count": 15,
   "metadata": {},
   "outputs": [
    {
     "data": {
      "text/plain": [
       "437980"
      ]
     },
     "execution_count": 15,
     "metadata": {},
     "output_type": "execute_result"
    }
   ],
   "source": [
    "obj_test['objectID']"
   ]
  },
  {
   "cell_type": "code",
   "execution_count": 16,
   "metadata": {},
   "outputs": [
    {
     "data": {
      "text/plain": [
       "'European Paintings'"
      ]
     },
     "execution_count": 16,
     "metadata": {},
     "output_type": "execute_result"
    }
   ],
   "source": [
    "obj_test['department']"
   ]
  },
  {
   "cell_type": "code",
   "execution_count": 19,
   "metadata": {},
   "outputs": [
    {
     "data": {
      "text/plain": [
       "'Vincent van Gogh'"
      ]
     },
     "execution_count": 19,
     "metadata": {},
     "output_type": "execute_result"
    }
   ],
   "source": [
    "obj_test['artistDisplayName']"
   ]
  },
  {
   "cell_type": "code",
   "execution_count": null,
   "metadata": {},
   "outputs": [],
   "source": []
  },
  {
   "cell_type": "raw",
   "metadata": {},
   "source": [
    "Теперь напишите цикл, с помощью которого будет собрана информация об объектах, которые были получены на 2 шаге. Результаты запишите в датафрейм, а именно – следующие параметры:\n",
    "\n",
    " objectID – id объекта\n",
    "title – название\n",
    "artistDisplayName – автор\n",
    "department – департамент\n",
    "objectBeginDate – дата (начало)\n",
    "objectEndDate – дата (конец)\n",
    "period – название периода\n",
    "objectName – название/категория объекта\n",
    "culture – культура\n",
    "Сколько объектов относятся к японской культуре? (culture –Japan)"
   ]
  },
  {
   "cell_type": "raw",
   "metadata": {},
   "source": [
    "Для решения задания понадобится:\n",
    "\n",
    "– список id sunflower_ids\n",
    "– датафрейм, в который будем записывать результат\n",
    "– шаблон для сбора информации об объекте\n",
    "– цикл\n",
    "\n",
    "Начнем с создания датафрейма:"
   ]
  },
  {
   "cell_type": "code",
   "execution_count": 20,
   "metadata": {},
   "outputs": [],
   "source": [
    "# собираем датафрейм для результатов поиска \n",
    "object_df = pd.DataFrame()"
   ]
  },
  {
   "cell_type": "raw",
   "metadata": {},
   "source": [
    "Следующий шаг – цикл. Порядок действий для каждого объекта из sunflower_ids:"
   ]
  },
  {
   "cell_type": "raw",
   "metadata": {},
   "source": [
    "for object_id in sunflower_ids:"
   ]
  },
  {
   "cell_type": "raw",
   "metadata": {},
   "source": [
    "1. Выполнить запрос, подставив в шаблон id объекта (будем обращаться как к object_id)\n",
    "2. Обработать полученный словарь, чтобы далее передать в датафрейм только нужные параметры\n",
    "3. Присоединить полученный ряд к датафрейму с результатами (object_df)\n",
    "\n",
    "Информацию об объекте можно получить следующим образом: в requests.get(...) \n",
    "    используем форматирование строки, добавив букву f перед кавычками,\n",
    "а параметр указываем в фигурных скобках. Результат будем записывать во временную переменную obj_tmp:"
   ]
  },
  {
   "cell_type": "code",
   "execution_count": 27,
   "metadata": {},
   "outputs": [],
   "source": [
    "# информация об объекте\n",
    "r = requests.get(f'https://co***********************ct_id}')\n",
    "obj_tmp = r.json()"
   ]
  },
  {
   "cell_type": "raw",
   "metadata": {},
   "source": [
    "Далее создаем маленький датафрейм obj_tmp_df, в который запишем нужные нам параметры из obj_tmp: "
   ]
  },
  {
   "cell_type": "code",
   "execution_count": 25,
   "metadata": {},
   "outputs": [],
   "source": [
    "# формируем строчку для объекта\n",
    "# в кавычках как ключ указываем название колонки, а в качестве значения передаем значение из obj_tmp\n",
    "obj_tmp_df = pd.DataFrame({'objectID' : obj_tmp['objectID'],\n",
    "                           'title' : [obj_tmp['title']],\n",
    "                           'artistDisplayName': [obj_tmp['artistDisplayName']],\n",
    "                           'department' : [obj_tmp['department']], \n",
    "                           'objectBeginDate' : [obj_tmp['objectBeginDate']], \n",
    "                           'objectEndDate' : [obj_tmp['objectEndDate']], \n",
    "                           'period' : [obj_tmp['period']], \n",
    "                           'objectName' : [obj_tmp['objectName']], \n",
    "                           'culture': [obj_tmp['culture']]\n",
    "                        })"
   ]
  },
  {
   "cell_type": "raw",
   "metadata": {},
   "source": [
    "И добавляем к полному датафрейму:\n",
    "    # приклеиваем\n",
    "object_df = pd.concat([object_df, obj_tmp_df])"
   ]
  },
  {
   "cell_type": "raw",
   "metadata": {},
   "source": [
    "Внимание: для некоторых object_id может приходить некорректный результат, \n",
    "    поэтому этап обработки полученных данных нужно обернуть в блок try-except.\n",
    "\n",
    "Полная версия кода:"
   ]
  },
  {
   "attachments": {},
   "cell_type": "markdown",
   "metadata": {},
   "source": [
    "# Полная версия кода:"
   ]
  },
  {
   "cell_type": "code",
   "execution_count": 26,
   "metadata": {},
   "outputs": [],
   "source": [
    "# собираем датафрейм для результатов поиска \n",
    "object_df = pd.DataFrame()\n",
    "for object_id in sunflower_ids:\n",
    "  # информация об объекте\n",
    "  r = requests.get(f'https://******************************ct_id}')\n",
    "  obj_tmp = r.json()\n",
    "\n",
    "  # формируем строчку для объекта\n",
    "  try:\n",
    "    obj_tmp_df = pd.DataFrame({'objectID' : obj_tmp['objectID'],\n",
    "                              'title' : [obj_tmp['title']],\n",
    "                              'artistDisplayName': [obj_tmp['artistDisplayName']],\n",
    "                              'department' : [obj_tmp['department']], \n",
    "                              'objectBeginDate' : [obj_tmp['objectBeginDate']], \n",
    "                              'objectEndDate' : [obj_tmp['objectEndDate']], \n",
    "                              'period' : [obj_tmp['period']], \n",
    "                              'objectName' : [obj_tmp['objectName']], \n",
    "                              'culture': [obj_tmp['culture']]\n",
    "                          })\n",
    "    # приклеиваем\n",
    "    object_df = pd.concat([object_df, obj_tmp_df])\n",
    "  except KeyError:\n",
    "      continue"
   ]
  },
  {
   "cell_type": "raw",
   "metadata": {},
   "source": [
    "В качестве ответа нужно указать, сколько объектов относятся к японской культуре (culture –Japan).\n",
    "Фильтруем полученный датафрейм и достаем количество строк, подходящих под условие:"
   ]
  },
  {
   "cell_type": "code",
   "execution_count": 28,
   "metadata": {},
   "outputs": [
    {
     "data": {
      "text/plain": [
       "1"
      ]
     },
     "execution_count": 28,
     "metadata": {},
     "output_type": "execute_result"
    }
   ],
   "source": [
    "object_df.query(\"culture == 'Japan'\").shape[0]"
   ]
  },
  {
   "cell_type": "raw",
   "metadata": {},
   "source": [
    "Теперь попробуем построить более сложный запрос с помощью секции \"Search\"! \n",
    "На этот раз параметры необходимо передать через \"&\", например, departmentId (id департамента – 1)\n",
    "и q (ключевое слово – cat):\n",
    "\n",
    "r = requests.get('https://collectio*********************=cat')\n",
    "cats = r.json()\n",
    "\n",
    "\n",
    "Выполните поисковый запрос для департамента \"Asian art\" (departmentId = 6)\n",
    "с тегом \"cat\" и запишите id объектов в c*******. Используйте цикл из шага 4, \n",
    "чтобы получить данные о первой 1000 объектов из списка.\n",
    "\n",
    "Note: выполнение цикла может занять некоторое время (~5 минут),\n",
    "поэтому проверять его работоспособность лучше на более маленькой выборке!\n",
    "\n",
    "В качестве ответа укажите, в каком периоде (period) было выполнено наибольшее количество работ,\n",
    "представленных в музее?"
   ]
  },
  {
   "cell_type": "raw",
   "metadata": {},
   "source": [
    "Итак, подставляем нужные значения в шаблон и сохраняем в cats:\n",
    "\n",
    "– departmentId=6\n",
    "– q=cat"
   ]
  },
  {
   "cell_type": "code",
   "execution_count": 29,
   "metadata": {},
   "outputs": [],
   "source": [
    "r = requests.get('https://collec************************cat')\n",
    "cats = r.json()"
   ]
  },
  {
   "cell_type": "raw",
   "metadata": {},
   "source": [
    "Сохраняем список id объектов в cat_ids:"
   ]
  },
  {
   "cell_type": "code",
   "execution_count": 30,
   "metadata": {},
   "outputs": [],
   "source": [
    "cat_ids = cats['objectIDs']  # сохранили id"
   ]
  },
  {
   "cell_type": "raw",
   "metadata": {},
   "source": [
    "В качестве основы для решения берем цикл из предыдущего задания. Основные изменения:\n",
    "\n",
    "– for object_id in cat_ids[:1000] – список называется cat_ids\n",
    "– cat_ids[:1000] – берем только первую 1000 id"
   ]
  },
  {
   "cell_type": "code",
   "execution_count": 31,
   "metadata": {},
   "outputs": [],
   "source": [
    "# собираем датафрейм для результатов поиска \n",
    "object_df = pd.DataFrame()\n",
    "\n",
    "for object_id in cat_ids[:1000]:  # берем только 1000 объектов, как указано в задании\n",
    "    # информация об объекте\n",
    "    r = requests.get(f'https://collec********************ct_id}')\n",
    "    obj_tmp = r.json()\n",
    "\n",
    "    # формируем строчку для объекта\n",
    "    try:\n",
    "        obj_tmp_df = pd.DataFrame({'objectID' : obj_tmp['objectID'],\n",
    "                                 'title' : [obj_tmp['title']],\n",
    "                                 'artistDisplayName': [obj_tmp['artistDisplayName']],\n",
    "                                 'department' : [obj_tmp['department']], \n",
    "                                 'objectBeginDate' : [obj_tmp['objectBeginDate']], \n",
    "                                 'objectEndDate' : [obj_tmp['objectEndDate']], \n",
    "                                 'objectName' : [obj_tmp['objectName']], \n",
    "                                 'culture': [obj_tmp['culture']],\n",
    "                                 'period': [obj_tmp['period']]\n",
    "                            })\n",
    "        # приклеиваем\n",
    "        object_df = pd.concat([object_df, obj_tmp_df])\n",
    "    except KeyError:\n",
    "        continue\n",
    "        "
   ]
  },
  {
   "cell_type": "raw",
   "metadata": {},
   "source": [
    "В каком периоде (period) было выполнено наибольшее количество работ, представленных в музее?\n",
    "На этот вопрос можно получить ответ, применив метод .value_counts() к колонке period:"
   ]
  },
  {
   "cell_type": "code",
   "execution_count": 32,
   "metadata": {},
   "outputs": [
    {
     "data": {
      "text/plain": [
       "Edo period (1615–1868)          444\n",
       "                                108\n",
       "Qing dynasty (1644–1911)         62\n",
       "Ming dynasty (1368–1644)         36\n",
       "Muromachi period (1392–1573)     30\n",
       "Name: period, dtype: int64"
      ]
     },
     "execution_count": 32,
     "metadata": {},
     "output_type": "execute_result"
    }
   ],
   "source": [
    "object_df.period.value_counts().head(5)"
   ]
  },
  {
   "cell_type": "code",
   "execution_count": null,
   "metadata": {},
   "outputs": [],
   "source": []
  }
 ],
 "metadata": {
  "kernelspec": {
   "display_name": "Python 3",
   "language": "python",
   "name": "python3"
  },
  "language_info": {
   "codemirror_mode": {
    "name": "ipython",
    "version": 3
   },
   "file_extension": ".py",
   "mimetype": "text/x-python",
   "name": "python",
   "nbconvert_exporter": "python",
   "pygments_lexer": "ipython3",
   "version": "3.7.3"
  }
 },
 "nbformat": 4,
 "nbformat_minor": 4
}
