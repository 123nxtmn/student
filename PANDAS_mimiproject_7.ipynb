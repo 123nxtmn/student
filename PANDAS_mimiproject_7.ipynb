{
 "cells": [
  {
   "cell_type": "raw",
   "metadata": {},
   "source": [
    "Настало время последнего мини-проекта в блоке Python!\n",
    "В нём вы поработаете с API и узнаете, как ведут себя пользователи на сайте Яндекс.Метрики.\n",
    "\n",
    "Так как мы работаем с демо данными Яндекс.Метрики, нам позволено видеть данные только за последнюю неделю.\n",
    "Это требует обновления заданий и ответов на них каждую неделю, что не очень удобно и вам, и нам.\n",
    "Поэтому для удобства проверки мы решили немного модифицировать степы: теперь для того,\n",
    "чтобы ответить на вопросы, вам необходимо поработать с уже выгруженными датасетами из Яндекс.Метрики.\n",
    "Но вы можете самостоятельно повторить каждый из запросов в задании к реальному API Яндекс.Метрики,\n",
    "    \n",
    "чтобы потренироваться и получить данные в таком же формате, как в прикрепленном к задаче датасете."
   ]
  },
  {
   "attachments": {},
   "cell_type": "markdown",
   "metadata": {},
   "source": [
    "                          ______________________________________________________________\n",
    "                        Для начала, давайте посмотрим на распределение посещений сайта по дням. \n",
    "                              Постройте график с распределением количества посещений от\n",
    "                                ботов и обычных пользователей сайта Яндекс.Метрика.\n",
    "                                     Данные для построения графика хранятся здесь.\n",
    "                         ________________________________________________________________"
   ]
  },
  {
   "cell_type": "code",
   "execution_count": 349,
   "metadata": {},
   "outputs": [],
   "source": [
    "import pandas as pd\n",
    "%matplotlib inline\n",
    "import numpy as np\n",
    "import seaborn as sns\n",
    "import matplotlib.pyplot as plt\n",
    "import plotly.express as px\n",
    "import requests"
   ]
  },
  {
   "cell_type": "code",
   "execution_count": 350,
   "metadata": {},
   "outputs": [],
   "source": [
    "dates = [date.strftime('%Y-%m-%d') for date in pd.date_range(start='2021-11-01', end='2021-11-06')]\n",
    "\n",
    "# в задании нам необходимо запросить данные за определённый промежуток времени\n",
    "# для начала зададим интервал который нас интересует, для этого\n",
    "# воспользуемся функцией pd.date_range\n",
    "# куда пропишем начало и конец интересующей даты, их интервал (start='2021-11-01', end='2021-11-06')\n",
    "# ну и в данном случае мы создадим список с датами указав переменную в которой\n",
    "# положим то, как нужно перевести в даты [date.strftime('%Y-%m-%d')]\n",
    "# так как date_range возвращает нам не только даты, но и время, необходимо\n",
    "# указать форматирование, о котором написано строчкой выше\n",
    "# тем самым прописав for in\n",
    "# мы скажем - для каждой(for) даты применить(in) \n",
    "# тем самым, то что мы прописывали в ('%Y-%m-%d')\n",
    "# мы скажем пандасу что необходимо прописывать даты в виде года, месяца и дней\n",
    "# через дефис именно в таком формате"
   ]
  },
  {
   "cell_type": "code",
   "execution_count": 351,
   "metadata": {},
   "outputs": [],
   "source": [
    "params = {'m***cs': 'ym:****sits',\n",
    "         'dim*****ons': 'ym:s:date',\n",
    "         'dime****ns': 'ym****bot',\n",
    "         'id': '44*******'}\n",
    "\n",
    "# длаее для запроса - мы должны указать параметры, и для API яндекс метрики\n",
    "# и в параметрах мы должны указать то, какие срезы нас интересуют\n",
    "# какие данные нам требуются и какие метрики мы хотим запросить\n",
    "# первым делом мы укажем параметр 'metrics' в который необходимо записать\n",
    "# такое выражение 'ym:s:visits' где ym - это тех. часть для яндекса\n",
    "# а visits - говорит о том, что нас интересует посещения\n",
    "# далее в dimensions - мы укажем какие столбцы нас интересуют\n",
    "# сначала как обычно указывается ym:s: а далее указывается столбик, который мы хотим запросить\n",
    "# дальше мы указываем свой собственный id"
   ]
  },
  {
   "cell_type": "raw",
   "metadata": {},
   "source": [
    "-------------------------------------------------------------------------------------------------------------------------------\n",
    "                                             ОБРАЗЕЦ ВЫГРУЗКИ ДАННЫХ С ЯНДЕКС API\n",
    "-------------------------------------------------------------------------------------------------------------------------------\n",
    "url = 'http://api-metrika.yandex.net/stat/vl/data?'\n",
    "data = []\n",
    "\n",
    "for date in dates:\n",
    "    params['filters'] = f\"ym:s:date=='{date}'\"\n",
    "    visits_request = requests.get(url, params=params).json()\n",
    "    \n",
    "    for row in visits_request['data']:\n",
    "        dim = row['dimensions'][0]\n",
    "        dim['date'] = date\n",
    "        dim['metrics'] = row['metrics'][0]\n",
    "        data.append(dim)\n",
    "\n",
    "в этом образце представлен скрипт для одгрузки данных из яндекс API\\\n",
    "где в переменную url мы положим ссылку на наши данные в яндекс метрике\n",
    "эту ссылку мы будем использовать как основную, и к ней метод requests будет дописывать\n",
    "параметры уже самостоятельно\n",
    "и создадим пустой список, для того что бы по каждому дню записывать\n",
    "результаты запроса\n",
    "теперь разберёмся с запросами по датам\n",
    "скажем питону for data in dates: что означает для каждого значения data применить \n",
    "записаить в переменную dates\n",
    "далее применим переменную params где в скобки положим параметр ['filtres']\n",
    "в этом параметре можно указывать как диапазон дат, либо указать каждую дату отдельно\n",
    "как мы сделали в данном примере\n",
    "при этом в наш словарь params мы переписываем каждую дату, по ключу ['filtres']\n",
    "который добавляет дополнительное ограничение f\"ym:s:date=='{date}'\" и говорит о том\n",
    "что нам необходимо запросить только дату date=={date} которую мы сейчас обрабатываем\n",
    "далее при помощи библиотеки requests передаём запрос url и указываем необходимые\n",
    "параметры params=params и говорим что нас интересует только результат в формате .json()\n",
    "просто для того, что бы удобно доставать все наши данные\n",
    "\n",
    "\n",
    "а в visits_request есть возвращаемое значение нашего запроса по ключу ['data']\n",
    "в ней хранится некоторый набор данных который нам возвращается \n",
    "[('dimensions': (t'name's 'People!\n",
    "ne\n",
    "'date\": 2021-11-06%\n",
    "126L2205121 341,0519\n",
    "\"'metrics: 1341.013,\n",
    "*\n",
    "нам необходимо достать то, что лежит по ключу data и это и будет результатом\n",
    "за запрашиваемый день \n",
    "мы можем заметить что внутри словаря [('dimensions лежат нужные нам значения\n",
    "которые нам нужно в следствии достать это id, date, metrics\n",
    "по этому for in для каждого элемента из списка по ключу ['data']\n",
    "мы будем доставать сначала ключ 'dimensions' потом уже из\n",
    "него будем брать нулевой [0] элемент из списка по ключу\n",
    "для того, что бы получить доступ к типу пользователя, дате и метрике \n",
    "так как это словарь [('dimensions': (t'name's 'People!\n",
    "                                    ne\n",
    "                                    'date\": 2021-11-06%\n",
    "                                     126L2205121 341,0519\n",
    "                                    \"'metrics: 1341.013,\n",
    "мы можем в него дополнительно писать какие-либо ключи\n",
    "сейчас мы сохранили его в переменную dim\n",
    "порой яндекс метрика не возвращает дату, по этому мы пропишем ключ\n",
    "что dim['date'] равен date - ключу запроса\n",
    "и метрика тоже не всегда возвращается в 'dimensions'\n",
    "она записана отдельно, по этому мы так же явно пропишем дополнительно\n",
    "ключ dim['metrics'] равен ['metrics'] и добавим то, что нам возвращается по ключу ['metrics']\n",
    "и возьмём нулевой элемент [0]"
   ]
  },
  {
   "cell_type": "raw",
   "metadata": {},
   "source": [
    "visits_request\n",
    "далее посмотрим на результат"
   ]
  },
  {
   "cell_type": "raw",
   "metadata": {},
   "source": [
    "data\n",
    "далее посмотрим что у нас получилось в data в которую мы добавляли значения"
   ]
  },
  {
   "cell_type": "raw",
   "metadata": {},
   "source": [
    "data = pd.DataFrame(data)\n",
    "\n",
    "конвертируем наши результаты из data в датафрейм и корректный вид"
   ]
  },
  {
   "cell_type": "raw",
   "metadata": {},
   "source": [
    "data.head()\n",
    "\n",
    "посмотрим последние 5 результатов"
   ]
  },
  {
   "cell_type": "raw",
   "metadata": {},
   "source": [
    "data = data.drop(id, axis=1)\n",
    "\n",
    "далее дропнем столбец где удалим столбец id\n",
    "и укажем в axis=1 явный стобик что бы пандас не искал этот стобец среди строк"
   ]
  },
  {
   "cell_type": "raw",
   "metadata": {},
   "source": [
    "data = data.rename(columns={'name': 'user_type', 'metrics': 'visits'})\n",
    "\n",
    "далее для удобства переименуем наши колонки"
   ]
  },
  {
   "cell_type": "code",
   "execution_count": 352,
   "metadata": {},
   "outputs": [],
   "source": [
    "data = pd.read_csv('step_1_lesson_7.csv')\n",
    "\n",
    "# для того, что бы получить верный ответ на LMS \n",
    "# скачаем уже готовые данные, и загрузим их сюда"
   ]
  },
  {
   "cell_type": "code",
   "execution_count": 353,
   "metadata": {},
   "outputs": [
    {
     "data": {
      "text/html": [
       "<div>\n",
       "<style scoped>\n",
       "    .dataframe tbody tr th:only-of-type {\n",
       "        vertical-align: middle;\n",
       "    }\n",
       "\n",
       "    .dataframe tbody tr th {\n",
       "        vertical-align: top;\n",
       "    }\n",
       "\n",
       "    .dataframe thead th {\n",
       "        text-align: right;\n",
       "    }\n",
       "</style>\n",
       "<table border=\"1\" class=\"dataframe\">\n",
       "  <thead>\n",
       "    <tr style=\"text-align: right;\">\n",
       "      <th></th>\n",
       "      <th>date</th>\n",
       "      <th>user_type</th>\n",
       "      <th>visits</th>\n",
       "    </tr>\n",
       "  </thead>\n",
       "  <tbody>\n",
       "    <tr>\n",
       "      <th>0</th>\n",
       "      <td>2020-06-15</td>\n",
       "      <td>People</td>\n",
       "      <td>417.0</td>\n",
       "    </tr>\n",
       "    <tr>\n",
       "      <th>1</th>\n",
       "      <td>2020-06-15</td>\n",
       "      <td>Robots</td>\n",
       "      <td>177.0</td>\n",
       "    </tr>\n",
       "    <tr>\n",
       "      <th>2</th>\n",
       "      <td>2020-06-16</td>\n",
       "      <td>People</td>\n",
       "      <td>472.0</td>\n",
       "    </tr>\n",
       "    <tr>\n",
       "      <th>3</th>\n",
       "      <td>2020-06-16</td>\n",
       "      <td>Robots</td>\n",
       "      <td>91.0</td>\n",
       "    </tr>\n",
       "    <tr>\n",
       "      <th>4</th>\n",
       "      <td>2020-06-17</td>\n",
       "      <td>People</td>\n",
       "      <td>475.0</td>\n",
       "    </tr>\n",
       "    <tr>\n",
       "      <th>5</th>\n",
       "      <td>2020-06-17</td>\n",
       "      <td>Robots</td>\n",
       "      <td>138.0</td>\n",
       "    </tr>\n",
       "  </tbody>\n",
       "</table>\n",
       "</div>"
      ],
      "text/plain": [
       "         date user_type  visits\n",
       "0  2020-06-15    People   417.0\n",
       "1  2020-06-15    Robots   177.0\n",
       "2  2020-06-16    People   472.0\n",
       "3  2020-06-16    Robots    91.0\n",
       "4  2020-06-17    People   475.0\n",
       "5  2020-06-17    Robots   138.0"
      ]
     },
     "execution_count": 353,
     "metadata": {},
     "output_type": "execute_result"
    }
   ],
   "source": [
    "data\n",
    "# посмотрим не результат(Он был бы такой же если бы работали с верхней метрикой)"
   ]
  },
  {
   "cell_type": "code",
   "execution_count": 354,
   "metadata": {},
   "outputs": [
    {
     "data": {
      "text/plain": [
       "<matplotlib.axes._subplots.AxesSubplot at 0x7fe59d245c88>"
      ]
     },
     "execution_count": 354,
     "metadata": {},
     "output_type": "execute_result"
    },
    {
     "data": {
      "image/png": "[encoded data removed]",
      "text/plain": [
       "<Figure size 720x432 with 1 Axes>"
      ]
     },
     "metadata": {
      "needs_background": "light"
     },
     "output_type": "display_data"
    }
   ],
   "source": [
    "fig, ax = plt.subplots(figsize=(10, 6))\n",
    "sns.barplot(data=data, x='date', y='visits', hue='user_type', ax=ax)\n",
    "\n",
    "# построим фигуру\n",
    "# обозначив что это фигура fig, далее укажем в ax что собираемся \n",
    "# задать параметры при помощи функции plt.subplots туда параметры размера фигуры (10, 6)\n",
    "# далее построим сам график при помощи функции библиотеки sns где укажем что строим barplot \n",
    "# где укажем в скобках наш датафрейм, \n",
    "# после чего обозначим оси, где по оси x будет колонка date с датой\n",
    "# по оси y будет колонка с visits с колличеством переходов на сайт\n",
    "# а дальше укажем по какой колонке будем делить значения hue = 'user_type'\n",
    "# которая разделит в графике на People(люди) и Robots(боты)"
   ]
  },
  {
   "attachments": {},
   "cell_type": "markdown",
   "metadata": {},
   "source": [
    "                                 ______________________________________________\n",
    "                                Определите процент посещений сайта Яндекс.Метрики\n",
    "                                 с бразузера Google Chrome. Данные лежат здесь.\n",
    "\n",
    "                                         Ответ округлите до целого.\n",
    "                                _______________________________________________"
   ]
  },
  {
   "cell_type": "code",
   "execution_count": 355,
   "metadata": {},
   "outputs": [],
   "source": [
    "data = pd.read_csv('step_2_lesson_7.csv')"
   ]
  },
  {
   "cell_type": "code",
   "execution_count": 356,
   "metadata": {},
   "outputs": [
    {
     "data": {
      "text/html": [
       "<div>\n",
       "<style scoped>\n",
       "    .dataframe tbody tr th:only-of-type {\n",
       "        vertical-align: middle;\n",
       "    }\n",
       "\n",
       "    .dataframe tbody tr th {\n",
       "        vertical-align: top;\n",
       "    }\n",
       "\n",
       "    .dataframe thead th {\n",
       "        text-align: right;\n",
       "    }\n",
       "</style>\n",
       "<table border=\"1\" class=\"dataframe\">\n",
       "  <thead>\n",
       "    <tr style=\"text-align: right;\">\n",
       "      <th></th>\n",
       "      <th>date</th>\n",
       "      <th>browser</th>\n",
       "      <th>visits</th>\n",
       "    </tr>\n",
       "  </thead>\n",
       "  <tbody>\n",
       "    <tr>\n",
       "      <th>0</th>\n",
       "      <td>2020-06-15</td>\n",
       "      <td>Google Chrome</td>\n",
       "      <td>354.0</td>\n",
       "    </tr>\n",
       "    <tr>\n",
       "      <th>1</th>\n",
       "      <td>2020-06-15</td>\n",
       "      <td>Firefox</td>\n",
       "      <td>58.0</td>\n",
       "    </tr>\n",
       "    <tr>\n",
       "      <th>2</th>\n",
       "      <td>2020-06-15</td>\n",
       "      <td>Yandex Browser</td>\n",
       "      <td>54.0</td>\n",
       "    </tr>\n",
       "    <tr>\n",
       "      <th>3</th>\n",
       "      <td>2020-06-15</td>\n",
       "      <td>Safari</td>\n",
       "      <td>41.0</td>\n",
       "    </tr>\n",
       "    <tr>\n",
       "      <th>4</th>\n",
       "      <td>2020-06-15</td>\n",
       "      <td>Chrome Mobile</td>\n",
       "      <td>31.0</td>\n",
       "    </tr>\n",
       "    <tr>\n",
       "      <th>5</th>\n",
       "      <td>2020-06-15</td>\n",
       "      <td>Opera</td>\n",
       "      <td>16.0</td>\n",
       "    </tr>\n",
       "    <tr>\n",
       "      <th>6</th>\n",
       "      <td>2020-06-15</td>\n",
       "      <td>Mobile Safari</td>\n",
       "      <td>16.0</td>\n",
       "    </tr>\n",
       "    <tr>\n",
       "      <th>7</th>\n",
       "      <td>2020-06-15</td>\n",
       "      <td>Samsung Internet</td>\n",
       "      <td>9.0</td>\n",
       "    </tr>\n",
       "    <tr>\n",
       "      <th>8</th>\n",
       "      <td>2020-06-15</td>\n",
       "      <td>Edge</td>\n",
       "      <td>5.0</td>\n",
       "    </tr>\n",
       "    <tr>\n",
       "      <th>9</th>\n",
       "      <td>2020-06-15</td>\n",
       "      <td>UCWEB</td>\n",
       "      <td>4.0</td>\n",
       "    </tr>\n",
       "    <tr>\n",
       "      <th>10</th>\n",
       "      <td>2020-06-15</td>\n",
       "      <td>Chromium</td>\n",
       "      <td>2.0</td>\n",
       "    </tr>\n",
       "    <tr>\n",
       "      <th>11</th>\n",
       "      <td>2020-06-15</td>\n",
       "      <td>Android Browser</td>\n",
       "      <td>1.0</td>\n",
       "    </tr>\n",
       "    <tr>\n",
       "      <th>12</th>\n",
       "      <td>2020-06-15</td>\n",
       "      <td>Yandex: mobile app</td>\n",
       "      <td>1.0</td>\n",
       "    </tr>\n",
       "    <tr>\n",
       "      <th>13</th>\n",
       "      <td>2020-06-15</td>\n",
       "      <td>Vivaldi</td>\n",
       "      <td>1.0</td>\n",
       "    </tr>\n",
       "    <tr>\n",
       "      <th>14</th>\n",
       "      <td>2020-06-15</td>\n",
       "      <td>CocCoc</td>\n",
       "      <td>1.0</td>\n",
       "    </tr>\n",
       "  </tbody>\n",
       "</table>\n",
       "</div>"
      ],
      "text/plain": [
       "          date             browser  visits\n",
       "0   2020-06-15       Google Chrome   354.0\n",
       "1   2020-06-15             Firefox    58.0\n",
       "2   2020-06-15      Yandex Browser    54.0\n",
       "3   2020-06-15              Safari    41.0\n",
       "4   2020-06-15       Chrome Mobile    31.0\n",
       "5   2020-06-15               Opera    16.0\n",
       "6   2020-06-15       Mobile Safari    16.0\n",
       "7   2020-06-15    Samsung Internet     9.0\n",
       "8   2020-06-15                Edge     5.0\n",
       "9   2020-06-15               UCWEB     4.0\n",
       "10  2020-06-15            Chromium     2.0\n",
       "11  2020-06-15     Android Browser     1.0\n",
       "12  2020-06-15  Yandex: mobile app     1.0\n",
       "13  2020-06-15             Vivaldi     1.0\n",
       "14  2020-06-15              CocCoc     1.0"
      ]
     },
     "execution_count": 356,
     "metadata": {},
     "output_type": "execute_result"
    }
   ],
   "source": [
    "data"
   ]
  },
  {
   "cell_type": "code",
   "execution_count": 357,
   "metadata": {},
   "outputs": [
    {
     "data": {
      "text/plain": [
       "354.0"
      ]
     },
     "execution_count": 357,
     "metadata": {},
     "output_type": "execute_result"
    }
   ],
   "source": [
    "data.loc[data.browser == 'Google Chrome'].visits.iloc[0]\n",
    "\n",
    "# что бы вычислить наше значение из колонки google chrome\n",
    "# мы возьмём датафрейм и через функцию .loc пропишем путь к нашему столбцу и значению\n",
    "# тоесть пропишем в контейнере датафрейм.колонка нужное значение google chrome\n",
    "# после чего выберем колонку с колличеством посещений, так как оно нас и интересует для данного значения\n",
    "# а что бы достать только финальное значение нашего вычесления\n",
    "# мы обратиммся к 0 нулевому значению нашего series и используем iloc"
   ]
  },
  {
   "cell_type": "code",
   "execution_count": 358,
   "metadata": {},
   "outputs": [],
   "source": [
    "data_loc = data.loc[data.browser == 'Google Chrome']['visits'].iloc[0] / data.visits.sum() * 100\n",
    "\n",
    "# далее создадим переменную в которой укажем\n",
    "# что бы вычислить наше значение из колонки google chrome\n",
    "# мы возьмём датафрейм и через функцию .loc пропишем путь к нашему столбцу и значению\n",
    "# тоесть пропишем в контейнере датафрейм.колонка нужное значение google chrome\n",
    "# после чего выберем колонку с колличеством посещений, \n",
    "# так как оно нас и интересует для данного значения ['visits']\n",
    "# мы обратиммся к 0 нулевому значению нашего series и используем iloc\n",
    "# и разделим наш датафрейм со значением google chrome и visits на датафрейм с колонкой visits\n",
    "# применим функцию .sum() для того, что бы получить общее значение колонки visits \n",
    "# и после чего умножим * на 100\n",
    "# для того, что бы получить процент"
   ]
  },
  {
   "cell_type": "code",
   "execution_count": 359,
   "metadata": {},
   "outputs": [
    {
     "data": {
      "text/plain": [
       "60.0"
      ]
     },
     "execution_count": 359,
     "metadata": {},
     "output_type": "execute_result"
    }
   ],
   "source": [
    "data_loc.round()\n",
    "\n",
    "# применим к нашей переменной .round что бы округлить полученное нами значение"
   ]
  },
  {
   "attachments": {},
   "cell_type": "markdown",
   "metadata": {},
   "source": [
    "   _______________________________________________________________________________________________________________________\n",
    "                             Давайте выясним, с какого браузера приходит больше всего ботов. \n",
    "                            Посмотрите на данные и определите, у какого браузера самая большая\n",
    "                          доля посещений сайта ботами от общего числа посещений в этом браузере?\n",
    "\n",
    "                                     В качестве ответа укажите название браузера.\n",
    "    ________________________________________________________________________________________________________________________"
   ]
  },
  {
   "cell_type": "code",
   "execution_count": 360,
   "metadata": {},
   "outputs": [],
   "source": [
    "data = pd.read_csv('https://stepik.org/media/at*****ments/lesson/3*****18/ste*****son_7.csv')\n",
    "\n",
    "# для начала подгрузим данные по указанной ссылке в задании и запишем данные в переменную"
   ]
  },
  {
   "cell_type": "code",
   "execution_count": 361,
   "metadata": {},
   "outputs": [
    {
     "data": {
      "text/html": [
       "<div>\n",
       "<style scoped>\n",
       "    .dataframe tbody tr th:only-of-type {\n",
       "        vertical-align: middle;\n",
       "    }\n",
       "\n",
       "    .dataframe tbody tr th {\n",
       "        vertical-align: top;\n",
       "    }\n",
       "\n",
       "    .dataframe thead th {\n",
       "        text-align: right;\n",
       "    }\n",
       "</style>\n",
       "<table border=\"1\" class=\"dataframe\">\n",
       "  <thead>\n",
       "    <tr style=\"text-align: right;\">\n",
       "      <th></th>\n",
       "      <th>date</th>\n",
       "      <th>browser</th>\n",
       "      <th>user_type</th>\n",
       "      <th>visits</th>\n",
       "    </tr>\n",
       "  </thead>\n",
       "  <tbody>\n",
       "    <tr>\n",
       "      <th>0</th>\n",
       "      <td>2020-06-15</td>\n",
       "      <td>Google Chrome</td>\n",
       "      <td>People</td>\n",
       "      <td>250.0</td>\n",
       "    </tr>\n",
       "    <tr>\n",
       "      <th>1</th>\n",
       "      <td>2020-06-15</td>\n",
       "      <td>Google Chrome</td>\n",
       "      <td>Robots</td>\n",
       "      <td>104.0</td>\n",
       "    </tr>\n",
       "    <tr>\n",
       "      <th>2</th>\n",
       "      <td>2020-06-15</td>\n",
       "      <td>Yandex Browser</td>\n",
       "      <td>People</td>\n",
       "      <td>47.0</td>\n",
       "    </tr>\n",
       "    <tr>\n",
       "      <th>3</th>\n",
       "      <td>2020-06-15</td>\n",
       "      <td>Firefox</td>\n",
       "      <td>Robots</td>\n",
       "      <td>31.0</td>\n",
       "    </tr>\n",
       "    <tr>\n",
       "      <th>4</th>\n",
       "      <td>2020-06-15</td>\n",
       "      <td>Chrome Mobile</td>\n",
       "      <td>People</td>\n",
       "      <td>31.0</td>\n",
       "    </tr>\n",
       "  </tbody>\n",
       "</table>\n",
       "</div>"
      ],
      "text/plain": [
       "         date         browser user_type  visits\n",
       "0  2020-06-15   Google Chrome    People   250.0\n",
       "1  2020-06-15   Google Chrome    Robots   104.0\n",
       "2  2020-06-15  Yandex Browser    People    47.0\n",
       "3  2020-06-15         Firefox    Robots    31.0\n",
       "4  2020-06-15   Chrome Mobile    People    31.0"
      ]
     },
     "execution_count": 361,
     "metadata": {},
     "output_type": "execute_result"
    }
   ],
   "source": [
    "data.head()\n",
    "\n",
    "# посмотрим результат записи"
   ]
  },
  {
   "cell_type": "code",
   "execution_count": 362,
   "metadata": {},
   "outputs": [
    {
     "data": {
      "text/plain": [
       "date          1\n",
       "browser      15\n",
       "user_type     2\n",
       "visits       14\n",
       "dtype: int64"
      ]
     },
     "execution_count": 362,
     "metadata": {},
     "output_type": "execute_result"
    }
   ],
   "source": [
    "data.nunique()\n",
    "\n",
    "# найдём уникальные значения для каждого столбца из нашего датафрейма с помощью\n",
    "# функции .nunique()"
   ]
  },
  {
   "cell_type": "code",
   "execution_count": 363,
   "metadata": {},
   "outputs": [],
   "source": [
    "visits_ut_b = data.groupby(['browser', 'user_type']).visits.sum()\n",
    "\n",
    "# создадим переменную, в которой сгруппируем данные датафрейма по колонкам browser и user_type\n",
    "# после чего укажем колонку .visits для того, что бы найти значения для каждой колонки\n",
    "# в каком browser и какие user_type сделало в сумме visits"
   ]
  },
  {
   "cell_type": "code",
   "execution_count": 364,
   "metadata": {},
   "outputs": [
    {
     "data": {
      "text/plain": [
       "browser          user_type\n",
       "Android Browser  People        1.0\n",
       "Chrome Mobile    People       31.0\n",
       "Chromium         People        1.0\n",
       "                 Robots        1.0\n",
       "CocCoc           People        1.0\n",
       "Name: visits, dtype: float64"
      ]
     },
     "execution_count": 364,
     "metadata": {},
     "output_type": "execute_result"
    }
   ],
   "source": [
    "visits_ut_b.head()\n",
    "\n",
    "# посмотри на результат нашего подсчёта"
   ]
  },
  {
   "cell_type": "code",
   "execution_count": 365,
   "metadata": {},
   "outputs": [],
   "source": [
    "visits_b = data.groupby(['browser']).visits.sum()\n",
    "\n",
    "# далее посмотрим в какие браузеры и какое колличество посещений было сделано в общем\n",
    "# для этого сгруппируем датафрейм по колонке 'browser'\n",
    "# после чего укажем колонку .visits() из которой нам нужно узнать сумму посещений в общем\n",
    "# и мы посмотрим в какие browser сколько было сделано visits в сумме sum()"
   ]
  },
  {
   "cell_type": "code",
   "execution_count": 366,
   "metadata": {},
   "outputs": [
    {
     "data": {
      "text/plain": [
       "browser\n",
       "Android Browser     1.0\n",
       "Chrome Mobile      31.0\n",
       "Chromium            2.0\n",
       "CocCoc              1.0\n",
       "Edge                5.0\n",
       "Name: visits, dtype: float64"
      ]
     },
     "execution_count": 366,
     "metadata": {},
     "output_type": "execute_result"
    }
   ],
   "source": [
    "visits_b.head()\n",
    "\n",
    "# посмотрим на результат"
   ]
  },
  {
   "cell_type": "code",
   "execution_count": 367,
   "metadata": {},
   "outputs": [],
   "source": [
    "shares = visits_ut_b / visits_b\n",
    "\n",
    "# далее ранее созданные переменные разделим друг на друга\n",
    "# что бы получить  данные по типам юзеров и браузеров в сумме на данные только по браузерам\n",
    "# пандас за нас объединит данные и поделит то, что мы посчитали для роботов и людей по браузерам\n",
    "# на общее колличество посещений только по браузерам\n"
   ]
  },
  {
   "cell_type": "code",
   "execution_count": 368,
   "metadata": {},
   "outputs": [
    {
     "data": {
      "text/plain": [
       "browser             user_type\n",
       "Android Browser     People       1.000000\n",
       "Chrome Mobile       People       1.000000\n",
       "Chromium            People       0.500000\n",
       "                    Robots       0.500000\n",
       "CocCoc              People       1.000000\n",
       "Edge                People       0.800000\n",
       "                    Robots       0.200000\n",
       "Firefox             People       0.465517\n",
       "                    Robots       0.534483\n",
       "Google Chrome       People       0.706215\n",
       "                    Robots       0.293785\n",
       "Mobile Safari       People       0.937500\n",
       "                    Robots       0.062500\n",
       "Opera               People       0.687500\n",
       "                    Robots       0.312500\n",
       "Safari              People       0.463415\n",
       "                    Robots       0.536585\n",
       "Samsung Internet    People       0.888889\n",
       "                    Robots       0.111111\n",
       "UCWEB               Robots       1.000000\n",
       "Vivaldi             People       1.000000\n",
       "Yandex Browser      People       0.870370\n",
       "                    Robots       0.129630\n",
       "Yandex: mobile app  People       1.000000\n",
       "Name: visits, dtype: float64"
      ]
     },
     "execution_count": 368,
     "metadata": {},
     "output_type": "execute_result"
    }
   ],
   "source": [
    "shares"
   ]
  },
  {
   "cell_type": "code",
   "execution_count": 369,
   "metadata": {},
   "outputs": [
    {
     "data": {
      "text/plain": [
       "browser\n",
       "UCWEB               1.000000\n",
       "Safari              0.536585\n",
       "Firefox             0.534483\n",
       "Chromium            0.500000\n",
       "Opera               0.312500\n",
       "Google Chrome       0.293785\n",
       "Edge                0.200000\n",
       "Yandex Browser      0.129630\n",
       "Samsung Internet    0.111111\n",
       "Mobile Safari       0.062500\n",
       "Name: visits, dtype: float64"
      ]
     },
     "execution_count": 369,
     "metadata": {},
     "output_type": "execute_result"
    }
   ],
   "source": [
    "shares.loc[:, 'Robots'].sort_values(ascending=False)\n",
    "\n",
    "# далее обратимся к нашим результатам которые выполнили в прошлой ячейке\n",
    "# используем для этого .loc который позволяет обрабатывать мульти индекс\n",
    "# тоесть когда у нас в результатах не один уровень, а больше\n",
    "# мы можем в loc фильтровать по каждому из индексов в \n",
    "# соответствующем порядке, тоесть в данном случае мы говорорим пандасу\n",
    "# что нас интересуют любые браузеры, тоесть - все обозначив это так - [:\n",
    "# а второй индекс, который отвечает за типы пользователй 'Robots'\n",
    "# это то самое значение которое было в колнке user_type \n",
    "# и говорим что нас интересует значение только равное 'Robots'\n",
    "# После чего отсортируем наш полученый результат от большего к меньшему, тоесть по убыванию\n",
    "# тем самым получем браузер, с самой большой долей посещений"
   ]
  },
  {
   "attachments": {},
   "cell_type": "markdown",
   "metadata": {},
   "source": [
    "                       ___________________________________________________________________________________\n",
    "                         Выгрузите данные, содержащие информацию о дне, типе пользователя, браузере.\n",
    "                        Создайте колонку с метрикой доли заходов на сайт для каждого из этих разрезов.\n",
    "\n",
    "                     В ответе укажите процент открытий сайта настоящими пользователями Safari (не ботами)\n",
    "                                             с точностью до 1 знака после точки.\n",
    "\n",
    "                         Hint: обратите внимание, здесь вам нужно найти долю заходов конкретных типов\n",
    "                    пользователей с конкретного браузера от вообще всех-всех заходов на сайт за этот день.\n",
    "                       ________________________________________________________________________________"
   ]
  },
  {
   "cell_type": "code",
   "execution_count": 370,
   "metadata": {},
   "outputs": [],
   "source": [
    "df= pd.read_csv('https://stepik.org/media/att***nts/lesson/36****8/step_******_7.csv')"
   ]
  },
  {
   "cell_type": "code",
   "execution_count": 371,
   "metadata": {},
   "outputs": [
    {
     "data": {
      "text/html": [
       "<div>\n",
       "<style scoped>\n",
       "    .dataframe tbody tr th:only-of-type {\n",
       "        vertical-align: middle;\n",
       "    }\n",
       "\n",
       "    .dataframe tbody tr th {\n",
       "        vertical-align: top;\n",
       "    }\n",
       "\n",
       "    .dataframe thead th {\n",
       "        text-align: right;\n",
       "    }\n",
       "</style>\n",
       "<table border=\"1\" class=\"dataframe\">\n",
       "  <thead>\n",
       "    <tr style=\"text-align: right;\">\n",
       "      <th></th>\n",
       "      <th>date</th>\n",
       "      <th>browser</th>\n",
       "      <th>user_type</th>\n",
       "      <th>visits</th>\n",
       "    </tr>\n",
       "  </thead>\n",
       "  <tbody>\n",
       "    <tr>\n",
       "      <th>0</th>\n",
       "      <td>2020-06-15</td>\n",
       "      <td>Google Chrome</td>\n",
       "      <td>People</td>\n",
       "      <td>250.0</td>\n",
       "    </tr>\n",
       "    <tr>\n",
       "      <th>1</th>\n",
       "      <td>2020-06-15</td>\n",
       "      <td>Google Chrome</td>\n",
       "      <td>Robots</td>\n",
       "      <td>104.0</td>\n",
       "    </tr>\n",
       "    <tr>\n",
       "      <th>2</th>\n",
       "      <td>2020-06-15</td>\n",
       "      <td>Yandex Browser</td>\n",
       "      <td>People</td>\n",
       "      <td>47.0</td>\n",
       "    </tr>\n",
       "    <tr>\n",
       "      <th>3</th>\n",
       "      <td>2020-06-15</td>\n",
       "      <td>Firefox</td>\n",
       "      <td>Robots</td>\n",
       "      <td>31.0</td>\n",
       "    </tr>\n",
       "    <tr>\n",
       "      <th>4</th>\n",
       "      <td>2020-06-15</td>\n",
       "      <td>Chrome Mobile</td>\n",
       "      <td>People</td>\n",
       "      <td>31.0</td>\n",
       "    </tr>\n",
       "    <tr>\n",
       "      <th>5</th>\n",
       "      <td>2020-06-15</td>\n",
       "      <td>Firefox</td>\n",
       "      <td>People</td>\n",
       "      <td>27.0</td>\n",
       "    </tr>\n",
       "    <tr>\n",
       "      <th>6</th>\n",
       "      <td>2020-06-15</td>\n",
       "      <td>Safari</td>\n",
       "      <td>Robots</td>\n",
       "      <td>22.0</td>\n",
       "    </tr>\n",
       "    <tr>\n",
       "      <th>7</th>\n",
       "      <td>2020-06-15</td>\n",
       "      <td>Safari</td>\n",
       "      <td>People</td>\n",
       "      <td>19.0</td>\n",
       "    </tr>\n",
       "    <tr>\n",
       "      <th>8</th>\n",
       "      <td>2020-06-15</td>\n",
       "      <td>Mobile Safari</td>\n",
       "      <td>People</td>\n",
       "      <td>15.0</td>\n",
       "    </tr>\n",
       "    <tr>\n",
       "      <th>9</th>\n",
       "      <td>2020-06-15</td>\n",
       "      <td>Opera</td>\n",
       "      <td>People</td>\n",
       "      <td>11.0</td>\n",
       "    </tr>\n",
       "    <tr>\n",
       "      <th>10</th>\n",
       "      <td>2020-06-15</td>\n",
       "      <td>Samsung Internet</td>\n",
       "      <td>People</td>\n",
       "      <td>8.0</td>\n",
       "    </tr>\n",
       "    <tr>\n",
       "      <th>11</th>\n",
       "      <td>2020-06-15</td>\n",
       "      <td>Yandex Browser</td>\n",
       "      <td>Robots</td>\n",
       "      <td>7.0</td>\n",
       "    </tr>\n",
       "    <tr>\n",
       "      <th>12</th>\n",
       "      <td>2020-06-15</td>\n",
       "      <td>Opera</td>\n",
       "      <td>Robots</td>\n",
       "      <td>5.0</td>\n",
       "    </tr>\n",
       "    <tr>\n",
       "      <th>13</th>\n",
       "      <td>2020-06-15</td>\n",
       "      <td>UCWEB</td>\n",
       "      <td>Robots</td>\n",
       "      <td>4.0</td>\n",
       "    </tr>\n",
       "    <tr>\n",
       "      <th>14</th>\n",
       "      <td>2020-06-15</td>\n",
       "      <td>Edge</td>\n",
       "      <td>People</td>\n",
       "      <td>4.0</td>\n",
       "    </tr>\n",
       "    <tr>\n",
       "      <th>15</th>\n",
       "      <td>2020-06-15</td>\n",
       "      <td>Mobile Safari</td>\n",
       "      <td>Robots</td>\n",
       "      <td>1.0</td>\n",
       "    </tr>\n",
       "    <tr>\n",
       "      <th>16</th>\n",
       "      <td>2020-06-15</td>\n",
       "      <td>Android Browser</td>\n",
       "      <td>People</td>\n",
       "      <td>1.0</td>\n",
       "    </tr>\n",
       "    <tr>\n",
       "      <th>17</th>\n",
       "      <td>2020-06-15</td>\n",
       "      <td>Chromium</td>\n",
       "      <td>People</td>\n",
       "      <td>1.0</td>\n",
       "    </tr>\n",
       "    <tr>\n",
       "      <th>18</th>\n",
       "      <td>2020-06-15</td>\n",
       "      <td>Chromium</td>\n",
       "      <td>Robots</td>\n",
       "      <td>1.0</td>\n",
       "    </tr>\n",
       "    <tr>\n",
       "      <th>19</th>\n",
       "      <td>2020-06-15</td>\n",
       "      <td>Yandex: mobile app</td>\n",
       "      <td>People</td>\n",
       "      <td>1.0</td>\n",
       "    </tr>\n",
       "    <tr>\n",
       "      <th>20</th>\n",
       "      <td>2020-06-15</td>\n",
       "      <td>Vivaldi</td>\n",
       "      <td>People</td>\n",
       "      <td>1.0</td>\n",
       "    </tr>\n",
       "    <tr>\n",
       "      <th>21</th>\n",
       "      <td>2020-06-15</td>\n",
       "      <td>Edge</td>\n",
       "      <td>Robots</td>\n",
       "      <td>1.0</td>\n",
       "    </tr>\n",
       "    <tr>\n",
       "      <th>22</th>\n",
       "      <td>2020-06-15</td>\n",
       "      <td>CocCoc</td>\n",
       "      <td>People</td>\n",
       "      <td>1.0</td>\n",
       "    </tr>\n",
       "    <tr>\n",
       "      <th>23</th>\n",
       "      <td>2020-06-15</td>\n",
       "      <td>Samsung Internet</td>\n",
       "      <td>Robots</td>\n",
       "      <td>1.0</td>\n",
       "    </tr>\n",
       "  </tbody>\n",
       "</table>\n",
       "</div>"
      ],
      "text/plain": [
       "          date             browser user_type  visits\n",
       "0   2020-06-15       Google Chrome    People   250.0\n",
       "1   2020-06-15       Google Chrome    Robots   104.0\n",
       "2   2020-06-15      Yandex Browser    People    47.0\n",
       "3   2020-06-15             Firefox    Robots    31.0\n",
       "4   2020-06-15       Chrome Mobile    People    31.0\n",
       "5   2020-06-15             Firefox    People    27.0\n",
       "6   2020-06-15              Safari    Robots    22.0\n",
       "7   2020-06-15              Safari    People    19.0\n",
       "8   2020-06-15       Mobile Safari    People    15.0\n",
       "9   2020-06-15               Opera    People    11.0\n",
       "10  2020-06-15    Samsung Internet    People     8.0\n",
       "11  2020-06-15      Yandex Browser    Robots     7.0\n",
       "12  2020-06-15               Opera    Robots     5.0\n",
       "13  2020-06-15               UCWEB    Robots     4.0\n",
       "14  2020-06-15                Edge    People     4.0\n",
       "15  2020-06-15       Mobile Safari    Robots     1.0\n",
       "16  2020-06-15     Android Browser    People     1.0\n",
       "17  2020-06-15            Chromium    People     1.0\n",
       "18  2020-06-15            Chromium    Robots     1.0\n",
       "19  2020-06-15  Yandex: mobile app    People     1.0\n",
       "20  2020-06-15             Vivaldi    People     1.0\n",
       "21  2020-06-15                Edge    Robots     1.0\n",
       "22  2020-06-15              CocCoc    People     1.0\n",
       "23  2020-06-15    Samsung Internet    Robots     1.0"
      ]
     },
     "execution_count": 371,
     "metadata": {},
     "output_type": "execute_result"
    }
   ],
   "source": [
    "df"
   ]
  },
  {
   "cell_type": "code",
   "execution_count": 372,
   "metadata": {},
   "outputs": [],
   "source": [
    "df['all_visits'] = df.visits.sum()\n",
    "\n",
    "\n",
    "# В подсказке в задании сказано, что нам нужно найти долю заходов (visits)\n",
    "# от общего количества всех заходов на сайт в этот день.\n",
    "# Поэтому для начала создадим колонку ['all_visits'],\n",
    "# после чего обратимся к датафрейму и колонке и посчитаем общую сумму посещений visits\n",
    "# в которую запишем количество посещений в этот день (в данных он один)\n",
    "\n"
   ]
  },
  {
   "cell_type": "code",
   "execution_count": 373,
   "metadata": {},
   "outputs": [],
   "source": [
    "df['perc'] = df['visits']/df['all_visits']*100\n",
    "\n",
    "# Далее – берем колонку visits, делим на общее количество посещений и умножаем на 100, чтобы получить %:\n",
    "# предварительно создаём в датафрейме ещё одну колонку 'perc'"
   ]
  },
  {
   "cell_type": "code",
   "execution_count": 374,
   "metadata": {},
   "outputs": [],
   "source": [
    "vc = df.query(\"user_type == 'People' & browser == 'Safari'\")\n",
    "\n",
    "# Теперь фильтруем данные:\n",
    "# – user_type == 'People' – нас интересуют настоящие пользователи, а не боты\n",
    "# – browser == 'Safari' – браузер Safari\n",
    "\n",
    "# фильтруем данные через функцию .query в которой мы обозначаем\n",
    "# что user_type должен ровняться значению People, и так же с browser\n",
    "# задаём переменную, что бы в будущем округлить результат до нужного нам значения"
   ]
  },
  {
   "cell_type": "code",
   "execution_count": 375,
   "metadata": {},
   "outputs": [
    {
     "data": {
      "text/html": [
       "<div>\n",
       "<style scoped>\n",
       "    .dataframe tbody tr th:only-of-type {\n",
       "        vertical-align: middle;\n",
       "    }\n",
       "\n",
       "    .dataframe tbody tr th {\n",
       "        vertical-align: top;\n",
       "    }\n",
       "\n",
       "    .dataframe thead th {\n",
       "        text-align: right;\n",
       "    }\n",
       "</style>\n",
       "<table border=\"1\" class=\"dataframe\">\n",
       "  <thead>\n",
       "    <tr style=\"text-align: right;\">\n",
       "      <th></th>\n",
       "      <th>date</th>\n",
       "      <th>browser</th>\n",
       "      <th>user_type</th>\n",
       "      <th>visits</th>\n",
       "      <th>all_visits</th>\n",
       "      <th>perc</th>\n",
       "    </tr>\n",
       "  </thead>\n",
       "  <tbody>\n",
       "    <tr>\n",
       "      <th>7</th>\n",
       "      <td>2020-06-15</td>\n",
       "      <td>Safari</td>\n",
       "      <td>People</td>\n",
       "      <td>19.0</td>\n",
       "      <td>594.0</td>\n",
       "      <td>3.198653</td>\n",
       "    </tr>\n",
       "  </tbody>\n",
       "</table>\n",
       "</div>"
      ],
      "text/plain": [
       "         date browser user_type  visits  all_visits      perc\n",
       "7  2020-06-15  Safari    People    19.0       594.0  3.198653"
      ]
     },
     "execution_count": 375,
     "metadata": {},
     "output_type": "execute_result"
    }
   ],
   "source": [
    "vc\n",
    "# смотрим результат"
   ]
  },
  {
   "cell_type": "code",
   "execution_count": 376,
   "metadata": {},
   "outputs": [
    {
     "data": {
      "text/html": [
       "<div>\n",
       "<style scoped>\n",
       "    .dataframe tbody tr th:only-of-type {\n",
       "        vertical-align: middle;\n",
       "    }\n",
       "\n",
       "    .dataframe tbody tr th {\n",
       "        vertical-align: top;\n",
       "    }\n",
       "\n",
       "    .dataframe thead th {\n",
       "        text-align: right;\n",
       "    }\n",
       "</style>\n",
       "<table border=\"1\" class=\"dataframe\">\n",
       "  <thead>\n",
       "    <tr style=\"text-align: right;\">\n",
       "      <th></th>\n",
       "      <th>date</th>\n",
       "      <th>browser</th>\n",
       "      <th>user_type</th>\n",
       "      <th>visits</th>\n",
       "      <th>all_visits</th>\n",
       "      <th>perc</th>\n",
       "    </tr>\n",
       "  </thead>\n",
       "  <tbody>\n",
       "    <tr>\n",
       "      <th>7</th>\n",
       "      <td>2020-06-15</td>\n",
       "      <td>Safari</td>\n",
       "      <td>People</td>\n",
       "      <td>19.0</td>\n",
       "      <td>594.0</td>\n",
       "      <td>3.2</td>\n",
       "    </tr>\n",
       "  </tbody>\n",
       "</table>\n",
       "</div>"
      ],
      "text/plain": [
       "         date browser user_type  visits  all_visits  perc\n",
       "7  2020-06-15  Safari    People    19.0       594.0   3.2"
      ]
     },
     "execution_count": 376,
     "metadata": {},
     "output_type": "execute_result"
    }
   ],
   "source": [
    "vc.round(1)\n",
    "# округляем до одного знака после точки взяв датафрейм который \n",
    "# посчитали в прошлой ячейке"
   ]
  },
  {
   "cell_type": "code",
   "execution_count": 377,
   "metadata": {},
   "outputs": [
    {
     "data": {
      "text/plain": [
       "7    3.2\n",
       "Name: perc, dtype: float64"
      ]
     },
     "execution_count": 377,
     "metadata": {},
     "output_type": "execute_result"
    }
   ],
   "source": [
    "# ещё можно решить округление таким образом: \n",
    "round(df.query(\"user_type == 'People' & browser == 'Safari'\")['perc'], 1)"
   ]
  },
  {
   "attachments": {},
   "cell_type": "markdown",
   "metadata": {},
   "source": [
    "                   _______________________________________________________________________________________\n",
    "                   При помощи библиотеки gspread отправьте данные из предыдущего шага в Google SpreadSheet.\n",
    "                        Далее отправьте ссылку на получившийся файл в Google SpreadSheet \n",
    "           (не забудьте открыть доступ по ссылке, это можно сделать вручную, когда данные уже зальются в таблицу) \n",
    "                                        при помощи VK API себе в личку ВКонтакте. \n",
    "\n",
    "                                       В ответе напишите слово Да, если всё сделали :)\n",
    "                    ______________________________________________________________________________________"
   ]
  },
  {
   "cell_type": "code",
   "execution_count": 378,
   "metadata": {},
   "outputs": [],
   "source": [
    "import pandas as pd\n",
    "import datetime\n",
    "import vk_api\n",
    "import os\n",
    "import requests\n",
    "import json\n",
    "\n",
    "%matplotlib inline\n",
    "\n",
    "import matplotlib.pyplot as plt\n",
    "import seaborn as sns\n",
    "import sys\n"
   ]
  },
  {
   "cell_type": "code",
   "execution_count": 379,
   "metadata": {},
   "outputs": [],
   "source": [
    "scope = ['https://spr****ts.google.com/*****',\n",
    "         'https://www.googleapis.com/a****h/***']\n",
    "\n",
    "my_mail = 'nxt**********@gmail.com'\n",
    "\n",
    "credentials = ServiceAccountCredentials.from_json_keyfile_name('test-367615-********.json', scope)\n",
    "gs = gspread.authorize(credentials)\n",
    "\n",
    "# для начала выдаём питону доступ к тем ресурсам, куда он будет ходить\n",
    "# это google таблицы \n",
    "# и google диск\n",
    "# после чего указываем действующий E-mail куда мы будем заходить nxtmnofficial@gmail.com\n",
    "# далее мы указываем функцию ServiceAccountCredentials.from_json_keyfile_name\n",
    "# куда в скобках указывем ключ (Это название текстового файла) и указываем scope\n",
    "# ну а дальше - просто прохожим авторизацию"
   ]
  },
  {
   "cell_type": "code",
   "execution_count": 380,
   "metadata": {},
   "outputs": [],
   "source": [
    "SERVISE_ACCOUNT_FILE = 'test-367615-d68e*****234e.json'\n",
    "\n",
    "# загружаем файил с ключом от google"
   ]
  },
  {
   "cell_type": "code",
   "execution_count": null,
   "metadata": {},
   "outputs": [],
   "source": []
  },
  {
   "cell_type": "code",
   "execution_count": null,
   "metadata": {},
   "outputs": [],
   "source": []
  },
  {
   "cell_type": "code",
   "execution_count": 381,
   "metadata": {},
   "outputs": [],
   "source": [
    "gc = gspread.service_account(filename=SERVISE_ACCOUNT_FILE)\n",
    "\n",
    "# далее из библиотеки gspread. мы должны инциализировать service_account\n",
    "# и передать в скобки файл с нашей ссылкой или путь до нашего ключа\n"
   ]
  },
  {
   "cell_type": "code",
   "execution_count": 382,
   "metadata": {},
   "outputs": [],
   "source": [
    "sh = gc.create('project_7_4')\n",
    "\n",
    "# про помощи метода create у нашего метода gc\n",
    "# переддим новое название нашей таблицы\n",
    "# при этом мы создаём переменную, в которую идентифицирует или указывает\n",
    "# на ту таблицу, которую мы сейчас создаём в гугле "
   ]
  },
  {
   "cell_type": "code",
   "execution_count": 383,
   "metadata": {},
   "outputs": [],
   "source": [
    "sh.share('nxtmn*******@gmail.com', perm_type='user', role='writer')\n",
    "\n",
    "# теперь необходимо пошейрить тоесть дать доступ к файлу себе\n",
    "# при помощи метода .share у нашего объекта прошлого sh\n",
    "# передать в share наш e-mail \n",
    "# после чего в perm_type говорим то, кому даём доступ\n",
    "# и в role то, что этот кто-то может делать"
   ]
  },
  {
   "cell_type": "code",
   "execution_count": 384,
   "metadata": {},
   "outputs": [],
   "source": [
    "worksheet = sh.get_worksheet(0)"
   ]
  },
  {
   "cell_type": "code",
   "execution_count": 386,
   "metadata": {},
   "outputs": [],
   "source": [
    "link = sh.url"
   ]
  },
  {
   "cell_type": "code",
   "execution_count": 388,
   "metadata": {},
   "outputs": [],
   "source": [
    "vk_key = '****'\n",
    "\n",
    "# импортируем токен из вконтакте"
   ]
  },
  {
   "cell_type": "code",
   "execution_count": 389,
   "metadata": {},
   "outputs": [],
   "source": [
    "vk_session = vk_api.VkApi(token=token)\n",
    "vk = vk_session.get_api()\n",
    "\n",
    "# создадим переменную, и из библиотеки vk_api вызовем метод VkApi\n",
    "# и туда передадим токен (token=token)\n",
    "# этим способом мы сможем подключить вконтакте напрямую из питона"
   ]
  },
  {
   "cell_type": "code",
   "execution_count": 390,
   "metadata": {},
   "outputs": [],
   "source": [
    "with open('vk_key') as f:\n",
    "    token = f.read().strip()\n",
    "    \n",
    "# с помощью команды with open говорим 'открой документ' под названием vk_key\n",
    "# где и лежит наш ключ от токена\n",
    "# ЭТО ВТОРОЙ СПОСОБ ОТПРАВКИ МОЖНО ОТПРАВЛЯТЬ И ЧЕРЕЗ ССЫЛКУ\n"
   ]
  },
  {
   "cell_type": "code",
   "execution_count": null,
   "metadata": {},
   "outputs": [],
   "source": [
    "vk.messages.send(\n",
    "                chat_id = 1,\n",
    "                random_id = np.random.randint(1, 2 ** 31),\n",
    "                message = 'Ссылка на google sheets документ отчёта'\n",
    ")\n",
    "\n",
    "vk.messages.send(chat_id=1,\n",
    "                random_id=np.random.randint(1, 2 ** 31),\n",
    "                message=link)\n",
    "\n",
    "# Первым способом пропишем простое сообщение (Отсебятина)\n",
    "\n",
    "# теперь по заданию:\n",
    "# указываем vk.messages.send\n",
    "# далее указываем айди чата = 1\n",
    "# далее идёт (1, 2 ** 31) это генерация случайного числа\n",
    "# и в message укажем link в который мы ранее записывали ссылку документа"
   ]
  },
  {
   "cell_type": "code",
   "execution_count": null,
   "metadata": {},
   "outputs": [],
   "source": []
  },
  {
   "cell_type": "code",
   "execution_count": null,
   "metadata": {},
   "outputs": [],
   "source": []
  },
  {
   "cell_type": "code",
   "execution_count": null,
   "metadata": {},
   "outputs": [],
   "source": []
  },
  {
   "cell_type": "code",
   "execution_count": null,
   "metadata": {},
   "outputs": [],
   "source": []
  },
  {
   "cell_type": "code",
   "execution_count": null,
   "metadata": {},
   "outputs": [],
   "source": []
  },
  {
   "cell_type": "code",
   "execution_count": null,
   "metadata": {},
   "outputs": [],
   "source": []
  },
  {
   "cell_type": "code",
   "execution_count": null,
   "metadata": {},
   "outputs": [],
   "source": []
  },
  {
   "cell_type": "code",
   "execution_count": null,
   "metadata": {},
   "outputs": [],
   "source": []
  },
  {
   "cell_type": "code",
   "execution_count": null,
   "metadata": {},
   "outputs": [],
   "source": []
  },
  {
   "cell_type": "code",
   "execution_count": null,
   "metadata": {},
   "outputs": [],
   "source": []
  },
  {
   "cell_type": "code",
   "execution_count": null,
   "metadata": {},
   "outputs": [],
   "source": []
  },
  {
   "cell_type": "code",
   "execution_count": null,
   "metadata": {},
   "outputs": [],
   "source": []
  },
  {
   "cell_type": "code",
   "execution_count": null,
   "metadata": {},
   "outputs": [],
   "source": []
  },
  {
   "cell_type": "code",
   "execution_count": null,
   "metadata": {},
   "outputs": [],
   "source": []
  },
  {
   "cell_type": "code",
   "execution_count": null,
   "metadata": {},
   "outputs": [],
   "source": []
  },
  {
   "cell_type": "code",
   "execution_count": null,
   "metadata": {},
   "outputs": [],
   "source": []
  },
  {
   "cell_type": "code",
   "execution_count": null,
   "metadata": {},
   "outputs": [],
   "source": []
  },
  {
   "cell_type": "code",
   "execution_count": null,
   "metadata": {},
   "outputs": [],
   "source": []
  },
  {
   "cell_type": "code",
   "execution_count": null,
   "metadata": {},
   "outputs": [],
   "source": []
  },
  {
   "cell_type": "code",
   "execution_count": null,
   "metadata": {},
   "outputs": [],
   "source": []
  },
  {
   "cell_type": "code",
   "execution_count": null,
   "metadata": {},
   "outputs": [],
   "source": []
  },
  {
   "cell_type": "code",
   "execution_count": null,
   "metadata": {},
   "outputs": [],
   "source": []
  },
  {
   "cell_type": "code",
   "execution_count": null,
   "metadata": {},
   "outputs": [],
   "source": []
  }
 ],
 "metadata": {
  "kernelspec": {
   "display_name": "Python 3",
   "language": "python",
   "name": "python3"
  },
  "language_info": {
   "codemirror_mode": {
    "name": "ipython",
    "version": 3
   },
   "file_extension": ".py",
   "mimetype": "text/x-python",
   "name": "python",
   "nbconvert_exporter": "python",
   "pygments_lexer": "ipython3",
   "version": "3.7.3"
  }
 },
 "nbformat": 4,
 "nbformat_minor": 4
}
