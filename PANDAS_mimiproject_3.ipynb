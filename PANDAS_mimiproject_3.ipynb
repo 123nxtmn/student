{
 "cells": [
  {
   "cell_type": "code",
   "execution_count": 98,
   "metadata": {},
   "outputs": [],
   "source": [
    "#Соберите все данные из папки data в один датафрэйм, имеющий следующие столбцы: колонк\n",
    "#из самих файлов (product_id, quantity)\n",
    "#имя пользователя (name), и дату этих покупок (date),\n",
    "#соответствует названию папки, где лежит папка с пользователем).\n",
    "\n",
    "#Пример итоговой таблицы:"
   ]
  },
  {
   "cell_type": "code",
   "execution_count": 99,
   "metadata": {},
   "outputs": [],
   "source": [
    "import pandas as pd\n",
    "import os\n",
    "import seaborn as sns\n",
    "import matplotlib.pyplot as plt\n",
    "#Импортируем библиотеки"
   ]
  },
  {
   "cell_type": "code",
   "execution_count": 100,
   "metadata": {},
   "outputs": [
    {
     "name": "stdout",
     "output_type": "stream",
     "text": [
      "('/mnt/HC_Volume_18315164/home-jupyter/jupyter-p-dolgih/shared/homeworks/python_ds_miniprojects/4/data', ['2020-12-05', '2020-12-08', '2020-12-09', '2020-12-04', '2020-12-06', '2020-12-03', '2020-12-07'], [])\n",
      "('/mnt/HC_Volume_18315164/home-jupyter/jupyter-p-dolgih/shared/homeworks/python_ds_miniprojects/4/data/2020-12-05', ['Petr_Ivanov', 'Petr_Smirnov', 'Rostislav_Smirnov', 'Kirill_Smirnov', 'Alexey_Fedorov', 'Alexey_Petrov'], [])\n",
      "('/mnt/HC_Volume_18315164/home-jupyter/jupyter-p-dolgih/shared/homeworks/python_ds_miniprojects/4/data/2020-12-05/Petr_Ivanov', [], ['data.csv'])\n",
      "('/mnt/HC_Volume_18315164/home-jupyter/jupyter-p-dolgih/shared/homeworks/python_ds_miniprojects/4/data/2020-12-05/Petr_Smirnov', [], ['data.csv'])\n",
      "('/mnt/HC_Volume_18315164/home-jupyter/jupyter-p-dolgih/shared/homeworks/python_ds_miniprojects/4/data/2020-12-05/Rostislav_Smirnov', [], ['data.csv'])\n",
      "('/mnt/HC_Volume_18315164/home-jupyter/jupyter-p-dolgih/shared/homeworks/python_ds_miniprojects/4/data/2020-12-05/Kirill_Smirnov', [], ['data.csv'])\n",
      "('/mnt/HC_Volume_18315164/home-jupyter/jupyter-p-dolgih/shared/homeworks/python_ds_miniprojects/4/data/2020-12-05/Alexey_Fedorov', [], ['data.csv'])\n",
      "('/mnt/HC_Volume_18315164/home-jupyter/jupyter-p-dolgih/shared/homeworks/python_ds_miniprojects/4/data/2020-12-05/Alexey_Petrov', [], ['data.csv'])\n",
      "('/mnt/HC_Volume_18315164/home-jupyter/jupyter-p-dolgih/shared/homeworks/python_ds_miniprojects/4/data/2020-12-08', ['Petr_Petrov', 'Rostislav_Petrov', 'Kirill_Smirnov', 'Alexey_Fedorov', 'Anton_Smirnov'], [])\n",
      "('/mnt/HC_Volume_18315164/home-jupyter/jupyter-p-dolgih/shared/homeworks/python_ds_miniprojects/4/data/2020-12-08/Petr_Petrov', [], ['data.csv'])\n",
      "('/mnt/HC_Volume_18315164/home-jupyter/jupyter-p-dolgih/shared/homeworks/python_ds_miniprojects/4/data/2020-12-08/Rostislav_Petrov', [], ['data.csv'])\n",
      "('/mnt/HC_Volume_18315164/home-jupyter/jupyter-p-dolgih/shared/homeworks/python_ds_miniprojects/4/data/2020-12-08/Kirill_Smirnov', [], ['data.csv'])\n",
      "('/mnt/HC_Volume_18315164/home-jupyter/jupyter-p-dolgih/shared/homeworks/python_ds_miniprojects/4/data/2020-12-08/Alexey_Fedorov', [], ['data.csv'])\n",
      "('/mnt/HC_Volume_18315164/home-jupyter/jupyter-p-dolgih/shared/homeworks/python_ds_miniprojects/4/data/2020-12-08/Anton_Smirnov', [], ['data.csv'])\n",
      "('/mnt/HC_Volume_18315164/home-jupyter/jupyter-p-dolgih/shared/homeworks/python_ds_miniprojects/4/data/2020-12-09', ['Alexey_Smirnov', 'Anton_Petrov', 'Rostislav_Petrov', 'Anton_Smirnov', 'Anton_Ivanov', 'Petr_Fedorov', 'Vasiliy_Ivanov'], [])\n",
      "('/mnt/HC_Volume_18315164/home-jupyter/jupyter-p-dolgih/shared/homeworks/python_ds_miniprojects/4/data/2020-12-09/Alexey_Smirnov', [], ['data.csv'])\n",
      "('/mnt/HC_Volume_18315164/home-jupyter/jupyter-p-dolgih/shared/homeworks/python_ds_miniprojects/4/data/2020-12-09/Anton_Petrov', [], ['data.csv'])\n",
      "('/mnt/HC_Volume_18315164/home-jupyter/jupyter-p-dolgih/shared/homeworks/python_ds_miniprojects/4/data/2020-12-09/Rostislav_Petrov', [], ['data.csv'])\n",
      "('/mnt/HC_Volume_18315164/home-jupyter/jupyter-p-dolgih/shared/homeworks/python_ds_miniprojects/4/data/2020-12-09/Anton_Smirnov', [], ['data.csv'])\n",
      "('/mnt/HC_Volume_18315164/home-jupyter/jupyter-p-dolgih/shared/homeworks/python_ds_miniprojects/4/data/2020-12-09/Anton_Ivanov', [], ['data.csv'])\n",
      "('/mnt/HC_Volume_18315164/home-jupyter/jupyter-p-dolgih/shared/homeworks/python_ds_miniprojects/4/data/2020-12-09/Petr_Fedorov', [], ['data.csv'])\n",
      "('/mnt/HC_Volume_18315164/home-jupyter/jupyter-p-dolgih/shared/homeworks/python_ds_miniprojects/4/data/2020-12-09/Vasiliy_Ivanov', [], ['data.csv'])\n",
      "('/mnt/HC_Volume_18315164/home-jupyter/jupyter-p-dolgih/shared/homeworks/python_ds_miniprojects/4/data/2020-12-04', ['Kirill_Fedorov', 'Alexey_Smirnov', 'Rostislav_Ivanov', 'Petr_Ivanov', 'Rostislav_Fedorov', 'Petr_Smirnov', 'Rostislav_Smirnov', 'Petr_Fedorov', 'Vasiliy_Ivanov'], [])\n",
      "('/mnt/HC_Volume_18315164/home-jupyter/jupyter-p-dolgih/shared/homeworks/python_ds_miniprojects/4/data/2020-12-04/Kirill_Fedorov', [], ['data.csv'])\n",
      "('/mnt/HC_Volume_18315164/home-jupyter/jupyter-p-dolgih/shared/homeworks/python_ds_miniprojects/4/data/2020-12-04/Alexey_Smirnov', [], ['data.csv'])\n",
      "('/mnt/HC_Volume_18315164/home-jupyter/jupyter-p-dolgih/shared/homeworks/python_ds_miniprojects/4/data/2020-12-04/Rostislav_Ivanov', [], ['data.csv'])\n",
      "('/mnt/HC_Volume_18315164/home-jupyter/jupyter-p-dolgih/shared/homeworks/python_ds_miniprojects/4/data/2020-12-04/Petr_Ivanov', [], ['data.csv'])\n",
      "('/mnt/HC_Volume_18315164/home-jupyter/jupyter-p-dolgih/shared/homeworks/python_ds_miniprojects/4/data/2020-12-04/Rostislav_Fedorov', [], ['data.csv'])\n",
      "('/mnt/HC_Volume_18315164/home-jupyter/jupyter-p-dolgih/shared/homeworks/python_ds_miniprojects/4/data/2020-12-04/Petr_Smirnov', [], ['data.csv'])\n",
      "('/mnt/HC_Volume_18315164/home-jupyter/jupyter-p-dolgih/shared/homeworks/python_ds_miniprojects/4/data/2020-12-04/Rostislav_Smirnov', [], ['data.csv'])\n",
      "('/mnt/HC_Volume_18315164/home-jupyter/jupyter-p-dolgih/shared/homeworks/python_ds_miniprojects/4/data/2020-12-04/Petr_Fedorov', [], ['data.csv'])\n",
      "('/mnt/HC_Volume_18315164/home-jupyter/jupyter-p-dolgih/shared/homeworks/python_ds_miniprojects/4/data/2020-12-04/Vasiliy_Ivanov', [], ['data.csv'])\n",
      "('/mnt/HC_Volume_18315164/home-jupyter/jupyter-p-dolgih/shared/homeworks/python_ds_miniprojects/4/data/2020-12-06', ['Vasiliy_Fedorov'], [])\n",
      "('/mnt/HC_Volume_18315164/home-jupyter/jupyter-p-dolgih/shared/homeworks/python_ds_miniprojects/4/data/2020-12-06/Vasiliy_Fedorov', [], ['data.csv'])\n",
      "('/mnt/HC_Volume_18315164/home-jupyter/jupyter-p-dolgih/shared/homeworks/python_ds_miniprojects/4/data/2020-12-03', ['Alexey_Smirnov', 'Anton_Petrov', 'Vasiliy_Petrov', 'Kirill_Petrov', 'Petr_Fedorov', 'Vasiliy_Ivanov'], [])\n",
      "('/mnt/HC_Volume_18315164/home-jupyter/jupyter-p-dolgih/shared/homeworks/python_ds_miniprojects/4/data/2020-12-03/Alexey_Smirnov', [], ['data.csv'])\n",
      "('/mnt/HC_Volume_18315164/home-jupyter/jupyter-p-dolgih/shared/homeworks/python_ds_miniprojects/4/data/2020-12-03/Anton_Petrov', [], ['data.csv'])\n",
      "('/mnt/HC_Volume_18315164/home-jupyter/jupyter-p-dolgih/shared/homeworks/python_ds_miniprojects/4/data/2020-12-03/Vasiliy_Petrov', [], ['data.csv'])\n",
      "('/mnt/HC_Volume_18315164/home-jupyter/jupyter-p-dolgih/shared/homeworks/python_ds_miniprojects/4/data/2020-12-03/Kirill_Petrov', [], ['data.csv'])\n",
      "('/mnt/HC_Volume_18315164/home-jupyter/jupyter-p-dolgih/shared/homeworks/python_ds_miniprojects/4/data/2020-12-03/Petr_Fedorov', [], ['data.csv'])\n",
      "('/mnt/HC_Volume_18315164/home-jupyter/jupyter-p-dolgih/shared/homeworks/python_ds_miniprojects/4/data/2020-12-03/Vasiliy_Ivanov', [], ['data.csv'])\n",
      "('/mnt/HC_Volume_18315164/home-jupyter/jupyter-p-dolgih/shared/homeworks/python_ds_miniprojects/4/data/2020-12-07', ['Kirill_Fedorov', 'Alexey_Smirnov', 'Rostislav_Fedorov', 'Alexey_Ivanov', 'Petr_Smirnov', 'Alexey_Fedorov', 'Anton_Smirnov', 'Anton_Ivanov', 'Petr_Fedorov', 'Vasiliy_Ivanov'], [])\n",
      "('/mnt/HC_Volume_18315164/home-jupyter/jupyter-p-dolgih/shared/homeworks/python_ds_miniprojects/4/data/2020-12-07/Kirill_Fedorov', [], ['data.csv'])\n",
      "('/mnt/HC_Volume_18315164/home-jupyter/jupyter-p-dolgih/shared/homeworks/python_ds_miniprojects/4/data/2020-12-07/Alexey_Smirnov', [], ['data.csv'])\n",
      "('/mnt/HC_Volume_18315164/home-jupyter/jupyter-p-dolgih/shared/homeworks/python_ds_miniprojects/4/data/2020-12-07/Rostislav_Fedorov', [], ['data.csv'])\n",
      "('/mnt/HC_Volume_18315164/home-jupyter/jupyter-p-dolgih/shared/homeworks/python_ds_miniprojects/4/data/2020-12-07/Alexey_Ivanov', [], ['data.csv'])\n",
      "('/mnt/HC_Volume_18315164/home-jupyter/jupyter-p-dolgih/shared/homeworks/python_ds_miniprojects/4/data/2020-12-07/Petr_Smirnov', [], ['data.csv'])\n",
      "('/mnt/HC_Volume_18315164/home-jupyter/jupyter-p-dolgih/shared/homeworks/python_ds_miniprojects/4/data/2020-12-07/Alexey_Fedorov', [], ['data.csv'])\n",
      "('/mnt/HC_Volume_18315164/home-jupyter/jupyter-p-dolgih/shared/homeworks/python_ds_miniprojects/4/data/2020-12-07/Anton_Smirnov', [], ['data.csv'])\n",
      "('/mnt/HC_Volume_18315164/home-jupyter/jupyter-p-dolgih/shared/homeworks/python_ds_miniprojects/4/data/2020-12-07/Anton_Ivanov', [], ['data.csv'])\n",
      "('/mnt/HC_Volume_18315164/home-jupyter/jupyter-p-dolgih/shared/homeworks/python_ds_miniprojects/4/data/2020-12-07/Petr_Fedorov', [], ['data.csv'])\n",
      "('/mnt/HC_Volume_18315164/home-jupyter/jupyter-p-dolgih/shared/homeworks/python_ds_miniprojects/4/data/2020-12-07/Vasiliy_Ivanov', [], ['data.csv'])\n"
     ]
    }
   ],
   "source": [
    "tree = os.walk('/mnt/HC_Volume_18315164/home-jupyter/jupyter-p-dolgih/shared/homeworks/python_ds_miniprojects/4/data')\n",
    "\n",
    "#path, directories (folders), files\n",
    "for item in tree:\n",
    "    print(item)\n",
    "       \n",
    "#os.walk - рассматривает поэтапно все папки и все файлы в параметре заданной ей директории\n",
    "# в os.walk() мы указываем папку data, он откроет её, посмотрит какие в ней содержатся папки и подфайлы\n",
    "# так же она будет последовательно просматривать каждую подпапку\n",
    "# таким образом пройдя по всем подпапкам мы дойдём до всех файлов обозначеными data.scv\n",
    "# пройдя путь мы возьмём все текстовые файлы, датафреймы и т.д.\n",
    "# сначало os.walk рассмотрит все папки, потом дирректории, потом все файлы\n",
    "# если мы используем этот генератор один раз, то второй раз мы его - запустить не сможем\n",
    "\n"
   ]
  },
  {
   "cell_type": "code",
   "execution_count": 101,
   "metadata": {},
   "outputs": [],
   "source": [
    "#не сработает. так как генератор\n",
    "for item in tree:\n",
    "    print(item)"
   ]
  },
  {
   "cell_type": "code",
   "execution_count": 102,
   "metadata": {},
   "outputs": [],
   "source": [
    "tree = os.walk('/mnt/HC_Volume_18315164/home-jupyter/jupyter-p-dolgih/shared/homeworks/python_ds_miniprojects/4/data')\n",
    "data_files = []\n",
    "target_file = 'data.csv'\n",
    "\n",
    "#путь, папки, файлы\n",
    "for item in tree:\n",
    "    files = item[-1]\n",
    "    \n",
    "    #если папка содержит файлы и первый файл data.csv\n",
    "    if len(files) > 0 and target_file in files:\n",
    "        path = os.path.join(item[0], target_file)\n",
    "        data_files.append(path)\n",
    "        \n",
    "# Вызовем через переменную tree заново os.walk\n",
    "# создадим переменную data_files, куда мы будем складывать все наши полученные файлы\n",
    "# так же создаём переменную target_dile, где будем хранить название интересующего нас файла\n",
    "# зададим цикл for в котором мы будем последовательно для каждого из элементов последовательности tree\n",
    "# в переменную files мы выделим специально последний элемент из кортежа с помощью индексации [-1]\n",
    "# далее мы говорим - если длинна списка файлов у нас БОЛЬШЕ < 0 и если в нашей папке есть целевой файл\n",
    "# тоесть если среди элементов списка есть то значение, которое соответствует нашему data.scv \n",
    "# то необходимо сохранить наш путь \n",
    "# так же есть удобная функция os.path.join которая поможет скомбинировать кусочки которые нам необходимы,\n",
    "# и она сама обработает необходимые данные, добавит слэши в нужные места и т.д.\n",
    "# и в итоге с помощью метода append мы будем сохранять наш путь в data_files, который далее будем\n",
    "# использовать для чтения данных"
   ]
  },
  {
   "cell_type": "code",
   "execution_count": 103,
   "metadata": {
    "scrolled": true
   },
   "outputs": [
    {
     "data": {
      "text/plain": [
       "['/mnt/HC_Volume_18315164/home-jupyter/jupyter-p-dolgih/shared/homeworks/python_ds_miniprojects/4/data/2020-12-05/Petr_Ivanov/data.csv',\n",
       " '/mnt/HC_Volume_18315164/home-jupyter/jupyter-p-dolgih/shared/homeworks/python_ds_miniprojects/4/data/2020-12-05/Petr_Smirnov/data.csv',\n",
       " '/mnt/HC_Volume_18315164/home-jupyter/jupyter-p-dolgih/shared/homeworks/python_ds_miniprojects/4/data/2020-12-05/Rostislav_Smirnov/data.csv',\n",
       " '/mnt/HC_Volume_18315164/home-jupyter/jupyter-p-dolgih/shared/homeworks/python_ds_miniprojects/4/data/2020-12-05/Kirill_Smirnov/data.csv',\n",
       " '/mnt/HC_Volume_18315164/home-jupyter/jupyter-p-dolgih/shared/homeworks/python_ds_miniprojects/4/data/2020-12-05/Alexey_Fedorov/data.csv',\n",
       " '/mnt/HC_Volume_18315164/home-jupyter/jupyter-p-dolgih/shared/homeworks/python_ds_miniprojects/4/data/2020-12-05/Alexey_Petrov/data.csv',\n",
       " '/mnt/HC_Volume_18315164/home-jupyter/jupyter-p-dolgih/shared/homeworks/python_ds_miniprojects/4/data/2020-12-08/Petr_Petrov/data.csv',\n",
       " '/mnt/HC_Volume_18315164/home-jupyter/jupyter-p-dolgih/shared/homeworks/python_ds_miniprojects/4/data/2020-12-08/Rostislav_Petrov/data.csv',\n",
       " '/mnt/HC_Volume_18315164/home-jupyter/jupyter-p-dolgih/shared/homeworks/python_ds_miniprojects/4/data/2020-12-08/Kirill_Smirnov/data.csv',\n",
       " '/mnt/HC_Volume_18315164/home-jupyter/jupyter-p-dolgih/shared/homeworks/python_ds_miniprojects/4/data/2020-12-08/Alexey_Fedorov/data.csv',\n",
       " '/mnt/HC_Volume_18315164/home-jupyter/jupyter-p-dolgih/shared/homeworks/python_ds_miniprojects/4/data/2020-12-08/Anton_Smirnov/data.csv',\n",
       " '/mnt/HC_Volume_18315164/home-jupyter/jupyter-p-dolgih/shared/homeworks/python_ds_miniprojects/4/data/2020-12-09/Alexey_Smirnov/data.csv',\n",
       " '/mnt/HC_Volume_18315164/home-jupyter/jupyter-p-dolgih/shared/homeworks/python_ds_miniprojects/4/data/2020-12-09/Anton_Petrov/data.csv',\n",
       " '/mnt/HC_Volume_18315164/home-jupyter/jupyter-p-dolgih/shared/homeworks/python_ds_miniprojects/4/data/2020-12-09/Rostislav_Petrov/data.csv',\n",
       " '/mnt/HC_Volume_18315164/home-jupyter/jupyter-p-dolgih/shared/homeworks/python_ds_miniprojects/4/data/2020-12-09/Anton_Smirnov/data.csv',\n",
       " '/mnt/HC_Volume_18315164/home-jupyter/jupyter-p-dolgih/shared/homeworks/python_ds_miniprojects/4/data/2020-12-09/Anton_Ivanov/data.csv',\n",
       " '/mnt/HC_Volume_18315164/home-jupyter/jupyter-p-dolgih/shared/homeworks/python_ds_miniprojects/4/data/2020-12-09/Petr_Fedorov/data.csv',\n",
       " '/mnt/HC_Volume_18315164/home-jupyter/jupyter-p-dolgih/shared/homeworks/python_ds_miniprojects/4/data/2020-12-09/Vasiliy_Ivanov/data.csv',\n",
       " '/mnt/HC_Volume_18315164/home-jupyter/jupyter-p-dolgih/shared/homeworks/python_ds_miniprojects/4/data/2020-12-04/Kirill_Fedorov/data.csv',\n",
       " '/mnt/HC_Volume_18315164/home-jupyter/jupyter-p-dolgih/shared/homeworks/python_ds_miniprojects/4/data/2020-12-04/Alexey_Smirnov/data.csv',\n",
       " '/mnt/HC_Volume_18315164/home-jupyter/jupyter-p-dolgih/shared/homeworks/python_ds_miniprojects/4/data/2020-12-04/Rostislav_Ivanov/data.csv',\n",
       " '/mnt/HC_Volume_18315164/home-jupyter/jupyter-p-dolgih/shared/homeworks/python_ds_miniprojects/4/data/2020-12-04/Petr_Ivanov/data.csv',\n",
       " '/mnt/HC_Volume_18315164/home-jupyter/jupyter-p-dolgih/shared/homeworks/python_ds_miniprojects/4/data/2020-12-04/Rostislav_Fedorov/data.csv',\n",
       " '/mnt/HC_Volume_18315164/home-jupyter/jupyter-p-dolgih/shared/homeworks/python_ds_miniprojects/4/data/2020-12-04/Petr_Smirnov/data.csv',\n",
       " '/mnt/HC_Volume_18315164/home-jupyter/jupyter-p-dolgih/shared/homeworks/python_ds_miniprojects/4/data/2020-12-04/Rostislav_Smirnov/data.csv',\n",
       " '/mnt/HC_Volume_18315164/home-jupyter/jupyter-p-dolgih/shared/homeworks/python_ds_miniprojects/4/data/2020-12-04/Petr_Fedorov/data.csv',\n",
       " '/mnt/HC_Volume_18315164/home-jupyter/jupyter-p-dolgih/shared/homeworks/python_ds_miniprojects/4/data/2020-12-04/Vasiliy_Ivanov/data.csv',\n",
       " '/mnt/HC_Volume_18315164/home-jupyter/jupyter-p-dolgih/shared/homeworks/python_ds_miniprojects/4/data/2020-12-06/Vasiliy_Fedorov/data.csv',\n",
       " '/mnt/HC_Volume_18315164/home-jupyter/jupyter-p-dolgih/shared/homeworks/python_ds_miniprojects/4/data/2020-12-03/Alexey_Smirnov/data.csv',\n",
       " '/mnt/HC_Volume_18315164/home-jupyter/jupyter-p-dolgih/shared/homeworks/python_ds_miniprojects/4/data/2020-12-03/Anton_Petrov/data.csv',\n",
       " '/mnt/HC_Volume_18315164/home-jupyter/jupyter-p-dolgih/shared/homeworks/python_ds_miniprojects/4/data/2020-12-03/Vasiliy_Petrov/data.csv',\n",
       " '/mnt/HC_Volume_18315164/home-jupyter/jupyter-p-dolgih/shared/homeworks/python_ds_miniprojects/4/data/2020-12-03/Kirill_Petrov/data.csv',\n",
       " '/mnt/HC_Volume_18315164/home-jupyter/jupyter-p-dolgih/shared/homeworks/python_ds_miniprojects/4/data/2020-12-03/Petr_Fedorov/data.csv',\n",
       " '/mnt/HC_Volume_18315164/home-jupyter/jupyter-p-dolgih/shared/homeworks/python_ds_miniprojects/4/data/2020-12-03/Vasiliy_Ivanov/data.csv',\n",
       " '/mnt/HC_Volume_18315164/home-jupyter/jupyter-p-dolgih/shared/homeworks/python_ds_miniprojects/4/data/2020-12-07/Kirill_Fedorov/data.csv',\n",
       " '/mnt/HC_Volume_18315164/home-jupyter/jupyter-p-dolgih/shared/homeworks/python_ds_miniprojects/4/data/2020-12-07/Alexey_Smirnov/data.csv',\n",
       " '/mnt/HC_Volume_18315164/home-jupyter/jupyter-p-dolgih/shared/homeworks/python_ds_miniprojects/4/data/2020-12-07/Rostislav_Fedorov/data.csv',\n",
       " '/mnt/HC_Volume_18315164/home-jupyter/jupyter-p-dolgih/shared/homeworks/python_ds_miniprojects/4/data/2020-12-07/Alexey_Ivanov/data.csv',\n",
       " '/mnt/HC_Volume_18315164/home-jupyter/jupyter-p-dolgih/shared/homeworks/python_ds_miniprojects/4/data/2020-12-07/Petr_Smirnov/data.csv',\n",
       " '/mnt/HC_Volume_18315164/home-jupyter/jupyter-p-dolgih/shared/homeworks/python_ds_miniprojects/4/data/2020-12-07/Alexey_Fedorov/data.csv',\n",
       " '/mnt/HC_Volume_18315164/home-jupyter/jupyter-p-dolgih/shared/homeworks/python_ds_miniprojects/4/data/2020-12-07/Anton_Smirnov/data.csv',\n",
       " '/mnt/HC_Volume_18315164/home-jupyter/jupyter-p-dolgih/shared/homeworks/python_ds_miniprojects/4/data/2020-12-07/Anton_Ivanov/data.csv',\n",
       " '/mnt/HC_Volume_18315164/home-jupyter/jupyter-p-dolgih/shared/homeworks/python_ds_miniprojects/4/data/2020-12-07/Petr_Fedorov/data.csv',\n",
       " '/mnt/HC_Volume_18315164/home-jupyter/jupyter-p-dolgih/shared/homeworks/python_ds_miniprojects/4/data/2020-12-07/Vasiliy_Ivanov/data.csv']"
      ]
     },
     "execution_count": 103,
     "metadata": {},
     "output_type": "execute_result"
    }
   ],
   "source": [
    "data_files"
   ]
  },
  {
   "cell_type": "code",
   "execution_count": 104,
   "metadata": {},
   "outputs": [],
   "source": [
    "data_files_df = []\n",
    "\n",
    "for path in data_files:\n",
    "    df = pd.read_csv(path, index_col=0)\n",
    "    date, name = path.split('/')[10:12]\n",
    "    df['name'] = name\n",
    "    df['date'] = date\n",
    "    data_files_df.append(df)\n",
    "\n",
    "# создав новый список data_files_df, мы каждый раз будем сохранять новый список именно туда\n",
    "# по всем своим путям мы будем итерироваться по циклу for и каждый верхний набор данных мы будем читать\n",
    "# делать мы это будем при помощи read_csv указывая в качестве агрумента текущий путь path\n",
    "# а так же посмотрев выше на данные, мы увидели что у нас есть колонка, которая отвечает\n",
    "# за номер строки, по этому что бы избежать самовольного изменения датафрейма добавляем index_col = 0\n",
    "# далее из всегог пути нам необходимо выделить дату и имя в данном случае мы будем использовать\n",
    "# строковые методы .split который позволяет разделить строку по тому, что мы передадим в качестве аргумента ('/')\n",
    "# и если мы посмотрим на наш путь, то чётко увидим что наш путь можно разделить по data/2020-12-08/alexey итд\n",
    "# тоесть наша строка превратиться в список из четырёх элементов, далее мы обращаемся к срезу и берём из списка\n",
    "# все элементы с первого по второй включительно [10:12] последний индекс что передаётся в квадратные скобки\n",
    "# не используется в работе\n",
    "# тем самым мы вырезали 2 элемента из списка. первый из них уйдёт в date, а второй в name\n",
    "# далее мы создадим новые колонки в датафрейме что мы считали и назовём их name и date\n",
    "# и эти значения мы сохраним методом append в тот файл, который сейчас хранится в df\n"
   ]
  },
  {
   "cell_type": "code",
   "execution_count": 105,
   "metadata": {},
   "outputs": [
    {
     "data": {
      "text/html": [
       "<div>\n",
       "<style scoped>\n",
       "    .dataframe tbody tr th:only-of-type {\n",
       "        vertical-align: middle;\n",
       "    }\n",
       "\n",
       "    .dataframe tbody tr th {\n",
       "        vertical-align: top;\n",
       "    }\n",
       "\n",
       "    .dataframe thead th {\n",
       "        text-align: right;\n",
       "    }\n",
       "</style>\n",
       "<table border=\"1\" class=\"dataframe\">\n",
       "  <thead>\n",
       "    <tr style=\"text-align: right;\">\n",
       "      <th></th>\n",
       "      <th>product_id</th>\n",
       "      <th>quantity</th>\n",
       "      <th>name</th>\n",
       "      <th>date</th>\n",
       "    </tr>\n",
       "  </thead>\n",
       "  <tbody>\n",
       "    <tr>\n",
       "      <th>0</th>\n",
       "      <td>27</td>\n",
       "      <td>4</td>\n",
       "      <td>Petr_Ivanov</td>\n",
       "      <td>2020-12-05</td>\n",
       "    </tr>\n",
       "    <tr>\n",
       "      <th>1</th>\n",
       "      <td>89</td>\n",
       "      <td>1</td>\n",
       "      <td>Petr_Ivanov</td>\n",
       "      <td>2020-12-05</td>\n",
       "    </tr>\n",
       "    <tr>\n",
       "      <th>2</th>\n",
       "      <td>33</td>\n",
       "      <td>2</td>\n",
       "      <td>Petr_Ivanov</td>\n",
       "      <td>2020-12-05</td>\n",
       "    </tr>\n",
       "    <tr>\n",
       "      <th>3</th>\n",
       "      <td>8</td>\n",
       "      <td>3</td>\n",
       "      <td>Petr_Ivanov</td>\n",
       "      <td>2020-12-05</td>\n",
       "    </tr>\n",
       "    <tr>\n",
       "      <th>4</th>\n",
       "      <td>16</td>\n",
       "      <td>1</td>\n",
       "      <td>Petr_Ivanov</td>\n",
       "      <td>2020-12-05</td>\n",
       "    </tr>\n",
       "  </tbody>\n",
       "</table>\n",
       "</div>"
      ],
      "text/plain": [
       "   product_id  quantity         name        date\n",
       "0          27         4  Petr_Ivanov  2020-12-05\n",
       "1          89         1  Petr_Ivanov  2020-12-05\n",
       "2          33         2  Petr_Ivanov  2020-12-05\n",
       "3           8         3  Petr_Ivanov  2020-12-05\n",
       "4          16         1  Petr_Ivanov  2020-12-05"
      ]
     },
     "execution_count": 105,
     "metadata": {},
     "output_type": "execute_result"
    }
   ],
   "source": [
    "data_files_df[0].head()"
   ]
  },
  {
   "cell_type": "code",
   "execution_count": 106,
   "metadata": {},
   "outputs": [],
   "source": [
    "data = pd.concat(data_files_df, ignore_index=False)\n",
    "\n",
    "# для того что бы склетить все файлы с данными в один, мы будем использовать метод pd.concat\n",
    "# который на вход принимает список data_files_df или другую последовательность ИМЕННО С ДАТАФРЕЙМАМИ\n",
    "# мы будем склеивать все данные друг с другом по вертикали, \n",
    "# в конце мы прописываем ignore_index=False который говорит о том, что необходимо сбросить \n",
    "# столбец с индексом и перенумеровать все строки"
   ]
  },
  {
   "cell_type": "code",
   "execution_count": 107,
   "metadata": {},
   "outputs": [
    {
     "data": {
      "text/html": [
       "<div>\n",
       "<style scoped>\n",
       "    .dataframe tbody tr th:only-of-type {\n",
       "        vertical-align: middle;\n",
       "    }\n",
       "\n",
       "    .dataframe tbody tr th {\n",
       "        vertical-align: top;\n",
       "    }\n",
       "\n",
       "    .dataframe thead th {\n",
       "        text-align: right;\n",
       "    }\n",
       "</style>\n",
       "<table border=\"1\" class=\"dataframe\">\n",
       "  <thead>\n",
       "    <tr style=\"text-align: right;\">\n",
       "      <th></th>\n",
       "      <th>product_id</th>\n",
       "      <th>quantity</th>\n",
       "      <th>name</th>\n",
       "      <th>date</th>\n",
       "    </tr>\n",
       "  </thead>\n",
       "  <tbody>\n",
       "    <tr>\n",
       "      <th>0</th>\n",
       "      <td>27</td>\n",
       "      <td>4</td>\n",
       "      <td>Petr_Ivanov</td>\n",
       "      <td>2020-12-05</td>\n",
       "    </tr>\n",
       "    <tr>\n",
       "      <th>1</th>\n",
       "      <td>89</td>\n",
       "      <td>1</td>\n",
       "      <td>Petr_Ivanov</td>\n",
       "      <td>2020-12-05</td>\n",
       "    </tr>\n",
       "    <tr>\n",
       "      <th>2</th>\n",
       "      <td>33</td>\n",
       "      <td>2</td>\n",
       "      <td>Petr_Ivanov</td>\n",
       "      <td>2020-12-05</td>\n",
       "    </tr>\n",
       "    <tr>\n",
       "      <th>3</th>\n",
       "      <td>8</td>\n",
       "      <td>3</td>\n",
       "      <td>Petr_Ivanov</td>\n",
       "      <td>2020-12-05</td>\n",
       "    </tr>\n",
       "    <tr>\n",
       "      <th>4</th>\n",
       "      <td>16</td>\n",
       "      <td>1</td>\n",
       "      <td>Petr_Ivanov</td>\n",
       "      <td>2020-12-05</td>\n",
       "    </tr>\n",
       "    <tr>\n",
       "      <th>0</th>\n",
       "      <td>55</td>\n",
       "      <td>3</td>\n",
       "      <td>Petr_Smirnov</td>\n",
       "      <td>2020-12-05</td>\n",
       "    </tr>\n",
       "    <tr>\n",
       "      <th>1</th>\n",
       "      <td>49</td>\n",
       "      <td>3</td>\n",
       "      <td>Petr_Smirnov</td>\n",
       "      <td>2020-12-05</td>\n",
       "    </tr>\n",
       "    <tr>\n",
       "      <th>2</th>\n",
       "      <td>22</td>\n",
       "      <td>5</td>\n",
       "      <td>Petr_Smirnov</td>\n",
       "      <td>2020-12-05</td>\n",
       "    </tr>\n",
       "    <tr>\n",
       "      <th>3</th>\n",
       "      <td>83</td>\n",
       "      <td>4</td>\n",
       "      <td>Petr_Smirnov</td>\n",
       "      <td>2020-12-05</td>\n",
       "    </tr>\n",
       "    <tr>\n",
       "      <th>0</th>\n",
       "      <td>66</td>\n",
       "      <td>2</td>\n",
       "      <td>Rostislav_Smirnov</td>\n",
       "      <td>2020-12-05</td>\n",
       "    </tr>\n",
       "  </tbody>\n",
       "</table>\n",
       "</div>"
      ],
      "text/plain": [
       "   product_id  quantity               name        date\n",
       "0          27         4        Petr_Ivanov  2020-12-05\n",
       "1          89         1        Petr_Ivanov  2020-12-05\n",
       "2          33         2        Petr_Ivanov  2020-12-05\n",
       "3           8         3        Petr_Ivanov  2020-12-05\n",
       "4          16         1        Petr_Ivanov  2020-12-05\n",
       "0          55         3       Petr_Smirnov  2020-12-05\n",
       "1          49         3       Petr_Smirnov  2020-12-05\n",
       "2          22         5       Petr_Smirnov  2020-12-05\n",
       "3          83         4       Petr_Smirnov  2020-12-05\n",
       "0          66         2  Rostislav_Smirnov  2020-12-05"
      ]
     },
     "execution_count": 107,
     "metadata": {},
     "output_type": "execute_result"
    }
   ],
   "source": [
    "data.head(10)"
   ]
  },
  {
   "cell_type": "code",
   "execution_count": 108,
   "metadata": {},
   "outputs": [
    {
     "data": {
      "text/plain": [
       "480"
      ]
     },
     "execution_count": 108,
     "metadata": {},
     "output_type": "execute_result"
    }
   ],
   "source": [
    "data['quantity'].sum()\n",
    "#узнаем общую сумму столбца quantity датафрейм['колонка'].сумма"
   ]
  },
  {
   "cell_type": "code",
   "execution_count": 109,
   "metadata": {},
   "outputs": [],
   "source": [
    "#                              ВО ВТОРОМ ЗАДАНИИ НАМ НУЖНО УЗНАТЬ, КТО ИЗ ПОЛЬЗОВАТЕЛЕЙ КУПИЛ \n",
    "#                                                БОЛЬШЕ ВСЕГО ТОВАРОВ"
   ]
  },
  {
   "cell_type": "code",
   "execution_count": 110,
   "metadata": {},
   "outputs": [],
   "source": [
    "quantity_bought = data.groupby('name').quantity.sum()\n",
    "\n",
    "# из датафрейма data группируем по колонке 'name' и спомощью sum выражаем общую сумму купленных товаров в quantity"
   ]
  },
  {
   "cell_type": "code",
   "execution_count": 111,
   "metadata": {},
   "outputs": [],
   "source": [
    "max_quantity = quantity_bought.max()\n",
    "\n",
    "# из прошлой серии quanrity_bought мы вычисляем максимальное колличество купленных товаров с помощью .max()"
   ]
  },
  {
   "cell_type": "code",
   "execution_count": 112,
   "metadata": {},
   "outputs": [
    {
     "data": {
      "text/plain": [
       "52"
      ]
     },
     "execution_count": 112,
     "metadata": {},
     "output_type": "execute_result"
    }
   ],
   "source": [
    "\n",
    "max_quantity\n",
    "# посмотрим сколько один человек купил максимум товаров"
   ]
  },
  {
   "cell_type": "code",
   "execution_count": 113,
   "metadata": {},
   "outputs": [
    {
     "data": {
      "text/plain": [
       "Index(['Alexey_Smirnov', 'Petr_Smirnov'], dtype='object', name='name')"
      ]
     },
     "execution_count": 113,
     "metadata": {},
     "output_type": "execute_result"
    }
   ],
   "source": [
    "quantity_bought.loc[quantity_bought == max_quantity].index.sort_values()\n",
    "\n",
    "# теперь из всей переменной quantity_bought мы выделим только тех людей,\n",
    "# которые купили максимальное колличество товаров\n",
    "# возьмём переменную quantity_bought, при помощи .loc либо при помощи .query которая используется \n",
    "# для получения группы строк и столбцов по меткам или логическому массиву в DataFrame\n",
    "# в скобках [] - обозначаем что quantity_bought должен быть равен максимальному колличеству max_quantity\n",
    "# и в этом задании как и в предыдущих - мыберём только индекс и выставляем сортировку в порядке возрастания \n",
    "# здесь у нас индексом являются строки, по этому они сортируются автоматически в алфавитном порядке по возрастанию"
   ]
  },
  {
   "cell_type": "code",
   "execution_count": 114,
   "metadata": {},
   "outputs": [],
   "source": [
    "#                           Найдите топ-10 товаров по числу проданных единиц за всё время\n",
    "#                           и постройте барплот (столбчатую диаграмму, sns.barplot), где:\n",
    "\n",
    "#                           – по оси x – идентификаторы товаров (product_id) \n",
    "#                           – по оси y – суммарное число их покупок (сколько товаров с таким product_id было продано)\n",
    "#                           Для практики попробуйте изменить параметры графика: цвет (color), прозрачность (alpha),\n",
    "#                           сортировку значений по оси х (order). \n",
    "                            \n",
    "#                           В качестве ответа укажите, сколько было продано единиц товара с product_id равным 56."
   ]
  },
  {
   "cell_type": "code",
   "execution_count": 115,
   "metadata": {},
   "outputs": [],
   "source": [
    "products_sold = data.groupby('product_id', as_index=False).quantity.sum()\n",
    "\n",
    "# для начала создадим отдельную переменную, в которую положим отдельный результат по группировке product_id\n",
    "# где будет посчитано сколько товара в сумме .sum() в конечном итоге куплено по этому критерию\n"
   ]
  },
  {
   "cell_type": "code",
   "execution_count": 116,
   "metadata": {},
   "outputs": [
    {
     "data": {
      "text/html": [
       "<div>\n",
       "<style scoped>\n",
       "    .dataframe tbody tr th:only-of-type {\n",
       "        vertical-align: middle;\n",
       "    }\n",
       "\n",
       "    .dataframe tbody tr th {\n",
       "        vertical-align: top;\n",
       "    }\n",
       "\n",
       "    .dataframe thead th {\n",
       "        text-align: right;\n",
       "    }\n",
       "</style>\n",
       "<table border=\"1\" class=\"dataframe\">\n",
       "  <thead>\n",
       "    <tr style=\"text-align: right;\">\n",
       "      <th></th>\n",
       "      <th>product_id</th>\n",
       "      <th>quantity</th>\n",
       "    </tr>\n",
       "  </thead>\n",
       "  <tbody>\n",
       "    <tr>\n",
       "      <th>0</th>\n",
       "      <td>0</td>\n",
       "      <td>4</td>\n",
       "    </tr>\n",
       "    <tr>\n",
       "      <th>1</th>\n",
       "      <td>1</td>\n",
       "      <td>4</td>\n",
       "    </tr>\n",
       "    <tr>\n",
       "      <th>2</th>\n",
       "      <td>3</td>\n",
       "      <td>8</td>\n",
       "    </tr>\n",
       "    <tr>\n",
       "      <th>3</th>\n",
       "      <td>4</td>\n",
       "      <td>6</td>\n",
       "    </tr>\n",
       "    <tr>\n",
       "      <th>4</th>\n",
       "      <td>6</td>\n",
       "      <td>10</td>\n",
       "    </tr>\n",
       "  </tbody>\n",
       "</table>\n",
       "</div>"
      ],
      "text/plain": [
       "   product_id  quantity\n",
       "0           0         4\n",
       "1           1         4\n",
       "2           3         8\n",
       "3           4         6\n",
       "4           6        10"
      ]
     },
     "execution_count": 116,
     "metadata": {},
     "output_type": "execute_result"
    }
   ],
   "source": [
    "products_sold.head()\n",
    "\n",
    "# увидим по product_id и сколько товаров было куплено"
   ]
  },
  {
   "cell_type": "code",
   "execution_count": 117,
   "metadata": {},
   "outputs": [],
   "source": [
    "products_sold = products_sold.sort_values('quantity', ascending=False).head(10)\n",
    "\n",
    "# По заданию нам необходимо узнать топ-10 товаров которые были куплены, \n",
    "# создаём переменную в которую записываем наш датафрейм product_sold и сортируем по колонке 'quantity'\n",
    "# задаём режим сортировки по убыванию ascendibg=False\n",
    "# после чего проставляем .head(10) для отображения первых 10-ти элементов списка"
   ]
  },
  {
   "cell_type": "code",
   "execution_count": 118,
   "metadata": {},
   "outputs": [
    {
     "data": {
      "text/html": [
       "<div>\n",
       "<style scoped>\n",
       "    .dataframe tbody tr th:only-of-type {\n",
       "        vertical-align: middle;\n",
       "    }\n",
       "\n",
       "    .dataframe tbody tr th {\n",
       "        vertical-align: top;\n",
       "    }\n",
       "\n",
       "    .dataframe thead th {\n",
       "        text-align: right;\n",
       "    }\n",
       "</style>\n",
       "<table border=\"1\" class=\"dataframe\">\n",
       "  <thead>\n",
       "    <tr style=\"text-align: right;\">\n",
       "      <th></th>\n",
       "      <th>product_id</th>\n",
       "      <th>quantity</th>\n",
       "    </tr>\n",
       "  </thead>\n",
       "  <tbody>\n",
       "    <tr>\n",
       "      <th>22</th>\n",
       "      <td>27</td>\n",
       "      <td>20</td>\n",
       "    </tr>\n",
       "    <tr>\n",
       "      <th>42</th>\n",
       "      <td>56</td>\n",
       "      <td>18</td>\n",
       "    </tr>\n",
       "    <tr>\n",
       "      <th>21</th>\n",
       "      <td>24</td>\n",
       "      <td>15</td>\n",
       "    </tr>\n",
       "    <tr>\n",
       "      <th>51</th>\n",
       "      <td>74</td>\n",
       "      <td>15</td>\n",
       "    </tr>\n",
       "    <tr>\n",
       "      <th>32</th>\n",
       "      <td>41</td>\n",
       "      <td>14</td>\n",
       "    </tr>\n",
       "    <tr>\n",
       "      <th>27</th>\n",
       "      <td>34</td>\n",
       "      <td>13</td>\n",
       "    </tr>\n",
       "    <tr>\n",
       "      <th>66</th>\n",
       "      <td>94</td>\n",
       "      <td>13</td>\n",
       "    </tr>\n",
       "    <tr>\n",
       "      <th>46</th>\n",
       "      <td>66</td>\n",
       "      <td>13</td>\n",
       "    </tr>\n",
       "    <tr>\n",
       "      <th>65</th>\n",
       "      <td>92</td>\n",
       "      <td>12</td>\n",
       "    </tr>\n",
       "    <tr>\n",
       "      <th>38</th>\n",
       "      <td>50</td>\n",
       "      <td>12</td>\n",
       "    </tr>\n",
       "  </tbody>\n",
       "</table>\n",
       "</div>"
      ],
      "text/plain": [
       "    product_id  quantity\n",
       "22          27        20\n",
       "42          56        18\n",
       "21          24        15\n",
       "51          74        15\n",
       "32          41        14\n",
       "27          34        13\n",
       "66          94        13\n",
       "46          66        13\n",
       "65          92        12\n",
       "38          50        12"
      ]
     },
     "execution_count": 118,
     "metadata": {},
     "output_type": "execute_result"
    }
   ],
   "source": [
    "products_sold"
   ]
  },
  {
   "cell_type": "code",
   "execution_count": 130,
   "metadata": {},
   "outputs": [
    {
     "data": {
      "text/plain": [
       "<matplotlib.axes._subplots.AxesSubplot at 0x7f8944da16a0>"
      ]
     },
     "execution_count": 130,
     "metadata": {},
     "output_type": "execute_result"
    },
    {
     "data": {
      "image/png": "[encoded data removed]",
      "text/plain": [
       "<Figure size 1224x360 with 1 Axes>"
      ]
     },
     "metadata": {
      "needs_background": "light"
     },
     "output_type": "display_data"
    }
   ],
   "source": [
    "fig, ax = plt.subplots(figsize=(17,5))\n",
    "sns.barplot(data=products_sold.head(10), x='product_id', y='quantity',\n",
    "           order=products_sold.sort_values('quantity').product_id, ax=ax)\n",
    "\n",
    "\n",
    "# теперь наша задача в том, что бы визуализировать сколько было продано товаров по нашим product_id\n",
    "# первым делом создадим параметры отображения фигуры задав fig - фигура, \n",
    "# ax - переменная plt.subplots(Параметр фигуры(размеры))\n",
    "# из библиотеки seaborn мы будем использовать barplot в который передадим данные sns.barplot(файл=датафрейм).head(10)\n",
    "# где x-колонка 'product_id' где y - колонка 'quantity'\n",
    "# так же для красоты мы отсортируем отображение по колличеству \n",
    "# проданных элементов order=переменная.сортировкаПО('колонке quantity').колонке product_id \n",
    "# так же пропишем что хотим рисовать график на осях которые хранятся в обЪекте ax прописав ax=ax\n",
    "\n"
   ]
  },
  {
   "cell_type": "code",
   "execution_count": 131,
   "metadata": {},
   "outputs": [
    {
     "data": {
      "text/html": [
       "<div>\n",
       "<style scoped>\n",
       "    .dataframe tbody tr th:only-of-type {\n",
       "        vertical-align: middle;\n",
       "    }\n",
       "\n",
       "    .dataframe tbody tr th {\n",
       "        vertical-align: top;\n",
       "    }\n",
       "\n",
       "    .dataframe thead th {\n",
       "        text-align: right;\n",
       "    }\n",
       "</style>\n",
       "<table border=\"1\" class=\"dataframe\">\n",
       "  <thead>\n",
       "    <tr style=\"text-align: right;\">\n",
       "      <th></th>\n",
       "      <th>product_id</th>\n",
       "      <th>quantity</th>\n",
       "    </tr>\n",
       "  </thead>\n",
       "  <tbody>\n",
       "    <tr>\n",
       "      <th>42</th>\n",
       "      <td>56</td>\n",
       "      <td>18</td>\n",
       "    </tr>\n",
       "  </tbody>\n",
       "</table>\n",
       "</div>"
      ],
      "text/plain": [
       "    product_id  quantity\n",
       "42          56        18"
      ]
     },
     "execution_count": 131,
     "metadata": {},
     "output_type": "execute_result"
    }
   ],
   "source": [
    "products_sold.loc[products_sold.product_id == 56]\n",
    "\n",
    "# далее узнаем сколько товаров было проданно именно для id56\n",
    "# обрадимся к датафрейму products_sold.loc\n",
    "# далее обозгачим что [products_sold и product_id ровняется 56]"
   ]
  },
  {
   "cell_type": "code",
   "execution_count": 132,
   "metadata": {},
   "outputs": [],
   "source": [
    "\n",
    "#                                             Посмотрим на продажи по дням!\n",
    "#                         Для визуализации снова используйте барплот, только теперь по оси x будут дни,\n",
    "#                         по которым у нас есть данные (date). Далее выберите верные утверждения:\n"
   ]
  },
  {
   "cell_type": "code",
   "execution_count": 142,
   "metadata": {},
   "outputs": [],
   "source": [
    "products_per_day = data.groupby('date', as_index=False).quantity.sum()\n",
    "\n",
    "# зададим новую переменную в которой обратимся к нашему датафрейму 'data' \n",
    "# и сгруппируем данные по date "
   ]
  },
  {
   "cell_type": "code",
   "execution_count": 143,
   "metadata": {},
   "outputs": [
    {
     "data": {
      "text/plain": [
       "Text(0.5, 1.0, 'Покупки по дням')"
      ]
     },
     "execution_count": 143,
     "metadata": {},
     "output_type": "execute_result"
    },
    {
     "data": {
      "image/png": "[encoded data removed]",
      "text/plain": [
       "<Figure size 720x360 with 1 Axes>"
      ]
     },
     "metadata": {
      "needs_background": "light"
     },
     "output_type": "display_data"
    }
   ],
   "source": [
    "fig, ax = plt.subplots(figsize=(10, 5))\n",
    "sns.barplot(data=products_per_day, x='date', y='quantity',\n",
    "           order=products_per_day.date, ax=ax)\n",
    "\n",
    "ax.tick_params(axis='x', rotation=45)\n",
    "ax.set_title('Покупки по дням')\n",
    "\n",
    "# Далее мы выполним те же шаги что и в прошлом задании, только просто заменив x на 'date' \n",
    "# y - оставляем тем же самым параметром - quantity\n",
    "# изменим старый датафрейм на новый - products_per_day\n"
   ]
  },
  {
   "cell_type": "code",
   "execution_count": 145,
   "metadata": {},
   "outputs": [],
   "source": [
    "#                          Сколько пользователей приобрели какой-либо товар повторно (более 1 раза)?\n",
    "#                  Повтором будем считать покупку товара с одинаковым product_id, совершенную в разные дни. "
   ]
  },
  {
   "cell_type": "code",
   "execution_count": 151,
   "metadata": {},
   "outputs": [],
   "source": [
    "duble_2 = data.drop_duplicates(['product_id', 'name', 'date'])\n",
    "\n",
    "# создаём переменную, указываем датафрейм data. \n",
    "# Для удаления повторяющихся строк используется метод drop_duplicates.\n",
    "# далее передаём колонки, по которым хотим удалить повторяющиеся эллементы"
   ]
  },
  {
   "cell_type": "code",
   "execution_count": 152,
   "metadata": {},
   "outputs": [
    {
     "data": {
      "text/html": [
       "<div>\n",
       "<style scoped>\n",
       "    .dataframe tbody tr th:only-of-type {\n",
       "        vertical-align: middle;\n",
       "    }\n",
       "\n",
       "    .dataframe tbody tr th {\n",
       "        vertical-align: top;\n",
       "    }\n",
       "\n",
       "    .dataframe thead th {\n",
       "        text-align: right;\n",
       "    }\n",
       "</style>\n",
       "<table border=\"1\" class=\"dataframe\">\n",
       "  <thead>\n",
       "    <tr style=\"text-align: right;\">\n",
       "      <th></th>\n",
       "      <th>product_id</th>\n",
       "      <th>quantity</th>\n",
       "      <th>name</th>\n",
       "      <th>date</th>\n",
       "    </tr>\n",
       "  </thead>\n",
       "  <tbody>\n",
       "    <tr>\n",
       "      <th>0</th>\n",
       "      <td>27</td>\n",
       "      <td>4</td>\n",
       "      <td>Petr_Ivanov</td>\n",
       "      <td>2020-12-05</td>\n",
       "    </tr>\n",
       "    <tr>\n",
       "      <th>1</th>\n",
       "      <td>89</td>\n",
       "      <td>1</td>\n",
       "      <td>Petr_Ivanov</td>\n",
       "      <td>2020-12-05</td>\n",
       "    </tr>\n",
       "    <tr>\n",
       "      <th>2</th>\n",
       "      <td>33</td>\n",
       "      <td>2</td>\n",
       "      <td>Petr_Ivanov</td>\n",
       "      <td>2020-12-05</td>\n",
       "    </tr>\n",
       "    <tr>\n",
       "      <th>3</th>\n",
       "      <td>8</td>\n",
       "      <td>3</td>\n",
       "      <td>Petr_Ivanov</td>\n",
       "      <td>2020-12-05</td>\n",
       "    </tr>\n",
       "    <tr>\n",
       "      <th>4</th>\n",
       "      <td>16</td>\n",
       "      <td>1</td>\n",
       "      <td>Petr_Ivanov</td>\n",
       "      <td>2020-12-05</td>\n",
       "    </tr>\n",
       "    <tr>\n",
       "      <th>...</th>\n",
       "      <td>...</td>\n",
       "      <td>...</td>\n",
       "      <td>...</td>\n",
       "      <td>...</td>\n",
       "    </tr>\n",
       "    <tr>\n",
       "      <th>0</th>\n",
       "      <td>18</td>\n",
       "      <td>4</td>\n",
       "      <td>Petr_Fedorov</td>\n",
       "      <td>2020-12-07</td>\n",
       "    </tr>\n",
       "    <tr>\n",
       "      <th>1</th>\n",
       "      <td>94</td>\n",
       "      <td>4</td>\n",
       "      <td>Petr_Fedorov</td>\n",
       "      <td>2020-12-07</td>\n",
       "    </tr>\n",
       "    <tr>\n",
       "      <th>0</th>\n",
       "      <td>95</td>\n",
       "      <td>2</td>\n",
       "      <td>Vasiliy_Ivanov</td>\n",
       "      <td>2020-12-07</td>\n",
       "    </tr>\n",
       "    <tr>\n",
       "      <th>1</th>\n",
       "      <td>83</td>\n",
       "      <td>3</td>\n",
       "      <td>Vasiliy_Ivanov</td>\n",
       "      <td>2020-12-07</td>\n",
       "    </tr>\n",
       "    <tr>\n",
       "      <th>2</th>\n",
       "      <td>64</td>\n",
       "      <td>1</td>\n",
       "      <td>Vasiliy_Ivanov</td>\n",
       "      <td>2020-12-07</td>\n",
       "    </tr>\n",
       "  </tbody>\n",
       "</table>\n",
       "<p>160 rows × 4 columns</p>\n",
       "</div>"
      ],
      "text/plain": [
       "    product_id  quantity            name        date\n",
       "0           27         4     Petr_Ivanov  2020-12-05\n",
       "1           89         1     Petr_Ivanov  2020-12-05\n",
       "2           33         2     Petr_Ivanov  2020-12-05\n",
       "3            8         3     Petr_Ivanov  2020-12-05\n",
       "4           16         1     Petr_Ivanov  2020-12-05\n",
       "..         ...       ...             ...         ...\n",
       "0           18         4    Petr_Fedorov  2020-12-07\n",
       "1           94         4    Petr_Fedorov  2020-12-07\n",
       "0           95         2  Vasiliy_Ivanov  2020-12-07\n",
       "1           83         3  Vasiliy_Ivanov  2020-12-07\n",
       "2           64         1  Vasiliy_Ivanov  2020-12-07\n",
       "\n",
       "[160 rows x 4 columns]"
      ]
     },
     "execution_count": 152,
     "metadata": {},
     "output_type": "execute_result"
    }
   ],
   "source": [
    "duble_2\n",
    "\n",
    "# считываем фрейм выше"
   ]
  },
  {
   "cell_type": "code",
   "execution_count": 157,
   "metadata": {},
   "outputs": [],
   "source": [
    "duble = data.drop_duplicates(subset=['product_id', 'name', 'date'])\n",
    "\n",
    "# Чтобы смотреть на повторность не по всем столбцам, а только по части, воспользуйтесь параметром subset"
   ]
  },
  {
   "cell_type": "code",
   "execution_count": 158,
   "metadata": {},
   "outputs": [
    {
     "data": {
      "text/html": [
       "<div>\n",
       "<style scoped>\n",
       "    .dataframe tbody tr th:only-of-type {\n",
       "        vertical-align: middle;\n",
       "    }\n",
       "\n",
       "    .dataframe tbody tr th {\n",
       "        vertical-align: top;\n",
       "    }\n",
       "\n",
       "    .dataframe thead th {\n",
       "        text-align: right;\n",
       "    }\n",
       "</style>\n",
       "<table border=\"1\" class=\"dataframe\">\n",
       "  <thead>\n",
       "    <tr style=\"text-align: right;\">\n",
       "      <th></th>\n",
       "      <th>product_id</th>\n",
       "      <th>quantity</th>\n",
       "      <th>name</th>\n",
       "      <th>date</th>\n",
       "    </tr>\n",
       "  </thead>\n",
       "  <tbody>\n",
       "    <tr>\n",
       "      <th>0</th>\n",
       "      <td>27</td>\n",
       "      <td>4</td>\n",
       "      <td>Petr_Ivanov</td>\n",
       "      <td>2020-12-05</td>\n",
       "    </tr>\n",
       "    <tr>\n",
       "      <th>1</th>\n",
       "      <td>89</td>\n",
       "      <td>1</td>\n",
       "      <td>Petr_Ivanov</td>\n",
       "      <td>2020-12-05</td>\n",
       "    </tr>\n",
       "    <tr>\n",
       "      <th>2</th>\n",
       "      <td>33</td>\n",
       "      <td>2</td>\n",
       "      <td>Petr_Ivanov</td>\n",
       "      <td>2020-12-05</td>\n",
       "    </tr>\n",
       "    <tr>\n",
       "      <th>3</th>\n",
       "      <td>8</td>\n",
       "      <td>3</td>\n",
       "      <td>Petr_Ivanov</td>\n",
       "      <td>2020-12-05</td>\n",
       "    </tr>\n",
       "    <tr>\n",
       "      <th>4</th>\n",
       "      <td>16</td>\n",
       "      <td>1</td>\n",
       "      <td>Petr_Ivanov</td>\n",
       "      <td>2020-12-05</td>\n",
       "    </tr>\n",
       "  </tbody>\n",
       "</table>\n",
       "</div>"
      ],
      "text/plain": [
       "   product_id  quantity         name        date\n",
       "0          27         4  Petr_Ivanov  2020-12-05\n",
       "1          89         1  Petr_Ivanov  2020-12-05\n",
       "2          33         2  Petr_Ivanov  2020-12-05\n",
       "3           8         3  Petr_Ivanov  2020-12-05\n",
       "4          16         1  Petr_Ivanov  2020-12-05"
      ]
     },
     "execution_count": 158,
     "metadata": {},
     "output_type": "execute_result"
    }
   ],
   "source": [
    "duble.head()\n",
    "\n",
    "# считываем фрейм выше"
   ]
  },
  {
   "cell_type": "code",
   "execution_count": null,
   "metadata": {},
   "outputs": [],
   "source": []
  },
  {
   "cell_type": "code",
   "execution_count": null,
   "metadata": {},
   "outputs": [],
   "source": []
  },
  {
   "cell_type": "code",
   "execution_count": null,
   "metadata": {},
   "outputs": [],
   "source": []
  },
  {
   "cell_type": "code",
   "execution_count": null,
   "metadata": {},
   "outputs": [],
   "source": []
  },
  {
   "cell_type": "code",
   "execution_count": null,
   "metadata": {},
   "outputs": [],
   "source": []
  }
 ],
 "metadata": {
  "kernelspec": {
   "display_name": "Python 3",
   "language": "python",
   "name": "python3"
  },
  "language_info": {
   "codemirror_mode": {
    "name": "ipython",
    "version": 3
   },
   "file_extension": ".py",
   "mimetype": "text/x-python",
   "name": "python",
   "nbconvert_exporter": "python",
   "pygments_lexer": "ipython3",
   "version": "3.7.3"
  }
 },
 "nbformat": 4,
 "nbformat_minor": 4
}
